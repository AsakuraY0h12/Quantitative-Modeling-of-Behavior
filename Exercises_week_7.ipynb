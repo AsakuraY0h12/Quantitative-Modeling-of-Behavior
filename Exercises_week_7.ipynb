{
  "cells": [
    {
      "cell_type": "code",
      "execution_count": 1,
      "metadata": {
        "colab": {
          "base_uri": "https://localhost:8080/"
        },
        "id": "BIjpJSprgWfo",
        "outputId": "aa101950-1913-4287-9340-6b36b10cf4bd"
      },
      "outputs": [
        {
          "name": "stdout",
          "output_type": "stream",
          "text": [
            "Looking in indexes: https://pypi.org/simple, https://us-python.pkg.dev/colab-wheels/public/simple/\n",
            "Collecting biogeme\n",
            "  Downloading biogeme-3.2.10.tar.gz (1.8 MB)\n",
            "\u001b[2K     \u001b[90m━━━━━━━━━━━━━━━━━━━━━━━━━━━━━━━━━━━━━━━━\u001b[0m \u001b[32m1.8/1.8 MB\u001b[0m \u001b[31m24.5 MB/s\u001b[0m eta \u001b[36m0:00:00\u001b[0m\n",
            "\u001b[?25h  Preparing metadata (setup.py) ... \u001b[?25l\u001b[?25hdone\n",
            "Building wheels for collected packages: biogeme\n",
            "  Building wheel for biogeme (setup.py) ... \u001b[?25l\u001b[?25hdone\n",
            "  Created wheel for biogeme: filename=biogeme-3.2.10-cp39-cp39-linux_x86_64.whl size=5565830 sha256=34c893acb71140ab41ff8ab15be84d85d6e7878424d873a329cdd124ef2ef23d\n",
            "  Stored in directory: /root/.cache/pip/wheels/60/67/3a/4ee182d88582b8f73093f6825b0e9be6ef158e9cf02e33110e\n",
            "Successfully built biogeme\n",
            "Installing collected packages: biogeme\n",
            "Successfully installed biogeme-3.2.10\n"
          ]
        }
      ],
      "source": [
        "pip install biogeme"
      ]
    },
    {
      "cell_type": "code",
      "execution_count": null,
      "metadata": {
        "id": "K50Cm_nc640P"
      },
      "outputs": [],
      "source": [
        "pip install aquirdturtle-collapsible-headings"
      ]
    },
    {
      "cell_type": "code",
      "execution_count": 2,
      "metadata": {
        "id": "1TJKB069gPvk"
      },
      "outputs": [],
      "source": [
        "# Import packages\n",
        "from biogeme import tools\n",
        "import pandas  as pd\n",
        "import numpy as np\n",
        "import biogeme.database as db\n",
        "import biogeme.biogeme as bio\n",
        "import biogeme.models as models\n",
        "import biogeme.expressions as exp\n",
        "import seaborn as sns\n",
        "import matplotlib.pyplot as plt\n",
        "import sys\n",
        "import biogeme.results as res\n",
        "from biogeme.expressions import Beta, DefineVariable\n",
        "\n",
        "pd.set_option('display.max_columns', 100)"
      ]
    },
    {
      "cell_type": "code",
      "execution_count": 3,
      "metadata": {
        "colab": {
          "base_uri": "https://localhost:8080/"
        },
        "id": "aw0YFDrW640Q",
        "outputId": "9816c2ce-5cf5-4fa5-a1a5-f1a005caeb8d"
      },
      "outputs": [
        {
          "name": "stdout",
          "output_type": "stream",
          "text": [
            "Biogeme version: 3.2.10\n"
          ]
        }
      ],
      "source": [
        "import pkg_resources\n",
        "try:\n",
        "    version = pkg_resources.get_distribution(\"biogeme\").version\n",
        "    print(\"Biogeme version:\", version)\n",
        "except pkg_resources.DistributionNotFound:\n",
        "    print(\"Biogeme is not installed\")"
      ]
    },
    {
      "cell_type": "code",
      "execution_count": 4,
      "metadata": {
        "colab": {
          "base_uri": "https://localhost:8080/",
          "height": 73
        },
        "id": "3odNHj0dgUP7",
        "outputId": "dd090353-74cd-4711-a431-f97053602660"
      },
      "outputs": [
        {
          "data": {
            "text/html": [
              "\n",
              "     <input type=\"file\" id=\"files-c215fa9e-7c44-4553-95d3-aff975606190\" name=\"files[]\" multiple disabled\n",
              "        style=\"border:none\" />\n",
              "     <output id=\"result-c215fa9e-7c44-4553-95d3-aff975606190\">\n",
              "      Upload widget is only available when the cell has been executed in the\n",
              "      current browser session. Please rerun this cell to enable.\n",
              "      </output>\n",
              "      <script>// Copyright 2017 Google LLC\n",
              "//\n",
              "// Licensed under the Apache License, Version 2.0 (the \"License\");\n",
              "// you may not use this file except in compliance with the License.\n",
              "// You may obtain a copy of the License at\n",
              "//\n",
              "//      http://www.apache.org/licenses/LICENSE-2.0\n",
              "//\n",
              "// Unless required by applicable law or agreed to in writing, software\n",
              "// distributed under the License is distributed on an \"AS IS\" BASIS,\n",
              "// WITHOUT WARRANTIES OR CONDITIONS OF ANY KIND, either express or implied.\n",
              "// See the License for the specific language governing permissions and\n",
              "// limitations under the License.\n",
              "\n",
              "/**\n",
              " * @fileoverview Helpers for google.colab Python module.\n",
              " */\n",
              "(function(scope) {\n",
              "function span(text, styleAttributes = {}) {\n",
              "  const element = document.createElement('span');\n",
              "  element.textContent = text;\n",
              "  for (const key of Object.keys(styleAttributes)) {\n",
              "    element.style[key] = styleAttributes[key];\n",
              "  }\n",
              "  return element;\n",
              "}\n",
              "\n",
              "// Max number of bytes which will be uploaded at a time.\n",
              "const MAX_PAYLOAD_SIZE = 100 * 1024;\n",
              "\n",
              "function _uploadFiles(inputId, outputId) {\n",
              "  const steps = uploadFilesStep(inputId, outputId);\n",
              "  const outputElement = document.getElementById(outputId);\n",
              "  // Cache steps on the outputElement to make it available for the next call\n",
              "  // to uploadFilesContinue from Python.\n",
              "  outputElement.steps = steps;\n",
              "\n",
              "  return _uploadFilesContinue(outputId);\n",
              "}\n",
              "\n",
              "// This is roughly an async generator (not supported in the browser yet),\n",
              "// where there are multiple asynchronous steps and the Python side is going\n",
              "// to poll for completion of each step.\n",
              "// This uses a Promise to block the python side on completion of each step,\n",
              "// then passes the result of the previous step as the input to the next step.\n",
              "function _uploadFilesContinue(outputId) {\n",
              "  const outputElement = document.getElementById(outputId);\n",
              "  const steps = outputElement.steps;\n",
              "\n",
              "  const next = steps.next(outputElement.lastPromiseValue);\n",
              "  return Promise.resolve(next.value.promise).then((value) => {\n",
              "    // Cache the last promise value to make it available to the next\n",
              "    // step of the generator.\n",
              "    outputElement.lastPromiseValue = value;\n",
              "    return next.value.response;\n",
              "  });\n",
              "}\n",
              "\n",
              "/**\n",
              " * Generator function which is called between each async step of the upload\n",
              " * process.\n",
              " * @param {string} inputId Element ID of the input file picker element.\n",
              " * @param {string} outputId Element ID of the output display.\n",
              " * @return {!Iterable<!Object>} Iterable of next steps.\n",
              " */\n",
              "function* uploadFilesStep(inputId, outputId) {\n",
              "  const inputElement = document.getElementById(inputId);\n",
              "  inputElement.disabled = false;\n",
              "\n",
              "  const outputElement = document.getElementById(outputId);\n",
              "  outputElement.innerHTML = '';\n",
              "\n",
              "  const pickedPromise = new Promise((resolve) => {\n",
              "    inputElement.addEventListener('change', (e) => {\n",
              "      resolve(e.target.files);\n",
              "    });\n",
              "  });\n",
              "\n",
              "  const cancel = document.createElement('button');\n",
              "  inputElement.parentElement.appendChild(cancel);\n",
              "  cancel.textContent = 'Cancel upload';\n",
              "  const cancelPromise = new Promise((resolve) => {\n",
              "    cancel.onclick = () => {\n",
              "      resolve(null);\n",
              "    };\n",
              "  });\n",
              "\n",
              "  // Wait for the user to pick the files.\n",
              "  const files = yield {\n",
              "    promise: Promise.race([pickedPromise, cancelPromise]),\n",
              "    response: {\n",
              "      action: 'starting',\n",
              "    }\n",
              "  };\n",
              "\n",
              "  cancel.remove();\n",
              "\n",
              "  // Disable the input element since further picks are not allowed.\n",
              "  inputElement.disabled = true;\n",
              "\n",
              "  if (!files) {\n",
              "    return {\n",
              "      response: {\n",
              "        action: 'complete',\n",
              "      }\n",
              "    };\n",
              "  }\n",
              "\n",
              "  for (const file of files) {\n",
              "    const li = document.createElement('li');\n",
              "    li.append(span(file.name, {fontWeight: 'bold'}));\n",
              "    li.append(span(\n",
              "        `(${file.type || 'n/a'}) - ${file.size} bytes, ` +\n",
              "        `last modified: ${\n",
              "            file.lastModifiedDate ? file.lastModifiedDate.toLocaleDateString() :\n",
              "                                    'n/a'} - `));\n",
              "    const percent = span('0% done');\n",
              "    li.appendChild(percent);\n",
              "\n",
              "    outputElement.appendChild(li);\n",
              "\n",
              "    const fileDataPromise = new Promise((resolve) => {\n",
              "      const reader = new FileReader();\n",
              "      reader.onload = (e) => {\n",
              "        resolve(e.target.result);\n",
              "      };\n",
              "      reader.readAsArrayBuffer(file);\n",
              "    });\n",
              "    // Wait for the data to be ready.\n",
              "    let fileData = yield {\n",
              "      promise: fileDataPromise,\n",
              "      response: {\n",
              "        action: 'continue',\n",
              "      }\n",
              "    };\n",
              "\n",
              "    // Use a chunked sending to avoid message size limits. See b/62115660.\n",
              "    let position = 0;\n",
              "    do {\n",
              "      const length = Math.min(fileData.byteLength - position, MAX_PAYLOAD_SIZE);\n",
              "      const chunk = new Uint8Array(fileData, position, length);\n",
              "      position += length;\n",
              "\n",
              "      const base64 = btoa(String.fromCharCode.apply(null, chunk));\n",
              "      yield {\n",
              "        response: {\n",
              "          action: 'append',\n",
              "          file: file.name,\n",
              "          data: base64,\n",
              "        },\n",
              "      };\n",
              "\n",
              "      let percentDone = fileData.byteLength === 0 ?\n",
              "          100 :\n",
              "          Math.round((position / fileData.byteLength) * 100);\n",
              "      percent.textContent = `${percentDone}% done`;\n",
              "\n",
              "    } while (position < fileData.byteLength);\n",
              "  }\n",
              "\n",
              "  // All done.\n",
              "  yield {\n",
              "    response: {\n",
              "      action: 'complete',\n",
              "    }\n",
              "  };\n",
              "}\n",
              "\n",
              "scope.google = scope.google || {};\n",
              "scope.google.colab = scope.google.colab || {};\n",
              "scope.google.colab._files = {\n",
              "  _uploadFiles,\n",
              "  _uploadFilesContinue,\n",
              "};\n",
              "})(self);\n",
              "</script> "
            ],
            "text/plain": [
              "<IPython.core.display.HTML object>"
            ]
          },
          "metadata": {},
          "output_type": "display_data"
        },
        {
          "name": "stdout",
          "output_type": "stream",
          "text": [
            "Saving dataset.csv to dataset.csv\n"
          ]
        }
      ],
      "source": [
        "from google.colab import files\n",
        "uploaded = files.upload()"
      ]
    },
    {
      "cell_type": "code",
      "execution_count": 5,
      "metadata": {
        "id": "H4dqAcTUgPvm"
      },
      "outputs": [],
      "source": [
        "# Read the data\n",
        "df = pd.read_csv('dataset.csv')\n"
      ]
    },
    {
      "cell_type": "code",
      "execution_count": 6,
      "metadata": {
        "id": "TOMvziBEvJHI"
      },
      "outputs": [],
      "source": [
        "df['choice'] = df['travel_mode'].astype('category').cat.codes\n",
        "\n",
        "for elem in set(df[\"purpose\"]):\n",
        "  df[elem] = np.where(df[\"purpose\"]==elem,1,0)\n",
        "\n",
        "for elem in set(df[\"fueltype\"]):\n",
        "  df[elem] = np.where(df[\"fueltype\"]==elem,1,0)\n",
        "\n",
        "for elem in set(df[\"faretype\"]):\n",
        "  df[elem] = np.where(df[\"faretype\"]==elem,1,0)"
      ]
    },
    {
      "cell_type": "code",
      "execution_count": 7,
      "metadata": {
        "id": "z4L7RWsCvPQC"
      },
      "outputs": [],
      "source": [
        "df.drop('faretype',inplace=True,axis=1)\n",
        "df.drop('purpose',inplace=True,axis=1)\n",
        "df.drop('fueltype',inplace=True,axis=1)\n",
        "df.drop('travel_mode',inplace=True,axis=1)"
      ]
    },
    {
      "cell_type": "code",
      "execution_count": 8,
      "metadata": {
        "id": "cMM9DP1pvP4h"
      },
      "outputs": [],
      "source": [
        "database = db.Database('dataset', df)\n",
        "globals().update(database.variables)"
      ]
    },
    {
      "cell_type": "markdown",
      "metadata": {
        "id": "8aD92pQAvTCN"
      },
      "source": [
        "### Model 1 Question 9 MNL\n"
      ]
    },
    {
      "cell_type": "markdown",
      "metadata": {
        "id": "0lOnyU9-shaB"
      },
      "source": [
        "# Question 15"
      ]
    },
    {
      "cell_type": "markdown",
      "metadata": {
        "id": "ZxezdlqpF81m"
      },
      "source": [
        "## Model 1"
      ]
    },
    {
      "cell_type": "code",
      "execution_count": 64,
      "metadata": {
        "id": "-qbEMaRAvSm4"
      },
      "outputs": [],
      "source": [
        "# Model 1\n",
        "b_0_cycling = Beta('b_0_cycling',0,None,None,0)\n",
        "b_0_driving = Beta('b_0_driving',0,None,None,0)\n",
        "b_0_pt = Beta('b_0_pt',0,None,None,0)\n",
        "\n",
        "\n",
        "b_1 = Beta('b_1',0,None,None,0)\n",
        "b_2 = Beta('b_2',0,None,None,0)\n",
        "b_3 = Beta('b_3',0,None,None,0)\n",
        "b_4 = Beta('b_4',0,None,None,0)\n",
        "\n",
        "x1=Beta('x1',0,None,None,0) \n",
        "\n",
        "V0 = b_0_cycling + b_3 * dur_cycling \n",
        "V1 = b_0_driving + b_3 * dur_driving  + b_2 * cost_driving_total\n",
        "V2 = b_0_pt + b_3 * dur_pt_total + b_2 * cost_transit\n",
        "V3 = b_3 * dur_walking\n",
        "\n",
        "V_1 = {0:V0, 1:V1, 2:V2, 3:V3}\n",
        "av_1 = {0:1, 1:1, 2:1, 3:1}"
      ]
    },
    {
      "cell_type": "code",
      "execution_count": 65,
      "metadata": {
        "id": "Mxy-jaUXvolA"
      },
      "outputs": [],
      "source": [
        "logprob = models.loglogit(V_1,av_1,choice)\n",
        "biogeme = bio.BIOGEME (database, logprob)\n",
        "biogeme.modelName='question 9'\n",
        "results_1 = biogeme.estimate()"
      ]
    },
    {
      "cell_type": "code",
      "execution_count": 66,
      "metadata": {
        "colab": {
          "base_uri": "https://localhost:8080/"
        },
        "id": "BzCYzwC7vwuB",
        "outputId": "4be6fbb6-f7ed-4d25-c94e-307c205f09ea"
      },
      "outputs": [
        {
          "name": "stdout",
          "output_type": "stream",
          "text": [
            "b_0_cycling=\t-3.8\n",
            "b_0_driving=\t-1.22\n",
            "b_0_pt    =\t-0.501\n",
            "b_2       =\t-0.171\n",
            "b_3       =\t-5.31\n",
            "                Value  Rob. Std err  Rob. t-test  Rob. p-value\n",
            "b_0_cycling -3.798184      0.026404  -143.847197           0.0\n",
            "b_0_driving -1.223662      0.019711   -62.080822           0.0\n",
            "b_0_pt      -0.501475      0.013372   -37.501191           0.0\n",
            "b_2         -0.171316      0.003359   -51.000922           0.0\n",
            "b_3         -5.311210      0.049513  -107.269715           0.0\n"
          ]
        }
      ],
      "source": [
        "# Print the estimated values\n",
        "betas = results_1.getBetaValues()\n",
        "for k,v in betas.items():\n",
        "    print(f\"{k:10}=\\t{v:.3g}\")\n",
        "\n",
        "# Get the results in a pandas table\n",
        "pandasResults = results_1.getEstimatedParameters()\n",
        "print(pandasResults)"
      ]
    },
    {
      "cell_type": "markdown",
      "metadata": {
        "id": "Om7SiYBWFQiS"
      },
      "source": [
        "## Model 1"
      ]
    },
    {
      "cell_type": "markdown",
      "metadata": {
        "id": "E0R5bW11vys9"
      },
      "source": [
        "### 1st nested model "
      ]
    },
    {
      "cell_type": "code",
      "execution_count": 88,
      "metadata": {
        "id": "HZzrfvOn640T"
      },
      "outputs": [],
      "source": [
        "database = db.Database('dataset', df)\n",
        "globals().update(database.variables)"
      ]
    },
    {
      "cell_type": "code",
      "execution_count": 89,
      "metadata": {
        "id": "MnjLwPE7wJER"
      },
      "outputs": [],
      "source": [
        "MU_1 = Beta('MU_1', 1, None, 10, 0)\n",
        "MU_2 = Beta('MU_2', 1, None, 10, 0)\n",
        "\n",
        "\n",
        "# Definition of nests:\n",
        "# 1: nests parameter\n",
        "# 2: list of alternatives\n",
        "Motorise = MU_1, [1, 2]\n",
        "Non_motorise = MU_2, [0, 3]\n",
        "nests = Motorise, Non_motorise"
      ]
    },
    {
      "cell_type": "code",
      "execution_count": 91,
      "metadata": {
        "id": "BugfAZCUgPvm"
      },
      "outputs": [],
      "source": [
        "nested1 = models.lognested(V_1, av_1, nests, choice)\n",
        "biogeme_nested = bio.BIOGEME (database, nested1)\n",
        "biogeme_nested.modelName='question 9'\n",
        "results_1_1= biogeme_nested.estimate()"
      ]
    },
    {
      "cell_type": "code",
      "execution_count": 92,
      "metadata": {
        "colab": {
          "base_uri": "https://localhost:8080/"
        },
        "id": "vShcWjlLw4YK",
        "outputId": "07098e49-6743-4533-ab09-5a85e30ca324"
      },
      "outputs": [
        {
          "name": "stdout",
          "output_type": "stream",
          "text": [
            "                 Value  Rob. Std err  Rob. t-test  Rob. p-value\n",
            "MU_1          0.345588      0.005680    60.841516           0.0\n",
            "MU_2          0.674056      0.011614    58.040045           0.0\n",
            "b_0_cycling  -5.773215      0.060279   -95.774255           0.0\n",
            "b_0_driving  -3.464072      0.059366   -58.351533           0.0\n",
            "b_0_pt       -2.233627      0.044187   -50.549941           0.0\n",
            "b_2          -0.404890      0.007216   -56.110258           0.0\n",
            "b_3         -10.154425      0.134864   -75.293790           0.0\n"
          ]
        }
      ],
      "source": [
        "# Estimate the parameters\n",
        "pandasResults = results_1_1.getEstimatedParameters()\n",
        "print(pandasResults)"
      ]
    },
    {
      "cell_type": "code",
      "execution_count": 93,
      "metadata": {
        "colab": {
          "base_uri": "https://localhost:8080/"
        },
        "id": "jF_EYLOKxXPv",
        "outputId": "fee32940-75df-40d8-e15c-b5053871f0b0"
      },
      "outputs": [
        {
          "name": "stdout",
          "output_type": "stream",
          "text": [
            "          0         1         2         3\n",
            "0  1.000000  0.000000  0.000000 -1.200939\n",
            "1  0.000000  1.000000 -7.373019  0.000000\n",
            "2  0.000000 -7.373019  1.000000  0.000000\n",
            "3 -1.200939  0.000000  0.000000  1.000000\n"
          ]
        }
      ],
      "source": [
        "corr = tools.calculate_correlation(\n",
        "    nests, results_1_1\n",
        ")\n",
        "print(corr)"
      ]
    },
    {
      "cell_type": "code",
      "execution_count": 94,
      "metadata": {
        "colab": {
          "base_uri": "https://localhost:8080/"
        },
        "id": "WADXJdYC640V",
        "outputId": "c5c9b4af-c5a7-4612-9f29-b620d43bd264"
      },
      "outputs": [
        {
          "name": "stdout",
          "output_type": "stream",
          "text": [
            "-72768.39929827087\n"
          ]
        }
      ],
      "source": [
        "NL1_model1 = results_1_1.data.logLike\n",
        "print(NL1_model1)"
      ]
    },
    {
      "cell_type": "code",
      "execution_count": 95,
      "metadata": {
        "colab": {
          "base_uri": "https://localhost:8080/"
        },
        "id": "4E5XDRLm640V",
        "outputId": "a151eb83-6e28-4370-a256-99ffc8cfbf01"
      },
      "outputs": [
        {
          "name": "stdout",
          "output_type": "stream",
          "text": [
            "LRTuple(message='H0 can be rejected at level 5.0%', statistic=4414.117207275587, threshold=5.991464547107979)\n",
            "4414.117207275587\n"
          ]
        }
      ],
      "source": [
        "# Ratio test \n",
        "LL_NL=-72768.39929187277\n",
        "LL_MNL=-74975.45789551057\n",
        "\n",
        "chi = -2*(LL_MNL - LL_NL)\n",
        "\n",
        "a = tools.likelihood_ratio_test((LL_NL,7), (LL_MNL,5), significance_level=0.05)\n",
        "\n",
        "print(a)\n",
        "print(chi)"
      ]
    },
    {
      "cell_type": "markdown",
      "metadata": {
        "id": "UVb0XoDH640V"
      },
      "source": [
        "Chisquare = 4414.117 for df =0. With this result we can reject the hypothesis that that the MNL is equally good at explaining the data as the NL model so we prefer the NL model. In the case of the Model 1 we would take this NL model because it has the best log likelihood compared to following NL models that are below (2nd and 3rd).\n",
        "Furtheremore, this improvement is better than the one of the best loglikelihood of the NL models for the Model 2, so this NL model is going to be the one that we choose as the best fit of our data."
      ]
    },
    {
      "cell_type": "markdown",
      "metadata": {
        "id": "fjApmUDZ7ogL"
      },
      "source": [
        "### 2nd nested model "
      ]
    },
    {
      "cell_type": "code",
      "execution_count": 74,
      "metadata": {
        "id": "y2hKGkQKx7a_"
      },
      "outputs": [],
      "source": [
        "MU_1 = Beta('MU_1', 1, None, 10, 0)\n",
        "MU_2 = Beta('MU_2', 1, None, 10, 0)\n",
        "\n",
        "# Definition of nests:\n",
        "# 1: nests parameter\n",
        "# 2: list of alternatives\n",
        "indiv = MU_1, [0,1, 3]\n",
        "rest = MU_2, [2]\n",
        "\n",
        "nests_2 = indiv, rest"
      ]
    },
    {
      "cell_type": "code",
      "execution_count": 96,
      "metadata": {
        "id": "pEHoXdCn7zFO"
      },
      "outputs": [],
      "source": [
        "nested2 = models.lognested(V_1, av_1, nests_2, choice)\n",
        "biogeme_nested = bio.BIOGEME (database, nested2)\n",
        "biogeme_nested.modelName='question 9.2'\n",
        "results_1_2 = biogeme_nested.estimate()"
      ]
    },
    {
      "cell_type": "code",
      "execution_count": 97,
      "metadata": {
        "colab": {
          "base_uri": "https://localhost:8080/"
        },
        "id": "Tpmcmq7O8COs",
        "outputId": "d3d18f7a-e792-4366-e503-155b1cec7810"
      },
      "outputs": [
        {
          "name": "stdout",
          "output_type": "stream",
          "text": [
            "                Value   Rob. Std err    Rob. t-test  Rob. p-value\n",
            "MU_1         1.295843   3.271422e-02   3.961099e+01           0.0\n",
            "MU_2         0.674055  1.797693e+308  3.749554e-309           1.0\n",
            "b_0_cycling -3.091013   6.661548e-02  -4.640082e+01           0.0\n",
            "b_0_driving -1.070885   2.256786e-02  -4.745178e+01           0.0\n",
            "b_0_pt      -0.548725   1.182804e-02  -4.639189e+01           0.0\n",
            "b_2         -0.158112   3.366333e-03  -4.696872e+01           0.0\n",
            "b_3         -4.745108   6.984132e-02  -6.794127e+01           0.0\n"
          ]
        }
      ],
      "source": [
        " # Estimate the parameters\n",
        "pandasResults2 = results_1_2.getEstimatedParameters()\n",
        "print(pandasResults2)"
      ]
    },
    {
      "cell_type": "code",
      "execution_count": 98,
      "metadata": {
        "colab": {
          "base_uri": "https://localhost:8080/"
        },
        "id": "74u25I_t8Gfk",
        "outputId": "ae1560e5-5653-4e9e-e3b2-64afd3e93254"
      },
      "outputs": [
        {
          "name": "stdout",
          "output_type": "stream",
          "text": [
            "          0         1    2         3\n",
            "0  1.000000  0.404481  0.0  0.404481\n",
            "1  0.404481  1.000000  0.0  0.404481\n",
            "2  0.000000  0.000000  1.0  0.000000\n",
            "3  0.404481  0.404481  0.0  1.000000\n"
          ]
        }
      ],
      "source": [
        "corr = tools.calculate_correlation(\n",
        "    nests_2, results_1_2\n",
        ")\n",
        "print(corr)"
      ]
    },
    {
      "cell_type": "code",
      "execution_count": 99,
      "metadata": {
        "colab": {
          "base_uri": "https://localhost:8080/"
        },
        "id": "nBYam2qf640W",
        "outputId": "deb7f20b-69f3-4936-fd15-1e7e48c42536"
      },
      "outputs": [
        {
          "name": "stdout",
          "output_type": "stream",
          "text": [
            "-74885.48502082971\n"
          ]
        }
      ],
      "source": [
        "NL2_model1 = results_1_2.data.logLike\n",
        "print(NL2_model1)"
      ]
    },
    {
      "cell_type": "markdown",
      "metadata": {
        "id": "74bZVmsk886o"
      },
      "source": [
        "### 3rd nested model"
      ]
    },
    {
      "cell_type": "code",
      "execution_count": 79,
      "metadata": {
        "id": "mURhuEPn8_7C"
      },
      "outputs": [],
      "source": [
        "MU_21 = Beta('MU_21', 1, None, 10, 0)\n",
        "MU_22 = Beta('MU_22', 1, None, 10, 0)\n",
        "MU_23 = Beta('MU_23', 1, None, 10, 0)\n",
        "\n",
        "# Definition of nests:\n",
        "# 1: nests parameter\n",
        "# 2: list of alternatives\n",
        "ecological = MU_21, [0, 3]\n",
        "PT = MU_22, [2]\n",
        "drive = MU_23, [1]\n",
        "\n",
        "nests_3 = ecological, PT,drive"
      ]
    },
    {
      "cell_type": "code",
      "execution_count": 100,
      "metadata": {
        "id": "HDZki6Nt9Dzu"
      },
      "outputs": [],
      "source": [
        "nested3 = models.lognested(V_1, av_1, nests_3, choice)\n",
        "biogeme_nested = bio.BIOGEME (database, nested3)\n",
        "biogeme_nested.modelName='question 9.3'\n",
        "results_1_3 = biogeme_nested.estimate()"
      ]
    },
    {
      "cell_type": "code",
      "execution_count": 101,
      "metadata": {
        "colab": {
          "base_uri": "https://localhost:8080/"
        },
        "id": "0v32Cd9F9eYF",
        "outputId": "ea5d1249-e7eb-45e1-bb50-8c4f27ee27c7"
      },
      "outputs": [
        {
          "name": "stdout",
          "output_type": "stream",
          "text": [
            "                Value   Rob. Std err    Rob. t-test  Rob. p-value\n",
            "MU_21        0.945701   1.728462e-02   5.471344e+01           0.0\n",
            "MU_22        1.000000  1.797693e+308  5.562685e-309           1.0\n",
            "MU_23        1.000000   6.369081e-17   1.570085e+16           0.0\n",
            "b_0_cycling -3.891089   4.126404e-02  -9.429735e+01           0.0\n",
            "b_0_driving -1.225501   1.976414e-02  -6.200629e+01           0.0\n",
            "b_0_pt      -0.499957   1.345220e-02  -3.716544e+01           0.0\n",
            "b_2         -0.172556   3.417707e-03  -5.048877e+01           0.0\n",
            "b_3         -5.328377   4.954192e-02  -1.075529e+02           0.0\n"
          ]
        }
      ],
      "source": [
        "# Estimate the parameters\n",
        "pandasResults = results_1_3.getEstimatedParameters()\n",
        "print(pandasResults)"
      ]
    },
    {
      "cell_type": "code",
      "execution_count": 102,
      "metadata": {
        "colab": {
          "base_uri": "https://localhost:8080/"
        },
        "id": "Em7shMnM9hMs",
        "outputId": "86286cd4-cdaa-4704-fb79-12a8d3d96bfe"
      },
      "outputs": [
        {
          "name": "stdout",
          "output_type": "stream",
          "text": [
            "         0    1    2        3\n",
            "0  1.00000  0.0  0.0 -0.11813\n",
            "1  0.00000  1.0  0.0  0.00000\n",
            "2  0.00000  0.0  1.0  0.00000\n",
            "3 -0.11813  0.0  0.0  1.00000\n"
          ]
        }
      ],
      "source": [
        "corr = tools.calculate_correlation(\n",
        "    nests_3, results_1_3\n",
        ")\n",
        "print(corr)"
      ]
    },
    {
      "cell_type": "code",
      "execution_count": 103,
      "metadata": {
        "colab": {
          "base_uri": "https://localhost:8080/"
        },
        "id": "HN71kXBo640X",
        "outputId": "3fb469d7-1d15-442c-81a8-604d3e86c243"
      },
      "outputs": [
        {
          "name": "stdout",
          "output_type": "stream",
          "text": [
            "-74970.32496794095\n"
          ]
        }
      ],
      "source": [
        "NL3_model1 = results_1_3.data.logLike\n",
        "print(NL3_model1)"
      ]
    },
    {
      "cell_type": "markdown",
      "metadata": {
        "id": "I1Mr4Me4FJqW"
      },
      "source": [
        "## Model 2"
      ]
    },
    {
      "cell_type": "code",
      "execution_count": 104,
      "metadata": {
        "id": "JON2MaYB640Y"
      },
      "outputs": [],
      "source": [
        "#Model 2\n",
        "from biogeme.expressions import Beta, DefineVariable, Derive, log\n",
        "\n",
        "database = db.Database('dataset', df)\n",
        "globals().update(database.variables)\n",
        "\n",
        "b_0_cycling = Beta('b_0_cycling',0,None,None,0)\n",
        "b_0_driving = Beta('b_0_driving',0,None,None,0)\n",
        "b_0_pt = Beta('b_0_pt',0,None,None,0)\n",
        "\n",
        "b_1 = Beta('b_1',0,None,None,0)\n",
        "b_2 = Beta('b_2',0,None,None,0)\n",
        "b_3 = Beta('b_3',0,None,None,0)\n",
        "b_4 = Beta('b_4',0,None,None,0)\n",
        "x1=Beta('x1',0,None,None,0) \n",
        "\n",
        "EPSILON = 0.01\n",
        "\n",
        "V0 = b_0_cycling + b_3 * log(dur_cycling)\n",
        "V1 = b_0_driving + b_3 * log(dur_driving)+ b_2 * log(cost_driving_total + EPSILON)\n",
        "V2 = b_0_pt + b_3 * log(dur_pt_total) + b_2 * log(cost_transit + EPSILON)\n",
        "V3 = b_3 * log(dur_walking)\n",
        "\n",
        "V_2 = {0:V0, 1:V1, 2:V2, 3:V3}\n",
        "av_2 = {0:1, 1:1, 2:1, 3:1}"
      ]
    },
    {
      "cell_type": "code",
      "execution_count": 87,
      "metadata": {
        "id": "2z3F7ytk640Y"
      },
      "outputs": [],
      "source": [
        "logprob = models.loglogit(V_2,av_2,choice)\n",
        "biogeme = bio.BIOGEME (database, logprob)\n",
        "biogeme.modelName='question 9.2'\n",
        "results_2 = biogeme.estimate()"
      ]
    },
    {
      "cell_type": "code",
      "execution_count": 105,
      "metadata": {
        "colab": {
          "base_uri": "https://localhost:8080/"
        },
        "id": "WetOXO9f640Y",
        "outputId": "4f6dfb9f-0379-4cbb-9c65-0846f47c8c17"
      },
      "outputs": [
        {
          "name": "stdout",
          "output_type": "stream",
          "text": [
            "b_0_cycling=\t-5.38\n",
            "b_0_driving=\t-3.14\n",
            "b_0_pt    =\t-1.45\n",
            "b_2       =\t-0.0308\n",
            "b_3       =\t-3.2\n",
            "                Value  Rob. Std err  Rob. t-test  Rob. p-value\n",
            "b_0_cycling -5.381965      0.035986  -149.555316           0.0\n",
            "b_0_driving -3.144940      0.030063  -104.612872           0.0\n",
            "b_0_pt      -1.445711      0.018449   -78.363526           0.0\n",
            "b_2         -0.030807      0.003303    -9.327213           0.0\n",
            "b_3         -3.204735      0.022288  -143.787861           0.0\n"
          ]
        }
      ],
      "source": [
        "# Print the estimated values\n",
        "betas = results_2.getBetaValues()\n",
        "for k,v in betas.items():\n",
        "    print(f\"{k:10}=\\t{v:.3g}\")\n",
        "\n",
        "# Get the results in a pandas table\n",
        "pandasResults = results_2.getEstimatedParameters()\n",
        "print(pandasResults)"
      ]
    },
    {
      "cell_type": "markdown",
      "metadata": {
        "id": "I6_u3m5m640Y"
      },
      "source": [
        "### 1st nested model"
      ]
    },
    {
      "cell_type": "code",
      "execution_count": 32,
      "metadata": {
        "id": "M_hPmkoN640Y"
      },
      "outputs": [],
      "source": [
        "database = db.Database('dataset', df)\n",
        "globals().update(database.variables)"
      ]
    },
    {
      "cell_type": "code",
      "execution_count": 106,
      "metadata": {
        "id": "DV5XucQF640Y"
      },
      "outputs": [],
      "source": [
        "MU_1 = Beta('MU_1', 1, None, 10, 0)\n",
        "MU_2 = Beta('MU_2', 1, None, 10, 0)\n",
        "\n",
        "# Definition of nests:\n",
        "# 1: nests parameter\n",
        "# 2: list of alternatives\n",
        "Motorise = MU_1, [1, 2]\n",
        "Non_motorise = MU_2, [0, 3]\n",
        "nests = Motorise, Non_motorise"
      ]
    },
    {
      "cell_type": "code",
      "execution_count": 107,
      "metadata": {
        "id": "G7UtpKQp640Y"
      },
      "outputs": [],
      "source": [
        "nested1 = models.lognested(V_2, av_2, nests, choice)\n",
        "biogeme_nested = bio.BIOGEME (database, nested1)\n",
        "biogeme_nested.modelName='question 9.4'\n",
        "results_2_1 = biogeme_nested.estimate()"
      ]
    },
    {
      "cell_type": "code",
      "execution_count": 108,
      "metadata": {
        "colab": {
          "base_uri": "https://localhost:8080/"
        },
        "id": "QDyBKNJp640Z",
        "outputId": "33ec294a-8289-4b06-db64-3080068c8025"
      },
      "outputs": [
        {
          "name": "stdout",
          "output_type": "stream",
          "text": [
            "                Value  Rob. Std err  Rob. t-test  Rob. p-value\n",
            "MU_1         0.615769      0.009299    66.219850  0.000000e+00\n",
            "MU_2         0.366444      0.018191    20.144663  0.000000e+00\n",
            "b_0_cycling -9.723305      0.271100   -35.866113  0.000000e+00\n",
            "b_0_driving -4.570654      0.064519   -70.842321  0.000000e+00\n",
            "b_0_pt      -2.301311      0.044114   -52.167500  0.000000e+00\n",
            "b_2         -0.028190      0.004603    -6.124240  9.111731e-10\n",
            "b_3         -4.323597      0.043531   -99.321934  0.000000e+00\n"
          ]
        }
      ],
      "source": [
        "# Estimate the parameters\n",
        "pandasResults = results_2_1.getEstimatedParameters()\n",
        "print(pandasResults)"
      ]
    },
    {
      "cell_type": "code",
      "execution_count": 109,
      "metadata": {
        "colab": {
          "base_uri": "https://localhost:8080/"
        },
        "id": "cM9F-fYy640Z",
        "outputId": "263d5896-955a-4fd4-e32c-6b80d3cdc4c5"
      },
      "outputs": [
        {
          "name": "stdout",
          "output_type": "stream",
          "text": [
            "          0         1         2         3\n",
            "0  1.000000  0.000000  0.000000 -6.447046\n",
            "1  0.000000  1.000000 -1.637328  0.000000\n",
            "2  0.000000 -1.637328  1.000000  0.000000\n",
            "3 -6.447046  0.000000  0.000000  1.000000\n"
          ]
        }
      ],
      "source": [
        "corr = tools.calculate_correlation(\n",
        "    nests, results_2_1\n",
        ")\n",
        "print(corr)"
      ]
    },
    {
      "cell_type": "code",
      "execution_count": 110,
      "metadata": {
        "colab": {
          "base_uri": "https://localhost:8080/"
        },
        "id": "Cvmzzxbe640Z",
        "outputId": "fb792416-6879-457b-edda-fdfdd404d28d"
      },
      "outputs": [
        {
          "name": "stdout",
          "output_type": "stream",
          "text": [
            "-77414.01132258045\n"
          ]
        }
      ],
      "source": [
        "NL1_model1 = results_2_1.data.logLike\n",
        "print(NL1_model1)"
      ]
    },
    {
      "cell_type": "code",
      "execution_count": 111,
      "metadata": {
        "colab": {
          "base_uri": "https://localhost:8080/"
        },
        "id": "IXZLCK6g640Z",
        "outputId": "ad7b86da-f722-40f4-8f3f-0a5b600de0da"
      },
      "outputs": [
        {
          "name": "stdout",
          "output_type": "stream",
          "text": [
            "LRTuple(message='H0 can be rejected at level 5.0%', statistic=1334.1834493625793, threshold=5.991464547107979)\n",
            "1334.1834493625793\n"
          ]
        }
      ],
      "source": [
        "# Ratio test \n",
        "LL_NL=-77414.0111245264\n",
        "LL_MNL=-78081.10284920769\n",
        "\n",
        "chi = -2*(LL_MNL - LL_NL)\n",
        "\n",
        "a = tools.likelihood_ratio_test((LL_NL,7), (LL_MNL,5), significance_level=0.05)\n",
        "\n",
        "print(a)\n",
        "print(chi)"
      ]
    },
    {
      "cell_type": "markdown",
      "metadata": {
        "id": "Q6Ae07DG640Z"
      },
      "source": [
        "### 2nd nested model"
      ]
    },
    {
      "cell_type": "code",
      "execution_count": 112,
      "metadata": {
        "id": "ZHvnxZ1Q640Z"
      },
      "outputs": [],
      "source": [
        "MU_1 = Beta('MU_1', 1, None, 10, 0)\n",
        "MU_2 = Beta('MU_2', 1, None, 10, 0)\n",
        "\n",
        "# Definition of nests:\n",
        "# 1: nests parameter\n",
        "# 2: list of alternatives\n",
        "indiv = MU_1, [0,1, 3]\n",
        "rest = MU_2, [ 2]\n",
        "\n",
        "nests_2 = indiv, rest"
      ]
    },
    {
      "cell_type": "code",
      "execution_count": 113,
      "metadata": {
        "id": "TqPoCfH2640Z"
      },
      "outputs": [],
      "source": [
        "nested2 = models.lognested(V_2, av_2, nests_2, choice)\n",
        "biogeme_nested = bio.BIOGEME (database, nested2)\n",
        "biogeme_nested.modelName='question 9.5'\n",
        "results_2_2 = biogeme_nested.estimate()"
      ]
    },
    {
      "cell_type": "code",
      "execution_count": 114,
      "metadata": {
        "colab": {
          "base_uri": "https://localhost:8080/"
        },
        "id": "DWCZLriS640a",
        "outputId": "11a7d294-c4eb-4370-ff1e-79183a502f1e"
      },
      "outputs": [
        {
          "name": "stdout",
          "output_type": "stream",
          "text": [
            "                Value  Rob. Std err  Rob. t-test  Rob. p-value\n",
            "MU_1         1.180009      0.018845    62.615039      0.000000\n",
            "MU_2         0.537902      0.018100    29.718904      0.000000\n",
            "b_0_cycling -7.466573      0.159234   -46.890594      0.000000\n",
            "b_0_driving -3.244856      0.033746   -96.156411      0.000000\n",
            "b_0_pt      -1.641061      0.019857   -82.645377      0.000000\n",
            "b_2         -0.002661      0.003857    -0.689712      0.490375\n",
            "b_3         -3.206712      0.030127  -106.441313      0.000000\n"
          ]
        }
      ],
      "source": [
        "# Estimate the parameters\n",
        "pandasResults2 = results_2_2.getEstimatedParameters()\n",
        "print(pandasResults2)"
      ]
    },
    {
      "cell_type": "code",
      "execution_count": 115,
      "metadata": {
        "colab": {
          "base_uri": "https://localhost:8080/"
        },
        "id": "9Yw7RYOr640a",
        "outputId": "ff41e9e0-dabb-4b47-c721-9f8e4eb8ea6c"
      },
      "outputs": [
        {
          "name": "stdout",
          "output_type": "stream",
          "text": [
            "          0         1         2         3\n",
            "0  1.000000  0.000000 -2.456162  0.000000\n",
            "1  0.000000  1.000000  0.000000  0.281827\n",
            "2 -2.456162  0.000000  1.000000  0.000000\n",
            "3  0.000000  0.281827  0.000000  1.000000\n"
          ]
        }
      ],
      "source": [
        "corr = tools.calculate_correlation(\n",
        "    nests_2, results_2_2\n",
        ")\n",
        "print(corr)"
      ]
    },
    {
      "cell_type": "code",
      "execution_count": 116,
      "metadata": {
        "colab": {
          "base_uri": "https://localhost:8080/"
        },
        "id": "5sMfi0zU640a",
        "outputId": "366208e3-dc57-46e7-9770-3d6ee4b2024d"
      },
      "outputs": [
        {
          "name": "stdout",
          "output_type": "stream",
          "text": [
            "-77705.90655531327\n"
          ]
        }
      ],
      "source": [
        "NL2_model1 = results_2_2.data.logLike\n",
        "print(NL2_model1)"
      ]
    },
    {
      "cell_type": "markdown",
      "metadata": {
        "id": "GycVmWF1640a"
      },
      "source": [
        "### 3rd nested model"
      ]
    },
    {
      "cell_type": "code",
      "execution_count": 117,
      "metadata": {
        "id": "X1xN7uXn640a"
      },
      "outputs": [],
      "source": [
        "MU_21 = Beta('MU_21', 1, None, 10, 0)\n",
        "MU_22 = Beta('MU_22', 1, None, 10, 0)\n",
        "MU_23 = Beta('MU_23', 1, None, 10, 0)\n",
        "\n",
        "# Definition of nests:\n",
        "# 1: nests parameter\n",
        "# 2: list of alternatives\n",
        "ecological = MU_21, [0, 3]\n",
        "PT = MU_22, [2]\n",
        "drive = MU_23, [1]\n",
        "\n",
        "nests_3 = ecological, PT,drive"
      ]
    },
    {
      "cell_type": "code",
      "execution_count": 119,
      "metadata": {
        "id": "lAp-YWa3640a"
      },
      "outputs": [],
      "source": [
        "nested3 = models.lognested(V_2, av_2, nests_3, choice)\n",
        "biogeme_nested = bio.BIOGEME (database, nested3)\n",
        "biogeme_nested.modelName='question 9.6'\n",
        "results_2_3 = biogeme_nested.estimate()"
      ]
    },
    {
      "cell_type": "code",
      "execution_count": 120,
      "metadata": {
        "colab": {
          "base_uri": "https://localhost:8080/"
        },
        "id": "ZjO3Bn3D640b",
        "outputId": "940a0a9f-88af-4ddc-e08a-ed43ee07e06b"
      },
      "outputs": [
        {
          "name": "stdout",
          "output_type": "stream",
          "text": [
            "                Value   Rob. Std err    Rob. t-test  Rob. p-value\n",
            "MU_21        0.474963   2.384080e-02   1.992229e+01           0.0\n",
            "MU_22        1.000000  1.797693e+308  5.562685e-309           1.0\n",
            "MU_23        1.000000  1.797693e+308  5.562685e-309           1.0\n",
            "b_0_cycling -7.442407   2.052914e-01  -3.625289e+01           0.0\n",
            "b_0_driving -3.065034   3.369197e-02  -9.097224e+01           0.0\n",
            "b_0_pt      -1.327074   2.376634e-02  -5.583837e+01           0.0\n",
            "b_2         -0.031265   3.329917e-03  -9.389235e+00           0.0\n",
            "b_3         -3.269705   2.311371e-02  -1.414617e+02           0.0\n"
          ]
        }
      ],
      "source": [
        "# Estimate the parameters\n",
        "pandasResults = results_2_3.getEstimatedParameters()\n",
        "print(pandasResults)"
      ]
    },
    {
      "cell_type": "code",
      "execution_count": 121,
      "metadata": {
        "colab": {
          "base_uri": "https://localhost:8080/"
        },
        "id": "BT5lx7xW640b",
        "outputId": "bdcc6f88-5df9-40db-9935-df544fac0c2e"
      },
      "outputs": [
        {
          "name": "stdout",
          "output_type": "stream",
          "text": [
            "          0    1    2         3\n",
            "0  1.000000  0.0  0.0 -3.432819\n",
            "1  0.000000  1.0  0.0  0.000000\n",
            "2  0.000000  0.0  1.0  0.000000\n",
            "3 -3.432819  0.0  0.0  1.000000\n"
          ]
        }
      ],
      "source": [
        "corr = tools.calculate_correlation(\n",
        "    nests_3, results_2_3\n",
        ")\n",
        "print(corr)"
      ]
    },
    {
      "cell_type": "code",
      "execution_count": 122,
      "metadata": {
        "colab": {
          "base_uri": "https://localhost:8080/"
        },
        "id": "dhSr_mPE640b",
        "outputId": "7a11ff9c-ae39-4f83-f009-a450c8699e39"
      },
      "outputs": [
        {
          "name": "stdout",
          "output_type": "stream",
          "text": [
            "-77957.19899058618\n"
          ]
        }
      ],
      "source": [
        "NL3_model1 = results_2_3.data.logLike\n",
        "print(NL3_model1)"
      ]
    },
    {
      "cell_type": "markdown",
      "metadata": {
        "id": "MdZjM7vP640b"
      },
      "source": [
        "## QUESTION 17"
      ]
    },
    {
      "cell_type": "markdown",
      "metadata": {
        "id": "kJJZwoPMM4H3"
      },
      "source": [
        "## Model 1 - Nested model 1 "
      ]
    },
    {
      "cell_type": "code",
      "execution_count": 129,
      "metadata": {
        "id": "0WvI8T1LLQ7x"
      },
      "outputs": [],
      "source": [
        "#Calculation of probabilities\n",
        "prob_0 = models.nested(V_1, av_1, nests, 0)\n",
        "prob_1 = models.nested(V_1, av_1, nests, 1)\n",
        "prob_2 = models.nested(V_1, av_1, nests, 2)\n",
        "prob_3 = models.nested(V_1, av_1, nests, 3)\n",
        "\n",
        "elasdir_0_time = Derive(prob_0,'dur_cycling') * dur_cycling / prob_0 \n",
        "elasdir_1_time = Derive(prob_1,'dur_driving') * dur_driving / prob_1 \n",
        "elasdir_2_time = Derive(prob_2,'dur_pt_total') * dur_pt_total / prob_2 \n",
        "elasdir_3_time = Derive(prob_3,'dur_walking') * dur_walking / prob_3 \n",
        "elasdir_1_cost = Derive(prob_1,'cost_driving_total') * cost_driving_total / prob_1 \n",
        "elasdir_2_cost = Derive(prob_2,'cost_transit') * cost_transit / prob_2 \n",
        "\n",
        "elastcross_1_time = Derive(prob_1,'dur_pt_total') * dur_pt_total / prob_1 \n",
        "elastcross_2_time = Derive(prob_2,'dur_driving') * dur_driving / prob_2 \n",
        "elastcross_1_cost = Derive(prob_1,'cost_transit') * cost_transit / prob_1 \n",
        "elastcross_2_cost = Derive(prob_2,'cost_driving_total') * cost_driving_total / prob_2 \n",
        "\n",
        "simulate_1_1 = {\n",
        "    'prob.0': prob_0,\n",
        "    'prob.1': prob_1,\n",
        "    'prob.2': prob_2,\n",
        "    'prob.3': prob_3,\n",
        "    'elasdir_0_time': elasdir_0_time,\n",
        "    'elasdir_1_time': elasdir_1_time,\n",
        "    'elasdir_2_time': elasdir_2_time,\n",
        "    'elasdir_3_time': elasdir_3_time,\n",
        "    'elasdir_1_cost': elasdir_1_cost,\n",
        "    'elasdir_2_cost': elasdir_2_cost,\n",
        "    'elascross_1_time': elastcross_1_time,\n",
        "    'elascross_2_time': elastcross_2_time,\n",
        "    'elascross_1_cost': elastcross_1_cost,\n",
        "    'elascross_2_cost': elastcross_2_cost\n",
        "}\n",
        "\n",
        "biosim = bio.BIOGEME(database, simulate_1_1)\n",
        "biosim.modelName = 'model1_directelasticity'\n",
        "\n",
        "# Perform the simulation\n",
        "simresults_1_1 = biosim.simulate(results_1_1.getBetaValues())"
      ]
    },
    {
      "cell_type": "code",
      "execution_count": 130,
      "metadata": {
        "colab": {
          "base_uri": "https://localhost:8080/"
        },
        "id": "aAHsk8drLQ_W",
        "outputId": "b7c56777-1117-42cc-93e1-a3e2b7cf35f2"
      },
      "outputs": [
        {
          "name": "stdout",
          "output_type": "stream",
          "text": [
            "Elasticity of the share of alternative 0 with respect to travel time: -2.400 \n",
            "Elasticity of the share of alternative 1 with respect to travel time: -0.501 \n",
            "Elasticity of the share of alternative 2 with respect to travel time: -1.034 \n",
            "Elasticity of the share of alternative 3 with respect to travel time: -1.790 \n",
            "Elasticity of the share of alternative 1 with respect to travel cost: -0.099 \n",
            "Elasticity of the share of alternative 2 with respect to travel cost: -0.140 \n",
            "\n",
            "Elasticity of the share of alternative 1 with respect to travel time of pt: 0.487 \n",
            "Elasticity of the share of alternative 2 with respect to travel time of driving: 0.392 \n",
            "Elasticity of the share of alternative 1 with respect to travel cost of pt: 0.056 \n",
            "Elasticity of the share of alternative 2 with respect to travel cost driving: 0.075 \n",
            "\n"
          ]
        }
      ],
      "source": [
        "# Average Elast for the population\n",
        "avg_Elast_time_0 = sum(simresults_1_1['elasdir_0_time']*simresults_1_1['prob.0']/(simresults_1_1['prob.0'].sum()))\n",
        "avg_Elast_time_1 = sum(simresults_1_1['elasdir_1_time']*simresults_1_1['prob.1']/(simresults_1_1['prob.1'].sum()))\n",
        "avg_Elast_time_2 = sum(simresults_1_1['elasdir_2_time']*simresults_1_1['prob.2']/(simresults_1_1['prob.2'].sum()))\n",
        "avg_Elast_time_3 = sum(simresults_1_1['elasdir_3_time']*simresults_1_1['prob.3']/(simresults_1_1['prob.3'].sum()))\n",
        "avg_Elast_cost_1 = sum(simresults_1_1['elasdir_1_cost']*simresults_1_1['prob.1']/(simresults_1_1['prob.1'].sum()))\n",
        "avg_Elast_cost_2 = sum(simresults_1_1['elasdir_2_cost']*simresults_1_1['prob.2']/(simresults_1_1['prob.2'].sum()))\n",
        "\n",
        "print(\n",
        "f'Elasticity of the share of alternative 0 with respect to travel time: {avg_Elast_time_0:.3f} \\n'\n",
        "f'Elasticity of the share of alternative 1 with respect to travel time: {avg_Elast_time_1:.3f} \\n'\n",
        "f'Elasticity of the share of alternative 2 with respect to travel time: {avg_Elast_time_2:.3f} \\n'\n",
        "f'Elasticity of the share of alternative 3 with respect to travel time: {avg_Elast_time_3:.3f} \\n'\n",
        "f'Elasticity of the share of alternative 1 with respect to travel cost: {avg_Elast_cost_1:.3f} \\n'\n",
        "f'Elasticity of the share of alternative 2 with respect to travel cost: {avg_Elast_cost_2:.3f} \\n')\n",
        "\n",
        "# Average Elast for the population\n",
        "avg_Elastcross_time_1 = sum(simresults_1_1['elascross_1_time']*simresults_1_1['prob.1']/(simresults_1_1['prob.1'].sum()))\n",
        "avg_Elastcross_time_2 = sum(simresults_1_1['elascross_2_time']*simresults_1_1['prob.2']/(simresults_1_1['prob.2'].sum()))\n",
        "avg_Elastcross_cost_1 = sum(simresults_1_1['elascross_1_cost']*simresults_1_1['prob.1']/(simresults_1_1['prob.1'].sum()))\n",
        "avg_Elastcross_cost_2 = sum(simresults_1_1['elascross_2_cost']*simresults_1_1['prob.2']/(simresults_1_1['prob.2'].sum()))\n",
        "\n",
        "print(\n",
        "f'Elasticity of the share of alternative 1 with respect to travel time of pt: {avg_Elastcross_time_1:.3f} \\n'\n",
        "f'Elasticity of the share of alternative 2 with respect to travel time of driving: {avg_Elastcross_time_2:.3f} \\n'\n",
        "f'Elasticity of the share of alternative 1 with respect to travel cost of pt: {avg_Elastcross_cost_1:.3f} \\n'\n",
        "f'Elasticity of the share of alternative 2 with respect to travel cost driving: {avg_Elastcross_cost_2:.3f} \\n')"
      ]
    },
    {
      "cell_type": "markdown",
      "metadata": {
        "id": "1NSM9o3XM7to"
      },
      "source": [
        "## Model 2 - Nested model 1 "
      ]
    },
    {
      "cell_type": "code",
      "execution_count": 132,
      "metadata": {
        "id": "BMdi3zZWLRCR"
      },
      "outputs": [],
      "source": [
        "#Calculation of probabilities\n",
        "prob_0 = models.nested(V_2, av_2, nests, 0)\n",
        "prob_1 = models.nested(V_2, av_2, nests, 1)\n",
        "prob_2 = models.nested(V_2, av_2, nests, 2)\n",
        "prob_3 = models.nested(V_2, av_2, nests, 3)\n",
        "\n",
        "elasdir_0_time = Derive(prob_0,'dur_cycling') * dur_cycling / prob_0 \n",
        "elasdir_1_time = Derive(prob_1,'dur_driving') * dur_driving / prob_1 \n",
        "elasdir_2_time = Derive(prob_2,'dur_pt_total') * dur_pt_total / prob_2 \n",
        "elasdir_3_time = Derive(prob_3,'dur_walking') * dur_walking / prob_3 \n",
        "elasdir_1_cost = Derive(prob_1,'cost_driving_total') * cost_driving_total / prob_1 \n",
        "elasdir_2_cost = Derive(prob_2,'cost_transit') * cost_transit / prob_2 \n",
        "\n",
        "elastcross_1_time = Derive(prob_1,'dur_pt_total') * dur_pt_total / prob_1 \n",
        "elastcross_2_time = Derive(prob_2,'dur_driving') * dur_driving / prob_2 \n",
        "elastcross_1_cost = Derive(prob_1,'cost_transit') * cost_transit / prob_1 \n",
        "elastcross_2_cost = Derive(prob_2,'cost_driving_total') * cost_driving_total / prob_2 \n",
        "\n",
        "simulate_2_1 = {\n",
        "    'prob.0': prob_0,\n",
        "    'prob.1': prob_1,\n",
        "    'prob.2': prob_2,\n",
        "    'prob.3': prob_3,\n",
        "    'elasdir_0_time': elasdir_0_time,\n",
        "    'elasdir_1_time': elasdir_1_time,\n",
        "    'elasdir_2_time': elasdir_2_time,\n",
        "    'elasdir_3_time': elasdir_3_time,\n",
        "    'elasdir_1_cost': elasdir_1_cost,\n",
        "    'elasdir_2_cost': elasdir_2_cost,\n",
        "    'elascross_1_time': elastcross_1_time,\n",
        "    'elascross_2_time': elastcross_2_time,\n",
        "    'elascross_1_cost': elastcross_1_cost,\n",
        "    'elascross_2_cost': elastcross_2_cost\n",
        "}\n",
        "\n",
        "biosim = bio.BIOGEME(database, simulate_2_1)\n",
        "biosim.modelName = 'model1_directelasticity'\n",
        "\n",
        "# Perform the simulation\n",
        "simresults_2_1 = biosim.simulate(results_2_1.getBetaValues())"
      ]
    },
    {
      "cell_type": "code",
      "execution_count": 133,
      "metadata": {
        "colab": {
          "base_uri": "https://localhost:8080/"
        },
        "id": "oVy9N6mkLRFe",
        "outputId": "1ba0c11c-c640-4d4e-92db-e9558431ebdd"
      },
      "outputs": [
        {
          "name": "stdout",
          "output_type": "stream",
          "text": [
            "Elasticity of the share of alternative 0 with respect to travel time: -1.775 \n",
            "Elasticity of the share of alternative 1 with respect to travel time: -1.451 \n",
            "Elasticity of the share of alternative 2 with respect to travel time: -1.504 \n",
            "Elasticity of the share of alternative 3 with respect to travel time: -2.570 \n",
            "Elasticity of the share of alternative 1 with respect to travel cost: -0.009 \n",
            "Elasticity of the share of alternative 2 with respect to travel cost: -0.007 \n",
            "\n",
            "Elasticity of the share of alternative 1 with respect to travel time of pt: 0.690 \n",
            "Elasticity of the share of alternative 2 with respect to travel time of driving: 0.850 \n",
            "Elasticity of the share of alternative 1 with respect to travel cost of pt: 0.003 \n",
            "Elasticity of the share of alternative 2 with respect to travel cost driving: 0.005 \n",
            "\n"
          ]
        }
      ],
      "source": [
        "# Average Elast for the population\n",
        "avg_Elast_time_0 = sum(simresults_2_1['elasdir_0_time']*simresults_2_1['prob.0']/(simresults_2_1['prob.0'].sum()))\n",
        "avg_Elast_time_1 = sum(simresults_2_1['elasdir_1_time']*simresults_2_1['prob.1']/(simresults_2_1['prob.1'].sum()))\n",
        "avg_Elast_time_2 = sum(simresults_2_1['elasdir_2_time']*simresults_2_1['prob.2']/(simresults_2_1['prob.2'].sum()))\n",
        "avg_Elast_time_3 = sum(simresults_2_1['elasdir_3_time']*simresults_2_1['prob.3']/(simresults_2_1['prob.3'].sum()))\n",
        "avg_Elast_cost_1 = sum(simresults_2_1['elasdir_1_cost']*simresults_2_1['prob.1']/(simresults_2_1['prob.1'].sum()))\n",
        "avg_Elast_cost_2 = sum(simresults_2_1['elasdir_2_cost']*simresults_2_1['prob.2']/(simresults_2_1['prob.2'].sum()))\n",
        "\n",
        "print(\n",
        "f'Elasticity of the share of alternative 0 with respect to travel time: {avg_Elast_time_0:.3f} \\n'\n",
        "f'Elasticity of the share of alternative 1 with respect to travel time: {avg_Elast_time_1:.3f} \\n'\n",
        "f'Elasticity of the share of alternative 2 with respect to travel time: {avg_Elast_time_2:.3f} \\n'\n",
        "f'Elasticity of the share of alternative 3 with respect to travel time: {avg_Elast_time_3:.3f} \\n'\n",
        "f'Elasticity of the share of alternative 1 with respect to travel cost: {avg_Elast_cost_1:.3f} \\n'\n",
        "f'Elasticity of the share of alternative 2 with respect to travel cost: {avg_Elast_cost_2:.3f} \\n')\n",
        "\n",
        "# Average Elast for the population\n",
        "avg_Elastcross_time_1 = sum(simresults_2_1['elascross_1_time']*simresults_2_1['prob.1']/(simresults_2_1['prob.1'].sum()))\n",
        "avg_Elastcross_time_2 = sum(simresults_2_1['elascross_2_time']*simresults_2_1['prob.2']/(simresults_2_1['prob.2'].sum()))\n",
        "avg_Elastcross_cost_1 = sum(simresults_2_1['elascross_1_cost']*simresults_2_1['prob.1']/(simresults_2_1['prob.1'].sum()))\n",
        "avg_Elastcross_cost_2 = sum(simresults_2_1['elascross_2_cost']*simresults_2_1['prob.2']/(simresults_2_1['prob.2'].sum()))\n",
        "\n",
        "print(\n",
        "f'Elasticity of the share of alternative 1 with respect to travel time of pt: {avg_Elastcross_time_1:.3f} \\n'\n",
        "f'Elasticity of the share of alternative 2 with respect to travel time of driving: {avg_Elastcross_time_2:.3f} \\n'\n",
        "f'Elasticity of the share of alternative 1 with respect to travel cost of pt: {avg_Elastcross_cost_1:.3f} \\n'\n",
        "f'Elasticity of the share of alternative 2 with respect to travel cost driving: {avg_Elastcross_cost_2:.3f} \\n')"
      ]
    },
    {
      "cell_type": "markdown",
      "metadata": {
        "id": "3FPoulSu8_bB"
      },
      "source": [
        "## Question 18"
      ]
    },
    {
      "cell_type": "code",
      "execution_count": 134,
      "metadata": {
        "colab": {
          "base_uri": "https://localhost:8080/"
        },
        "id": "RKp4b-C19OWV",
        "outputId": "03b46fc3-5d2f-491e-ef1c-99cea76c35ef"
      },
      "outputs": [
        {
          "name": "stdout",
          "output_type": "stream",
          "text": [
            "Standard deviation: 0.17153935178156823 \n",
            "Min: 0.0008497642676277352 \n",
            "Max: 0.9900041738491124 \n",
            "Median: 0.3219270079571191 \n",
            "Percentile 10%: 0.17723244310213038 \n",
            "Percentile 90%: 0.5680272620484765 \n",
            "\n"
          ]
        }
      ],
      "source": [
        "print(\n",
        "    f\"Standard deviation: {simresults_1_1['prob.2'].std()} \\n\"\n",
        "    f\"Min: {simresults_1_1['prob.2'].min()} \\n\"\n",
        "    f\"Max: {simresults_1_1['prob.2'].max()} \\n\"\n",
        "    f\"Median: {simresults_1_1['prob.2'].quantile(0.5)} \\n\"\n",
        "    f\"Percentile 10%: {simresults_1_1['prob.2'].quantile(0.1)} \\n\"\n",
        "    f\"Percentile 90%: {simresults_1_1['prob.2'].quantile(0.9)} \\n\"\n",
        ")"
      ]
    },
    {
      "cell_type": "code",
      "execution_count": 135,
      "metadata": {
        "colab": {
          "base_uri": "https://localhost:8080/",
          "height": 295
        },
        "id": "R9KcLXQWcfSO",
        "outputId": "71a31c5a-17cf-4967-f6bd-4f9a58ab179c"
      },
      "outputs": [
        {
          "data": {
            "image/png": "[encoded data removed]",
            "text/plain": [
              "<Figure size 432x288 with 1 Axes>"
            ]
          },
          "metadata": {
            "needs_background": "light"
          },
          "output_type": "display_data"
        }
      ],
      "source": [
        "plt.hist(simresults_1_1['elasdir_2_time'], bins=50, density=True)\n",
        "plt.xlabel('Elasticity of demand for travel time')\n",
        "plt.ylabel('Probability of choosing public transit')\n",
        "plt.title('Histogram of elasticity for public transit')\n",
        "plt.show()"
      ]
    },
    {
      "cell_type": "markdown",
      "metadata": {
        "id": "RKYpmBRDBrsM"
      },
      "source": [
        "## Question 19"
      ]
    },
    {
      "cell_type": "markdown",
      "metadata": {
        "id": "6pL92CnSMFrA"
      },
      "source": [
        "## Function 1"
      ]
    },
    {
      "cell_type": "code",
      "execution_count": 136,
      "metadata": {
        "colab": {
          "base_uri": "https://localhost:8080/",
          "height": 312
        },
        "id": "mDYpqoOqMS5t",
        "outputId": "3ed0d510-e9db-42fc-a580-dcca55c8e62f"
      },
      "outputs": [
        {
          "data": {
            "text/plain": [
              "<function matplotlib.pyplot.show(close=None, block=None)>"
            ]
          },
          "execution_count": 136,
          "metadata": {},
          "output_type": "execute_result"
        },
        {
          "data": {
            "image/png": "[encoded data removed]",
            "text/plain": [
              "<Figure size 432x288 with 1 Axes>"
            ]
          },
          "metadata": {
            "needs_background": "light"
          },
          "output_type": "display_data"
        }
      ],
      "source": [
        "plt.scatter(df['dur_pt_total'],simresults_1_1['elasdir_2_time'])\n",
        "plt.xlabel('Travel time for public transport')\n",
        "plt.ylabel('Elasticity of public transport with respect to travel time')\n",
        "plt.title('Direct elasticity-to-time for public transport')\n",
        "plt.show"
      ]
    },
    {
      "cell_type": "code",
      "execution_count": 137,
      "metadata": {
        "colab": {
          "base_uri": "https://localhost:8080/",
          "height": 312
        },
        "id": "RbVT1mqyMS-f",
        "outputId": "32a0ecc9-4a5a-4fcb-e866-96bf9dfeb72c"
      },
      "outputs": [
        {
          "data": {
            "text/plain": [
              "<function matplotlib.pyplot.show(close=None, block=None)>"
            ]
          },
          "execution_count": 137,
          "metadata": {},
          "output_type": "execute_result"
        },
        {
          "data": {
            "image/png": "[encoded data removed]",
            "text/plain": [
              "<Figure size 432x288 with 1 Axes>"
            ]
          },
          "metadata": {
            "needs_background": "light"
          },
          "output_type": "display_data"
        }
      ],
      "source": [
        "plt.scatter(df['cost_transit'],simresults_1_1['elasdir_2_cost'])\n",
        "plt.xlabel('Travel cost for public transport')\n",
        "plt.ylabel('Elasticity of public transport with respect to travel cost')\n",
        "plt.title('Direct elasticity-to-cost for public transport')\n",
        "plt.show"
      ]
    },
    {
      "cell_type": "markdown",
      "metadata": {
        "id": "7nAeLWcpMJQQ"
      },
      "source": [
        "## Function 2"
      ]
    },
    {
      "cell_type": "code",
      "execution_count": 138,
      "metadata": {
        "colab": {
          "base_uri": "https://localhost:8080/",
          "height": 312
        },
        "id": "azGJiSRmcfan",
        "outputId": "a653250f-92fe-4049-9759-53bc73a8497e"
      },
      "outputs": [
        {
          "data": {
            "text/plain": [
              "<function matplotlib.pyplot.show(close=None, block=None)>"
            ]
          },
          "execution_count": 138,
          "metadata": {},
          "output_type": "execute_result"
        },
        {
          "data": {
            "image/png": "[encoded data removed]",
            "text/plain": [
              "<Figure size 432x288 with 1 Axes>"
            ]
          },
          "metadata": {
            "needs_background": "light"
          },
          "output_type": "display_data"
        }
      ],
      "source": [
        "plt.scatter(df['dur_pt_total'],simresults_2_1['elasdir_2_time'])\n",
        "plt.xlabel('Travel time for public transport')\n",
        "plt.ylabel('Elasticity of public transport with respect to travel time')\n",
        "plt.title('Direct elasticity-to-time for public transport')\n",
        "plt.show"
      ]
    },
    {
      "cell_type": "code",
      "execution_count": 139,
      "metadata": {
        "colab": {
          "base_uri": "https://localhost:8080/",
          "height": 312
        },
        "id": "loX3OE4aMXc6",
        "outputId": "93bc9aad-5a92-4524-9916-06ce72802253"
      },
      "outputs": [
        {
          "data": {
            "text/plain": [
              "<function matplotlib.pyplot.show(close=None, block=None)>"
            ]
          },
          "execution_count": 139,
          "metadata": {},
          "output_type": "execute_result"
        },
        {
          "data": {
            "image/png": "[encoded data removed]",
            "text/plain": [
              "<Figure size 432x288 with 1 Axes>"
            ]
          },
          "metadata": {
            "needs_background": "light"
          },
          "output_type": "display_data"
        }
      ],
      "source": [
        "plt.scatter(df['cost_transit'],simresults_2_1['elasdir_2_cost'])\n",
        "plt.xlabel('Travel cost for public transport')\n",
        "plt.ylabel('Elasticity of public transport with respect to travel cost')\n",
        "plt.title('Direct elasticity-to-cost for public transport')\n",
        "plt.show"
      ]
    },
    {
      "cell_type": "code",
      "execution_count": null,
      "metadata": {
        "id": "ekKuGfL5OEpE"
      },
      "outputs": [],
      "source": []
    }
  ],
  "metadata": {
    "colab": {
      "provenance": []
    },
    "gpuClass": "standard",
    "kernelspec": {
      "display_name": "Python 3 (ipykernel)",
      "language": "python",
      "name": "python3"
    },
    "language_info": {
      "codemirror_mode": {
        "name": "ipython",
        "version": 3
      },
      "file_extension": ".py",
      "mimetype": "text/x-python",
      "name": "python",
      "nbconvert_exporter": "python",
      "pygments_lexer": "ipython3",
      "version": "3.9.12"
    }
  },
  "nbformat": 4,
  "nbformat_minor": 0
}
