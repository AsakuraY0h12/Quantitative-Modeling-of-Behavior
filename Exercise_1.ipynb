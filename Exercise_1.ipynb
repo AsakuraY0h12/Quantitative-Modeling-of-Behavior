{
 "cells": [
  {
   "cell_type": "code",
   "execution_count": 1,
   "metadata": {},
   "outputs": [],
   "source": [
    "# Importing useful libraries\n",
    "import pandas as pd \n",
    "import numpy as np \n",
    "import scipy.stats as stats\n",
    "import matplotlib.pyplot as plt\n",
    "import seaborn as sns"
   ]
  },
  {
   "cell_type": "markdown",
   "metadata": {},
   "source": [
    "## Data set vizualisation \n"
   ]
  },
  {
   "cell_type": "code",
   "execution_count": 2,
   "metadata": {},
   "outputs": [
    {
     "data": {
      "text/html": [
       "<div>\n",
       "<style scoped>\n",
       "    .dataframe tbody tr th:only-of-type {\n",
       "        vertical-align: middle;\n",
       "    }\n",
       "\n",
       "    .dataframe tbody tr th {\n",
       "        vertical-align: top;\n",
       "    }\n",
       "\n",
       "    .dataframe thead th {\n",
       "        text-align: right;\n",
       "    }\n",
       "</style>\n",
       "<table border=\"1\" class=\"dataframe\">\n",
       "  <thead>\n",
       "    <tr style=\"text-align: right;\">\n",
       "      <th></th>\n",
       "      <th>trip_id</th>\n",
       "      <th>household_id</th>\n",
       "      <th>person_n</th>\n",
       "      <th>trip_n</th>\n",
       "      <th>travel_mode</th>\n",
       "      <th>purpose</th>\n",
       "      <th>fueltype</th>\n",
       "      <th>faretype</th>\n",
       "      <th>bus_scale</th>\n",
       "      <th>survey_year</th>\n",
       "      <th>...</th>\n",
       "      <th>dur_pt_int_total</th>\n",
       "      <th>dur_pt_int_waiting</th>\n",
       "      <th>dur_pt_int_walking</th>\n",
       "      <th>pt_n_interchanges</th>\n",
       "      <th>dur_driving</th>\n",
       "      <th>cost_transit</th>\n",
       "      <th>cost_driving_total</th>\n",
       "      <th>cost_driving_fuel</th>\n",
       "      <th>cost_driving_con_charge</th>\n",
       "      <th>driving_traffic_percent</th>\n",
       "    </tr>\n",
       "  </thead>\n",
       "  <tbody>\n",
       "    <tr>\n",
       "      <th>0</th>\n",
       "      <td>0</td>\n",
       "      <td>0</td>\n",
       "      <td>0</td>\n",
       "      <td>0</td>\n",
       "      <td>drive</td>\n",
       "      <td>HBO</td>\n",
       "      <td>Petrol_Car</td>\n",
       "      <td>full</td>\n",
       "      <td>1.0</td>\n",
       "      <td>1</td>\n",
       "      <td>...</td>\n",
       "      <td>0.000000</td>\n",
       "      <td>0.000000</td>\n",
       "      <td>0.000000</td>\n",
       "      <td>0</td>\n",
       "      <td>0.052222</td>\n",
       "      <td>1.5</td>\n",
       "      <td>0.14</td>\n",
       "      <td>0.14</td>\n",
       "      <td>0.0</td>\n",
       "      <td>0.111702</td>\n",
       "    </tr>\n",
       "    <tr>\n",
       "      <th>1</th>\n",
       "      <td>1</td>\n",
       "      <td>0</td>\n",
       "      <td>0</td>\n",
       "      <td>1</td>\n",
       "      <td>drive</td>\n",
       "      <td>HBO</td>\n",
       "      <td>Petrol_Car</td>\n",
       "      <td>full</td>\n",
       "      <td>1.0</td>\n",
       "      <td>1</td>\n",
       "      <td>...</td>\n",
       "      <td>0.000000</td>\n",
       "      <td>0.000000</td>\n",
       "      <td>0.000000</td>\n",
       "      <td>0</td>\n",
       "      <td>0.059444</td>\n",
       "      <td>1.5</td>\n",
       "      <td>0.15</td>\n",
       "      <td>0.15</td>\n",
       "      <td>0.0</td>\n",
       "      <td>0.112150</td>\n",
       "    </tr>\n",
       "    <tr>\n",
       "      <th>2</th>\n",
       "      <td>2</td>\n",
       "      <td>0</td>\n",
       "      <td>0</td>\n",
       "      <td>2</td>\n",
       "      <td>drive</td>\n",
       "      <td>HBO</td>\n",
       "      <td>Petrol_Car</td>\n",
       "      <td>full</td>\n",
       "      <td>1.0</td>\n",
       "      <td>1</td>\n",
       "      <td>...</td>\n",
       "      <td>0.000000</td>\n",
       "      <td>0.000000</td>\n",
       "      <td>0.000000</td>\n",
       "      <td>0</td>\n",
       "      <td>0.236667</td>\n",
       "      <td>1.5</td>\n",
       "      <td>0.79</td>\n",
       "      <td>0.79</td>\n",
       "      <td>0.0</td>\n",
       "      <td>0.203052</td>\n",
       "    </tr>\n",
       "    <tr>\n",
       "      <th>3</th>\n",
       "      <td>3</td>\n",
       "      <td>0</td>\n",
       "      <td>0</td>\n",
       "      <td>3</td>\n",
       "      <td>drive</td>\n",
       "      <td>HBO</td>\n",
       "      <td>Petrol_Car</td>\n",
       "      <td>full</td>\n",
       "      <td>1.0</td>\n",
       "      <td>1</td>\n",
       "      <td>...</td>\n",
       "      <td>0.000000</td>\n",
       "      <td>0.000000</td>\n",
       "      <td>0.000000</td>\n",
       "      <td>0</td>\n",
       "      <td>0.233333</td>\n",
       "      <td>1.5</td>\n",
       "      <td>0.78</td>\n",
       "      <td>0.78</td>\n",
       "      <td>0.0</td>\n",
       "      <td>0.160714</td>\n",
       "    </tr>\n",
       "    <tr>\n",
       "      <th>4</th>\n",
       "      <td>4</td>\n",
       "      <td>0</td>\n",
       "      <td>1</td>\n",
       "      <td>2</td>\n",
       "      <td>drive</td>\n",
       "      <td>HBO</td>\n",
       "      <td>Petrol_Car</td>\n",
       "      <td>dis</td>\n",
       "      <td>1.0</td>\n",
       "      <td>1</td>\n",
       "      <td>...</td>\n",
       "      <td>0.000000</td>\n",
       "      <td>0.000000</td>\n",
       "      <td>0.000000</td>\n",
       "      <td>0</td>\n",
       "      <td>0.229167</td>\n",
       "      <td>1.5</td>\n",
       "      <td>0.78</td>\n",
       "      <td>0.78</td>\n",
       "      <td>0.0</td>\n",
       "      <td>0.130909</td>\n",
       "    </tr>\n",
       "    <tr>\n",
       "      <th>...</th>\n",
       "      <td>...</td>\n",
       "      <td>...</td>\n",
       "      <td>...</td>\n",
       "      <td>...</td>\n",
       "      <td>...</td>\n",
       "      <td>...</td>\n",
       "      <td>...</td>\n",
       "      <td>...</td>\n",
       "      <td>...</td>\n",
       "      <td>...</td>\n",
       "      <td>...</td>\n",
       "      <td>...</td>\n",
       "      <td>...</td>\n",
       "      <td>...</td>\n",
       "      <td>...</td>\n",
       "      <td>...</td>\n",
       "      <td>...</td>\n",
       "      <td>...</td>\n",
       "      <td>...</td>\n",
       "      <td>...</td>\n",
       "      <td>...</td>\n",
       "    </tr>\n",
       "    <tr>\n",
       "      <th>81081</th>\n",
       "      <td>81081</td>\n",
       "      <td>17615</td>\n",
       "      <td>0</td>\n",
       "      <td>0</td>\n",
       "      <td>drive</td>\n",
       "      <td>HBO</td>\n",
       "      <td>Average_Car</td>\n",
       "      <td>full</td>\n",
       "      <td>1.0</td>\n",
       "      <td>3</td>\n",
       "      <td>...</td>\n",
       "      <td>0.216667</td>\n",
       "      <td>0.197222</td>\n",
       "      <td>0.019444</td>\n",
       "      <td>2</td>\n",
       "      <td>0.859722</td>\n",
       "      <td>4.3</td>\n",
       "      <td>2.48</td>\n",
       "      <td>2.48</td>\n",
       "      <td>0.0</td>\n",
       "      <td>0.402262</td>\n",
       "    </tr>\n",
       "    <tr>\n",
       "      <th>81082</th>\n",
       "      <td>81082</td>\n",
       "      <td>17615</td>\n",
       "      <td>0</td>\n",
       "      <td>2</td>\n",
       "      <td>drive</td>\n",
       "      <td>NHBO</td>\n",
       "      <td>Average_Car</td>\n",
       "      <td>full</td>\n",
       "      <td>1.0</td>\n",
       "      <td>3</td>\n",
       "      <td>...</td>\n",
       "      <td>0.183333</td>\n",
       "      <td>0.160278</td>\n",
       "      <td>0.023056</td>\n",
       "      <td>2</td>\n",
       "      <td>0.925833</td>\n",
       "      <td>4.3</td>\n",
       "      <td>2.53</td>\n",
       "      <td>2.53</td>\n",
       "      <td>0.0</td>\n",
       "      <td>0.503750</td>\n",
       "    </tr>\n",
       "    <tr>\n",
       "      <th>81083</th>\n",
       "      <td>81083</td>\n",
       "      <td>17615</td>\n",
       "      <td>0</td>\n",
       "      <td>3</td>\n",
       "      <td>drive</td>\n",
       "      <td>HBO</td>\n",
       "      <td>Average_Car</td>\n",
       "      <td>full</td>\n",
       "      <td>1.0</td>\n",
       "      <td>3</td>\n",
       "      <td>...</td>\n",
       "      <td>0.000000</td>\n",
       "      <td>0.000000</td>\n",
       "      <td>0.000000</td>\n",
       "      <td>0</td>\n",
       "      <td>0.112500</td>\n",
       "      <td>1.5</td>\n",
       "      <td>0.32</td>\n",
       "      <td>0.32</td>\n",
       "      <td>0.0</td>\n",
       "      <td>0.234568</td>\n",
       "    </tr>\n",
       "    <tr>\n",
       "      <th>81084</th>\n",
       "      <td>81084</td>\n",
       "      <td>17615</td>\n",
       "      <td>1</td>\n",
       "      <td>0</td>\n",
       "      <td>pt</td>\n",
       "      <td>HBW</td>\n",
       "      <td>Average_Car</td>\n",
       "      <td>full</td>\n",
       "      <td>1.0</td>\n",
       "      <td>3</td>\n",
       "      <td>...</td>\n",
       "      <td>0.250000</td>\n",
       "      <td>0.230556</td>\n",
       "      <td>0.019444</td>\n",
       "      <td>2</td>\n",
       "      <td>1.121944</td>\n",
       "      <td>4.4</td>\n",
       "      <td>12.88</td>\n",
       "      <td>2.38</td>\n",
       "      <td>10.5</td>\n",
       "      <td>0.760832</td>\n",
       "    </tr>\n",
       "    <tr>\n",
       "      <th>81085</th>\n",
       "      <td>81085</td>\n",
       "      <td>17615</td>\n",
       "      <td>1</td>\n",
       "      <td>1</td>\n",
       "      <td>pt</td>\n",
       "      <td>HBW</td>\n",
       "      <td>Average_Car</td>\n",
       "      <td>full</td>\n",
       "      <td>1.0</td>\n",
       "      <td>3</td>\n",
       "      <td>...</td>\n",
       "      <td>0.100000</td>\n",
       "      <td>0.079167</td>\n",
       "      <td>0.020833</td>\n",
       "      <td>1</td>\n",
       "      <td>0.941389</td>\n",
       "      <td>5.9</td>\n",
       "      <td>2.38</td>\n",
       "      <td>2.38</td>\n",
       "      <td>0.0</td>\n",
       "      <td>0.652995</td>\n",
       "    </tr>\n",
       "  </tbody>\n",
       "</table>\n",
       "<p>81086 rows × 36 columns</p>\n",
       "</div>"
      ],
      "text/plain": [
       "       trip_id  household_id  person_n  trip_n travel_mode purpose  \\\n",
       "0            0             0         0       0       drive     HBO   \n",
       "1            1             0         0       1       drive     HBO   \n",
       "2            2             0         0       2       drive     HBO   \n",
       "3            3             0         0       3       drive     HBO   \n",
       "4            4             0         1       2       drive     HBO   \n",
       "...        ...           ...       ...     ...         ...     ...   \n",
       "81081    81081         17615         0       0       drive     HBO   \n",
       "81082    81082         17615         0       2       drive    NHBO   \n",
       "81083    81083         17615         0       3       drive     HBO   \n",
       "81084    81084         17615         1       0          pt     HBW   \n",
       "81085    81085         17615         1       1          pt     HBW   \n",
       "\n",
       "          fueltype faretype  bus_scale  survey_year  ...  dur_pt_int_total  \\\n",
       "0       Petrol_Car     full        1.0            1  ...          0.000000   \n",
       "1       Petrol_Car     full        1.0            1  ...          0.000000   \n",
       "2       Petrol_Car     full        1.0            1  ...          0.000000   \n",
       "3       Petrol_Car     full        1.0            1  ...          0.000000   \n",
       "4       Petrol_Car      dis        1.0            1  ...          0.000000   \n",
       "...            ...      ...        ...          ...  ...               ...   \n",
       "81081  Average_Car     full        1.0            3  ...          0.216667   \n",
       "81082  Average_Car     full        1.0            3  ...          0.183333   \n",
       "81083  Average_Car     full        1.0            3  ...          0.000000   \n",
       "81084  Average_Car     full        1.0            3  ...          0.250000   \n",
       "81085  Average_Car     full        1.0            3  ...          0.100000   \n",
       "\n",
       "       dur_pt_int_waiting  dur_pt_int_walking  pt_n_interchanges  dur_driving  \\\n",
       "0                0.000000            0.000000                  0     0.052222   \n",
       "1                0.000000            0.000000                  0     0.059444   \n",
       "2                0.000000            0.000000                  0     0.236667   \n",
       "3                0.000000            0.000000                  0     0.233333   \n",
       "4                0.000000            0.000000                  0     0.229167   \n",
       "...                   ...                 ...                ...          ...   \n",
       "81081            0.197222            0.019444                  2     0.859722   \n",
       "81082            0.160278            0.023056                  2     0.925833   \n",
       "81083            0.000000            0.000000                  0     0.112500   \n",
       "81084            0.230556            0.019444                  2     1.121944   \n",
       "81085            0.079167            0.020833                  1     0.941389   \n",
       "\n",
       "       cost_transit  cost_driving_total  cost_driving_fuel  \\\n",
       "0               1.5                0.14               0.14   \n",
       "1               1.5                0.15               0.15   \n",
       "2               1.5                0.79               0.79   \n",
       "3               1.5                0.78               0.78   \n",
       "4               1.5                0.78               0.78   \n",
       "...             ...                 ...                ...   \n",
       "81081           4.3                2.48               2.48   \n",
       "81082           4.3                2.53               2.53   \n",
       "81083           1.5                0.32               0.32   \n",
       "81084           4.4               12.88               2.38   \n",
       "81085           5.9                2.38               2.38   \n",
       "\n",
       "       cost_driving_con_charge  driving_traffic_percent  \n",
       "0                          0.0                 0.111702  \n",
       "1                          0.0                 0.112150  \n",
       "2                          0.0                 0.203052  \n",
       "3                          0.0                 0.160714  \n",
       "4                          0.0                 0.130909  \n",
       "...                        ...                      ...  \n",
       "81081                      0.0                 0.402262  \n",
       "81082                      0.0                 0.503750  \n",
       "81083                      0.0                 0.234568  \n",
       "81084                     10.5                 0.760832  \n",
       "81085                      0.0                 0.652995  \n",
       "\n",
       "[81086 rows x 36 columns]"
      ]
     },
     "execution_count": 2,
     "metadata": {},
     "output_type": "execute_result"
    }
   ],
   "source": [
    "# Reading the dataset\n",
    "filename = 'dataset.csv'\n",
    "df = pd.read_csv(filename)\n",
    "raw_data = df.values\n",
    "df"
   ]
  },
  {
   "cell_type": "markdown",
   "metadata": {},
   "source": [
    "## Question 1"
   ]
  },
  {
   "cell_type": "code",
   "execution_count": 3,
   "metadata": {},
   "outputs": [],
   "source": [
    "#Number of households\n",
    "H = 17616  \n",
    "\n",
    "#Number of persons\n",
    "P= 31954\n",
    "\n",
    "#Number of trips\n",
    "\n",
    "T= 81086  "
   ]
  },
  {
   "cell_type": "markdown",
   "metadata": {},
   "source": [
    "## Question 2\n"
   ]
  },
  {
   "cell_type": "code",
   "execution_count": 4,
   "metadata": {},
   "outputs": [
    {
     "name": "stdout",
     "output_type": "stream",
     "text": [
      "household_id  person_n\n",
      "0             0           4\n",
      "              1           2\n",
      "              2           4\n",
      "1             0           2\n",
      "              1           2\n",
      "                         ..\n",
      "17612         0           1\n",
      "17613         0           2\n",
      "17614         0           1\n",
      "17615         0           3\n",
      "              1           2\n",
      "Name: trip_n, Length: 31954, dtype: int64\n",
      "3.0\n"
     ]
    }
   ],
   "source": [
    "number_trips = df.groupby([\"household_id\", \"person_n\"])[\"trip_n\"].count()\n",
    "print(number_trips)\n",
    "\n",
    "mean_number = number_trips[2].mean()\n",
    "#mean_number = np.mean(number[2])\n",
    "\n",
    "print(mean_number)"
   ]
  },
  {
   "cell_type": "markdown",
   "metadata": {},
   "source": [
    "## Question 3"
   ]
  },
  {
   "cell_type": "code",
   "execution_count": 5,
   "metadata": {},
   "outputs": [
    {
     "name": "stdout",
     "output_type": "stream",
     "text": [
      "2.9659867301383716 44.16052092839701 35.277359840169694 17.59613250129492\n"
     ]
    }
   ],
   "source": [
    "groupstransport = df.groupby([\"travel_mode\"])[\"trip_n\"].count()\n",
    "\n",
    "total_sum=np.sum(groupstransport)\n",
    "market_share_cycle=(groupstransport[0]/total_sum)*100\n",
    "market_share_drive=(groupstransport[1]/total_sum)*100\n",
    "market_share_pt=(groupstransport[2]/total_sum)*100\n",
    "market_share_walk=(groupstransport[3]/total_sum)*100\n",
    "\n",
    "print(market_share_cycle,market_share_drive,market_share_pt,market_share_walk)"
   ]
  },
  {
   "cell_type": "markdown",
   "metadata": {},
   "source": [
    "## Question 4 : Market share of men and women "
   ]
  },
  {
   "cell_type": "code",
   "execution_count": 6,
   "metadata": {},
   "outputs": [
    {
     "name": "stdout",
     "output_type": "stream",
     "text": [
      "female  travel_mode\n",
      "0       drive          44.179081\n",
      "        pt             34.714554\n",
      "        walk           16.678821\n",
      "        cycle           4.427545\n",
      "1       drive          44.143828\n",
      "        pt             35.783556\n",
      "        walk           18.421176\n",
      "        cycle           1.651441\n",
      "dtype: float64\n"
     ]
    }
   ],
   "source": [
    "Gender = df.groupby([\"female\"])\n",
    "men_women = Gender[\"travel_mode\"].value_counts()/Gender.size()*100\n",
    "print(men_women)"
   ]
  },
  {
   "cell_type": "markdown",
   "metadata": {},
   "source": [
    "## Question 5: Trip purpose where bike obtain highest market share"
   ]
  },
  {
   "cell_type": "code",
   "execution_count": 7,
   "metadata": {},
   "outputs": [
    {
     "name": "stdout",
     "output_type": "stream",
     "text": [
      "purpose  travel_mode\n",
      "B        drive          45.540147\n",
      "         pt             43.468584\n",
      "         walk            7.224790\n",
      "         cycle           3.766478\n",
      "HBE      pt             36.918731\n",
      "         drive          34.702303\n",
      "         walk           26.347240\n",
      "         cycle           2.031725\n",
      "HBO      drive          49.921336\n",
      "         pt             29.664771\n",
      "         walk           18.015249\n",
      "         cycle           2.398645\n",
      "HBW      pt             54.550167\n",
      "         drive          32.062199\n",
      "         walk            7.471307\n",
      "         cycle           5.916327\n",
      "NHBO     drive          44.550397\n",
      "         pt             27.136619\n",
      "         walk           26.459317\n",
      "         cycle           1.853667\n",
      "dtype: float64\n"
     ]
    }
   ],
   "source": [
    "# Group the data by purpose\n",
    "purposes = df.groupby('purpose')\n",
    "\n",
    "# Calculate market shares\n",
    "modes = purposes['travel_mode'].value_counts()\n",
    "shares = modes / purposes.size() * 100\n",
    "\n",
    "print(shares)"
   ]
  },
  {
   "cell_type": "markdown",
   "metadata": {},
   "source": [
    "## Question 6: Average duration for chosen and unchosen"
   ]
  },
  {
   "cell_type": "code",
   "execution_count": 8,
   "metadata": {},
   "outputs": [
    {
     "name": "stdout",
     "output_type": "stream",
     "text": [
      "  travel_mode  chosen_duration  unchosen_duration\n",
      "0        walk        16.740531          78.635581\n",
      "1       cycle        18.005468          21.841486\n",
      "2       drive        14.948081          18.493510\n",
      "3          pt        33.816245          24.849413\n"
     ]
    }
   ],
   "source": [
    "modes_map = {'walk': 'dur_walking',\n",
    "             'cycle': 'dur_cycling',\n",
    "             'drive': 'dur_driving',\n",
    "             'pt': 'dur_pt_total'}\n",
    "\n",
    "result = pd.DataFrame(columns=['travel_mode', 'chosen_duration', 'unchosen_duration'])\n",
    "for mode in modes_map.keys():\n",
    "    chosen_trips = df[df['travel_mode'] == mode]\n",
    "    unchosen_trips = df[df['travel_mode'] != mode]\n",
    "    \n",
    "    chosen_mode_duration = chosen_trips[modes_map[mode]].mean()*60\n",
    "    unchosen_mode_duration = unchosen_trips[modes_map[mode]].mean()*60\n",
    "    \n",
    "    result = result.append({'travel_mode': mode, 'chosen_duration': chosen_mode_duration, 'unchosen_duration': unchosen_mode_duration}, ignore_index=True)\n",
    "\n",
    "print(result)\n",
    "\n"
   ]
  },
  {
   "cell_type": "markdown",
   "metadata": {},
   "source": [
    "## 7. 1. Is there any relationship between the bicycle use and:a) The month of the year?b) The day of the week?Please use a figure to show your results (a plot and interpretation is expected)"
   ]
  },
  {
   "cell_type": "markdown",
   "metadata": {},
   "source": [
    "## a) The month of the year"
   ]
  },
  {
   "cell_type": "code",
   "execution_count": 9,
   "metadata": {},
   "outputs": [
    {
     "name": "stdout",
     "output_type": "stream",
     "text": [
      "travel_month\n",
      "1     153\n",
      "2     141\n",
      "3     113\n",
      "4     167\n",
      "5     182\n",
      "6     243\n",
      "7     253\n",
      "8     279\n",
      "9     298\n",
      "10    242\n",
      "11    217\n",
      "12    117\n",
      "Name: travel_mode, dtype: int64\n"
     ]
    },
    {
     "data": {
      "image/png": "[encoded data removed]",
      "text/plain": [
       "<Figure size 432x288 with 1 Axes>"
      ]
     },
     "metadata": {
      "needs_background": "light"
     },
     "output_type": "display_data"
    }
   ],
   "source": [
    "# group the data by the values of the column \"travel_month\"\n",
    "grouped_month = df.groupby(\"travel_month\")\n",
    "\n",
    "# count the number of occurrences of 'cycle' in the column \"travel_mode\" for each group\n",
    "cycle_counts = grouped_month[\"travel_mode\"].apply(lambda x: (x == 'cycle').sum())\n",
    "\n",
    "# print the result\n",
    "print(cycle_counts)\n",
    "\n",
    "# plot the result using seaborn\n",
    "sns.barplot(x=cycle_counts.index, y=cycle_counts.values)\n",
    "plt.xlabel(\"Travel Month\")\n",
    "plt.ylabel(\"Number of cycle travels\")\n",
    "plt.title(\"Number of cycle travels by travel month\")\n",
    "plt.show()"
   ]
  },
  {
   "cell_type": "markdown",
   "metadata": {},
   "source": [
    "## b) The day of the week"
   ]
  },
  {
   "cell_type": "code",
   "execution_count": 10,
   "metadata": {},
   "outputs": [
    {
     "name": "stdout",
     "output_type": "stream",
     "text": [
      "day_of_week\n",
      "1    310\n",
      "2    422\n",
      "3    398\n",
      "4    346\n",
      "5    421\n",
      "6    265\n",
      "7    243\n",
      "Name: travel_mode, dtype: int64\n"
     ]
    },
    {
     "data": {
      "image/png": "[encoded data removed]",
      "text/plain": [
       "<Figure size 432x288 with 1 Axes>"
      ]
     },
     "metadata": {
      "needs_background": "light"
     },
     "output_type": "display_data"
    }
   ],
   "source": [
    "# group the data by the values of the column \"day_of_week\"\n",
    "grouped_day = df.groupby(\"day_of_week\")\n",
    "\n",
    "# count the number of occurrences of 'cycle' in the column \"travel_mode\" for each group\n",
    "cycle_counts = grouped_day[\"travel_mode\"].apply(lambda x: (x == 'cycle').sum())\n",
    "\n",
    "# print the result\n",
    "print(cycle_counts)\n",
    "\n",
    "# plot the result using seaborn\n",
    "sns.barplot(x=cycle_counts.index, y=cycle_counts.values)\n",
    "plt.xlabel(\"Day of Week\")\n",
    "plt.ylabel(\"Number of cycle travels\")\n",
    "plt.title(\"Number of cycle travels by day of the week\")\n",
    "plt.show()"
   ]
  },
  {
   "cell_type": "markdown",
   "metadata": {},
   "source": [
    "## 8. What is the proportion of trips where people have chosen the quickest transport mode?"
   ]
  },
  {
   "cell_type": "code",
   "execution_count": 11,
   "metadata": {},
   "outputs": [],
   "source": [
    "df2 = df.copy()\n",
    "\n",
    "# Define the columns you want to check the minimum value of\n",
    "min_columns = [\"dur_walking\", 'dur_cycling', 'dur_pt_total','dur_driving']\n",
    "\n",
    "# Find the name of the column with the minimum value in each row\n",
    "min_column = df2[min_columns].idxmin(axis=1)"
   ]
  },
  {
   "cell_type": "code",
   "execution_count": 12,
   "metadata": {},
   "outputs": [
    {
     "name": "stdout",
     "output_type": "stream",
     "text": [
      "42.54001923883284\n"
     ]
    }
   ],
   "source": [
    "# Map the categorical variables in the travel_mode column to the names of the mode columns\n",
    "df2['travel_mode'] = df2['travel_mode'].map({\"walk\": \"dur_walking\", \"cycle\": 'dur_cycling', \"pt\":'dur_pt_total',\"drive\":'dur_driving' })\n",
    "\n",
    "# Check the portion of the rows where the name of the column with the minimum value matches the categorical value\n",
    "result = (min_column == df2['travel_mode'])\n",
    "percentage = (result.sum() / result.shape[0]) * 100\n",
    "\n",
    "print(percentage)"
   ]
  },
  {
   "cell_type": "markdown",
   "metadata": {},
   "source": [
    "## 9. Investigate three research question"
   ]
  },
  {
   "cell_type": "markdown",
   "metadata": {},
   "source": [
    "(See in the pdf file)"
   ]
  },
  {
   "cell_type": "markdown",
   "metadata": {},
   "source": [
    "## 10. Try to divide sample into age categories. Which category has the highest share of public transport?"
   ]
  },
  {
   "cell_type": "code",
   "execution_count": 13,
   "metadata": {},
   "outputs": [
    {
     "name": "stdout",
     "output_type": "stream",
     "text": [
      "For age group (5, 15], the proportions of travel modes are:\n",
      "drive    0.474994\n",
      "pt       0.291176\n",
      "walk     0.215826\n",
      "cycle    0.018004\n",
      "Name: travel_mode, dtype: float64\n",
      "For age group (15, 30], the proportions of travel modes are:\n",
      "pt       0.486632\n",
      "drive    0.284487\n",
      "walk     0.193440\n",
      "cycle    0.035441\n",
      "Name: travel_mode, dtype: float64\n",
      "For age group (30, 50], the proportions of travel modes are:\n",
      "drive    0.466922\n",
      "pt       0.327277\n",
      "walk     0.169204\n",
      "cycle    0.036597\n",
      "Name: travel_mode, dtype: float64\n",
      "For age group (50, 99], the proportions of travel modes are:\n",
      "drive    0.512089\n",
      "pt       0.313302\n",
      "walk     0.153684\n",
      "cycle    0.020925\n",
      "Name: travel_mode, dtype: float64\n"
     ]
    }
   ],
   "source": [
    "data1=df.copy()\n",
    "# Specify the intervals for the trunks\n",
    "bins = [5, 15, 30, 50, 99]\n",
    "\n",
    "# Divide the ages into the specified trunks\n",
    "trunks = pd.cut(data1['age'], bins)\n",
    "\n",
    "# Add the trunks as a new column to the dataframe\n",
    "data1['age_trunks'] = trunks\n",
    "\n",
    "# Display the dataframe\n",
    "data1\n",
    "\n",
    "# group the dataframe by the age groups\n",
    "grouped_age_groups = data1.groupby('age_trunks')\n",
    "\n",
    "# calculate the proportions of the different values of travel_mode for each truncated dataset\n",
    "for name, group in grouped_age_groups:\n",
    "    proportions = group['travel_mode'].value_counts(normalize=True)\n",
    "    print(f'For age group {name}, the proportions of travel modes are:')\n",
    "    print(proportions)"
   ]
  },
  {
   "cell_type": "markdown",
   "metadata": {},
   "source": [
    "## 11. Calculate the age distribution in the sample "
   ]
  },
  {
   "cell_type": "code",
   "execution_count": 14,
   "metadata": {},
   "outputs": [
    {
     "data": {
      "text/html": [
       "<div>\n",
       "<style scoped>\n",
       "    .dataframe tbody tr th:only-of-type {\n",
       "        vertical-align: middle;\n",
       "    }\n",
       "\n",
       "    .dataframe tbody tr th {\n",
       "        vertical-align: top;\n",
       "    }\n",
       "\n",
       "    .dataframe thead th {\n",
       "        text-align: right;\n",
       "    }\n",
       "</style>\n",
       "<table border=\"1\" class=\"dataframe\">\n",
       "  <thead>\n",
       "    <tr style=\"text-align: right;\">\n",
       "      <th></th>\n",
       "      <th>age_trunks</th>\n",
       "      <th>household_id</th>\n",
       "      <th>person_n</th>\n",
       "    </tr>\n",
       "    <tr>\n",
       "      <th>age_trunks</th>\n",
       "      <th></th>\n",
       "      <th></th>\n",
       "      <th></th>\n",
       "    </tr>\n",
       "  </thead>\n",
       "  <tbody>\n",
       "    <tr>\n",
       "      <th>(5, 15]</th>\n",
       "      <td>NaN</td>\n",
       "      <td>12.558678</td>\n",
       "      <td>12.558678</td>\n",
       "    </tr>\n",
       "    <tr>\n",
       "      <th>(15, 30]</th>\n",
       "      <td>NaN</td>\n",
       "      <td>22.864117</td>\n",
       "      <td>22.864117</td>\n",
       "    </tr>\n",
       "    <tr>\n",
       "      <th>(30, 50]</th>\n",
       "      <td>NaN</td>\n",
       "      <td>35.156788</td>\n",
       "      <td>35.156788</td>\n",
       "    </tr>\n",
       "    <tr>\n",
       "      <th>(50, 99]</th>\n",
       "      <td>NaN</td>\n",
       "      <td>28.034049</td>\n",
       "      <td>28.034049</td>\n",
       "    </tr>\n",
       "  </tbody>\n",
       "</table>\n",
       "</div>"
      ],
      "text/plain": [
       "            age_trunks  household_id   person_n\n",
       "age_trunks                                     \n",
       "(5, 15]            NaN     12.558678  12.558678\n",
       "(15, 30]           NaN     22.864117  22.864117\n",
       "(30, 50]           NaN     35.156788  35.156788\n",
       "(50, 99]           NaN     28.034049  28.034049"
      ]
     },
     "execution_count": 14,
     "metadata": {},
     "output_type": "execute_result"
    }
   ],
   "source": [
    "distribution = data1.filter([\"household_id\", \"person_n\", \"age_trunks\"]).drop_duplicates()\n",
    "Size = distribution.count()\n",
    "age_distribution = distribution.groupby([\"age_trunks\"]).count()\n",
    "age_distribution/Size*100"
   ]
  },
  {
   "cell_type": "markdown",
   "metadata": {},
   "source": [
    "## 12. Calculate the average daily time for each individual for each transport mode "
   ]
  },
  {
   "cell_type": "code",
   "execution_count": 15,
   "metadata": {},
   "outputs": [
    {
     "name": "stdout",
     "output_type": "stream",
     "text": [
      "['drive' 'pt' 'walk' 'cycle']\n",
      "      age_trunks\n",
      "0       (50, 99]\n",
      "1       (50, 99]\n",
      "2       (50, 99]\n",
      "3       (50, 99]\n",
      "4       (50, 99]\n",
      "...          ...\n",
      "81081   (15, 30]\n",
      "81082   (15, 30]\n",
      "81083   (15, 30]\n",
      "81084   (15, 30]\n",
      "81085   (15, 30]\n",
      "\n",
      "[81086 rows x 1 columns]\n"
     ]
    }
   ],
   "source": [
    "#data_daily = pd.read_csv(filename)\n",
    "data_daily = data1\n",
    "print(data_daily[\"travel_mode\"].unique())\n",
    "\n",
    "\n",
    "new_columns = ['spent_walking', 'spent_cycling', 'spent_pt_total','spent_driving']\n",
    "old_columns = ['dur_walking', 'dur_cycling', 'dur_pt_total','dur_driving']\n",
    "travel_mode = [\"walk\", \"cycle\", \"pt\",\"drive\"]\n",
    "\n",
    "data_daily['spent_walking'] = data_daily.apply(lambda row: row['dur_walking'] if row['travel_mode'] == \"walk\" else 0, axis=1)\n",
    "data_daily['spent_cycling'] = data_daily.apply(lambda row: row['dur_cycling'] if row['travel_mode'] == \"cycle\" else 0, axis=1)\n",
    "data_daily['spent_pt_total'] = data_daily.apply(lambda row: row['dur_pt_total'] if row['travel_mode'] == \"pt\" else 0, axis=1)\n",
    "data_daily['spent_driving'] = data_daily.apply(lambda row: row['dur_driving'] if row['travel_mode'] == \"drive\" else 0, axis=1)\n",
    "\n",
    "    \n",
    "\n",
    "print(data_daily[[\"age_trunks\"]])"
   ]
  },
  {
   "cell_type": "code",
   "execution_count": 16,
   "metadata": {},
   "outputs": [
    {
     "name": "stdout",
     "output_type": "stream",
     "text": [
      "spent_walking      7.474930\n",
      "spent_cycling      1.355171\n",
      "spent_pt_total    30.272069\n",
      "spent_driving     16.750983\n",
      "dtype: float64\n"
     ]
    },
    {
     "name": "stderr",
     "output_type": "stream",
     "text": [
      "c:\\Users\\dzerz\\anaconda3\\envs\\Python_Intro\\lib\\site-packages\\ipykernel_launcher.py:2: FutureWarning: Indexing with multiple keys (implicitly converted to a tuple of keys) will be deprecated, use a list instead.\n",
      "  \n"
     ]
    }
   ],
   "source": [
    "### Group by individuals and days in case of there are several days for the same individual and then sum the duration of each travel mode. Indeed in the dataframe if a travel mode is not used then the duration is 0.\n",
    "individuals = data_daily.groupby([\"household_id\", \"person_n\",'travel_year', 'travel_month', 'travel_date'])[\"spent_walking\", 'spent_cycling', 'spent_pt_total','spent_driving'].sum()\n",
    "\n",
    "\n",
    "\n",
    "### After summing just do an average on all the individuals\n",
    "Average = individuals.mean()\n",
    "print(Average*60)"
   ]
  },
  {
   "cell_type": "markdown",
   "metadata": {},
   "source": [
    "## Question 13"
   ]
  },
  {
   "cell_type": "code",
   "execution_count": 17,
   "metadata": {},
   "outputs": [
    {
     "name": "stdout",
     "output_type": "stream",
     "text": [
      "              spent_walking  spent_cycling  spent_pt_total  spent_driving\n",
      "age_trunks                                                               \n",
      "(5.0, 15.0]        7.876348       0.319017       17.899315      13.095569\n",
      "(15.0, 30.0]       8.588480       1.690216       43.424373      11.729140\n",
      "(30.0, 50.0]       7.689383       1.933327       32.398709      19.597521\n",
      "(50.0, 99.0]       6.159894       0.871232       23.356627      18.918990\n"
     ]
    }
   ],
   "source": [
    "individuals = data_daily.groupby([\"household_id\", \"person_n\"]).agg(\n",
    "    spent_walking = (\"spent_walking\", np.sum),\n",
    "    spent_cycling = (\"spent_cycling\", np.sum),\n",
    "    spent_pt_total = (\"spent_pt_total\", np.sum),\n",
    "    spent_driving = (\"spent_driving\", np.sum),\n",
    "    age_trunks = (\"age_trunks\", np.min))\n",
    "\n",
    "\n",
    "### After summing just do an average on all the individuals\n",
    "Average = individuals.groupby([\"age_trunks\"]).mean()\n",
    "print(Average*60)"
   ]
  },
  {
   "cell_type": "code",
   "execution_count": 18,
   "metadata": {},
   "outputs": [
    {
     "name": "stdout",
     "output_type": "stream",
     "text": [
      "              spent_walking  spent_cycling  spent_pt_total  spent_driving\n",
      "age_trunks                                                               \n",
      "(5.0, 15.0]        7.876348       0.319017       17.899315      13.095569\n",
      "(15.0, 30.0]       8.588480       1.690216       43.424373      11.729140\n",
      "(30.0, 50.0]       7.689383       1.933327       32.398709      19.597521\n",
      "(50.0, 99.0]       6.159894       0.871232       23.356627      18.918990\n",
      "              spent_walking  spent_cycling  spent_pt_total  spent_driving\n",
      "age_trunks                                                               \n",
      "(5.0, 15.0]        1.023925       0.041472        2.326911       1.702424\n",
      "(15.0, 30.0]       1.288272       0.253532        6.513656       1.759371\n",
      "(30.0, 50.0]       3.306435       0.831331       13.931445       8.426934\n",
      "(50.0, 99.0]       1.786369       0.252657        6.773422       5.486507\n",
      "spent_walking      7.405001\n",
      "spent_cycling      1.378993\n",
      "spent_pt_total    29.545434\n",
      "spent_driving     17.375236\n",
      "dtype: float64\n"
     ]
    }
   ],
   "source": [
    "# Population \n",
    "\n",
    "p_15 = 0.13\n",
    "p_30 = 0.15\n",
    "p_50 = 0.43\n",
    "p_99 = 0.29\n",
    "\n",
    "population = [p_15, p_30, p_50,p_99]\n",
    "\n",
    "print(Average*60)\n",
    "\n",
    "Ponderation = Average[[\"spent_walking\", \"spent_cycling\", \"spent_pt_total\", \"spent_driving\" ]].multiply(population,axis=0)\n",
    "\n",
    "print(Ponderation*60)\n",
    "\n",
    "Result = Ponderation.sum()*60\n",
    "\n",
    "print (Result)\n"
   ]
  }
 ],
 "metadata": {
  "kernelspec": {
   "display_name": "Python_Intro",
   "language": "python",
   "name": "python3"
  },
  "language_info": {
   "codemirror_mode": {
    "name": "ipython",
    "version": 3
   },
   "file_extension": ".py",
   "mimetype": "text/x-python",
   "name": "python",
   "nbconvert_exporter": "python",
   "pygments_lexer": "ipython3",
   "version": "3.7.9"
  },
  "vscode": {
   "interpreter": {
    "hash": "c310c0dc667aa831f1a519283c548932589d17865ddb2f757d6fe0c3e5c5efeb"
   }
  }
 },
 "nbformat": 4,
 "nbformat_minor": 2
}
