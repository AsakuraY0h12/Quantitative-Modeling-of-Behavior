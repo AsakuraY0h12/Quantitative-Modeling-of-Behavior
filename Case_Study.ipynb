{
 "cells": [
  {
   "cell_type": "code",
   "execution_count": 1,
   "id": "zDiUpYHQvJae",
   "metadata": {
    "colab": {
     "base_uri": "https://localhost:8080/"
    },
    "id": "zDiUpYHQvJae",
    "outputId": "8f9f55b3-4a8a-4187-f110-f85399e5688f"
   },
   "outputs": [
    {
     "name": "stdout",
     "output_type": "stream",
     "text": [
      "Looking in indexes: https://pypi.org/simple, https://us-python.pkg.dev/colab-wheels/public/simple/\n",
      "Collecting biogeme\n",
      "  Downloading biogeme-3.2.11-py3-none-any.whl (139 kB)\n",
      "\u001b[2K     \u001b[90m━━━━━━━━━━━━━━━━━━━━━━━━━━━━━━━━━━━━━━━\u001b[0m \u001b[32m139.8/139.8 kB\u001b[0m \u001b[31m2.8 MB/s\u001b[0m eta \u001b[36m0:00:00\u001b[0m\n",
      "\u001b[?25hRequirement already satisfied: pandas>=1.3.5 in /usr/local/lib/python3.10/dist-packages (from biogeme) (1.5.3)\n",
      "Requirement already satisfied: scipy>=1.7.3 in /usr/local/lib/python3.10/dist-packages (from biogeme) (1.10.1)\n",
      "Requirement already satisfied: tqdm>=4.64.1 in /usr/local/lib/python3.10/dist-packages (from biogeme) (4.65.0)\n",
      "Collecting tomlkit>=0.11.5 (from biogeme)\n",
      "  Downloading tomlkit-0.11.8-py3-none-any.whl (35 kB)\n",
      "Collecting cythonbiogeme>=1.0.1 (from biogeme)\n",
      "  Downloading cythonbiogeme-1.0.1.tar.gz (1.6 MB)\n",
      "\u001b[2K     \u001b[90m━━━━━━━━━━━━━━━━━━━━━━━━━━━━━━━━━━━━━━━━\u001b[0m \u001b[32m1.6/1.6 MB\u001b[0m \u001b[31m15.4 MB/s\u001b[0m eta \u001b[36m0:00:00\u001b[0m\n",
      "\u001b[?25h  Installing build dependencies ... \u001b[?25l\u001b[?25hdone\n",
      "  Getting requirements to build wheel ... \u001b[?25l\u001b[?25hdone\n",
      "  Preparing metadata (pyproject.toml) ... \u001b[?25l\u001b[?25hdone\n",
      "Requirement already satisfied: cython>=0.29.16 in /usr/local/lib/python3.10/dist-packages (from cythonbiogeme>=1.0.1->biogeme) (0.29.34)\n",
      "Requirement already satisfied: python-dateutil>=2.8.1 in /usr/local/lib/python3.10/dist-packages (from pandas>=1.3.5->biogeme) (2.8.2)\n",
      "Requirement already satisfied: pytz>=2020.1 in /usr/local/lib/python3.10/dist-packages (from pandas>=1.3.5->biogeme) (2022.7.1)\n",
      "Requirement already satisfied: numpy>=1.21.0 in /usr/local/lib/python3.10/dist-packages (from pandas>=1.3.5->biogeme) (1.22.4)\n",
      "Requirement already satisfied: six>=1.5 in /usr/local/lib/python3.10/dist-packages (from python-dateutil>=2.8.1->pandas>=1.3.5->biogeme) (1.16.0)\n",
      "Building wheels for collected packages: cythonbiogeme\n",
      "  Building wheel for cythonbiogeme (pyproject.toml) ... \u001b[?25l\u001b[?25hdone\n",
      "  Created wheel for cythonbiogeme: filename=cythonbiogeme-1.0.1-cp310-cp310-linux_x86_64.whl size=5504222 sha256=0948bbb7cb69f5160e624f6a97593fde202d555e9cf16bd3a907de8d83cc51a4\n",
      "  Stored in directory: /root/.cache/pip/wheels/43/d4/07/0d02caa7b6e1280bc54246647cc7d00af17c86875448458947\n",
      "Successfully built cythonbiogeme\n",
      "Installing collected packages: tomlkit, cythonbiogeme, biogeme\n",
      "Successfully installed biogeme-3.2.11 cythonbiogeme-1.0.1 tomlkit-0.11.8\n"
     ]
    }
   ],
   "source": [
    "!pip install biogeme"
   ]
  },
  {
   "cell_type": "code",
   "execution_count": 1,
   "id": "bce381e1",
   "metadata": {
    "id": "bce381e1"
   },
   "outputs": [],
   "source": [
    "import pandas as pd\n",
    "import numpy as np\n",
    "import biogeme.database as db  \n",
    "import biogeme.biogeme as bio\n",
    "from biogeme import models\n",
    "from biogeme.expressions import Beta, Variable, log, Derive\n",
    "import biogeme.results as res \n",
    "from biogeme import models, tools\n",
    "import matplotlib.pyplot as plt\n",
    "import seaborn as sns"
   ]
  },
  {
   "cell_type": "markdown",
   "id": "3e816453",
   "metadata": {
    "id": "3e816453"
   },
   "source": [
    "## UPLOAD DATA"
   ]
  },
  {
   "cell_type": "code",
   "execution_count": 3,
   "id": "iydGaYAKvNIN",
   "metadata": {
    "colab": {
     "base_uri": "https://localhost:8080/",
     "height": 73
    },
    "id": "iydGaYAKvNIN",
    "outputId": "1708cbd8-7243-489e-9f3e-378d27ea7b60"
   },
   "outputs": [
    {
     "data": {
      "text/html": [
       "\n",
       "     <input type=\"file\" id=\"files-25872070-5873-4222-b71f-165c712a5a9b\" name=\"files[]\" multiple disabled\n",
       "        style=\"border:none\" />\n",
       "     <output id=\"result-25872070-5873-4222-b71f-165c712a5a9b\">\n",
       "      Upload widget is only available when the cell has been executed in the\n",
       "      current browser session. Please rerun this cell to enable.\n",
       "      </output>\n",
       "      <script>// Copyright 2017 Google LLC\n",
       "//\n",
       "// Licensed under the Apache License, Version 2.0 (the \"License\");\n",
       "// you may not use this file except in compliance with the License.\n",
       "// You may obtain a copy of the License at\n",
       "//\n",
       "//      http://www.apache.org/licenses/LICENSE-2.0\n",
       "//\n",
       "// Unless required by applicable law or agreed to in writing, software\n",
       "// distributed under the License is distributed on an \"AS IS\" BASIS,\n",
       "// WITHOUT WARRANTIES OR CONDITIONS OF ANY KIND, either express or implied.\n",
       "// See the License for the specific language governing permissions and\n",
       "// limitations under the License.\n",
       "\n",
       "/**\n",
       " * @fileoverview Helpers for google.colab Python module.\n",
       " */\n",
       "(function(scope) {\n",
       "function span(text, styleAttributes = {}) {\n",
       "  const element = document.createElement('span');\n",
       "  element.textContent = text;\n",
       "  for (const key of Object.keys(styleAttributes)) {\n",
       "    element.style[key] = styleAttributes[key];\n",
       "  }\n",
       "  return element;\n",
       "}\n",
       "\n",
       "// Max number of bytes which will be uploaded at a time.\n",
       "const MAX_PAYLOAD_SIZE = 100 * 1024;\n",
       "\n",
       "function _uploadFiles(inputId, outputId) {\n",
       "  const steps = uploadFilesStep(inputId, outputId);\n",
       "  const outputElement = document.getElementById(outputId);\n",
       "  // Cache steps on the outputElement to make it available for the next call\n",
       "  // to uploadFilesContinue from Python.\n",
       "  outputElement.steps = steps;\n",
       "\n",
       "  return _uploadFilesContinue(outputId);\n",
       "}\n",
       "\n",
       "// This is roughly an async generator (not supported in the browser yet),\n",
       "// where there are multiple asynchronous steps and the Python side is going\n",
       "// to poll for completion of each step.\n",
       "// This uses a Promise to block the python side on completion of each step,\n",
       "// then passes the result of the previous step as the input to the next step.\n",
       "function _uploadFilesContinue(outputId) {\n",
       "  const outputElement = document.getElementById(outputId);\n",
       "  const steps = outputElement.steps;\n",
       "\n",
       "  const next = steps.next(outputElement.lastPromiseValue);\n",
       "  return Promise.resolve(next.value.promise).then((value) => {\n",
       "    // Cache the last promise value to make it available to the next\n",
       "    // step of the generator.\n",
       "    outputElement.lastPromiseValue = value;\n",
       "    return next.value.response;\n",
       "  });\n",
       "}\n",
       "\n",
       "/**\n",
       " * Generator function which is called between each async step of the upload\n",
       " * process.\n",
       " * @param {string} inputId Element ID of the input file picker element.\n",
       " * @param {string} outputId Element ID of the output display.\n",
       " * @return {!Iterable<!Object>} Iterable of next steps.\n",
       " */\n",
       "function* uploadFilesStep(inputId, outputId) {\n",
       "  const inputElement = document.getElementById(inputId);\n",
       "  inputElement.disabled = false;\n",
       "\n",
       "  const outputElement = document.getElementById(outputId);\n",
       "  outputElement.innerHTML = '';\n",
       "\n",
       "  const pickedPromise = new Promise((resolve) => {\n",
       "    inputElement.addEventListener('change', (e) => {\n",
       "      resolve(e.target.files);\n",
       "    });\n",
       "  });\n",
       "\n",
       "  const cancel = document.createElement('button');\n",
       "  inputElement.parentElement.appendChild(cancel);\n",
       "  cancel.textContent = 'Cancel upload';\n",
       "  const cancelPromise = new Promise((resolve) => {\n",
       "    cancel.onclick = () => {\n",
       "      resolve(null);\n",
       "    };\n",
       "  });\n",
       "\n",
       "  // Wait for the user to pick the files.\n",
       "  const files = yield {\n",
       "    promise: Promise.race([pickedPromise, cancelPromise]),\n",
       "    response: {\n",
       "      action: 'starting',\n",
       "    }\n",
       "  };\n",
       "\n",
       "  cancel.remove();\n",
       "\n",
       "  // Disable the input element since further picks are not allowed.\n",
       "  inputElement.disabled = true;\n",
       "\n",
       "  if (!files) {\n",
       "    return {\n",
       "      response: {\n",
       "        action: 'complete',\n",
       "      }\n",
       "    };\n",
       "  }\n",
       "\n",
       "  for (const file of files) {\n",
       "    const li = document.createElement('li');\n",
       "    li.append(span(file.name, {fontWeight: 'bold'}));\n",
       "    li.append(span(\n",
       "        `(${file.type || 'n/a'}) - ${file.size} bytes, ` +\n",
       "        `last modified: ${\n",
       "            file.lastModifiedDate ? file.lastModifiedDate.toLocaleDateString() :\n",
       "                                    'n/a'} - `));\n",
       "    const percent = span('0% done');\n",
       "    li.appendChild(percent);\n",
       "\n",
       "    outputElement.appendChild(li);\n",
       "\n",
       "    const fileDataPromise = new Promise((resolve) => {\n",
       "      const reader = new FileReader();\n",
       "      reader.onload = (e) => {\n",
       "        resolve(e.target.result);\n",
       "      };\n",
       "      reader.readAsArrayBuffer(file);\n",
       "    });\n",
       "    // Wait for the data to be ready.\n",
       "    let fileData = yield {\n",
       "      promise: fileDataPromise,\n",
       "      response: {\n",
       "        action: 'continue',\n",
       "      }\n",
       "    };\n",
       "\n",
       "    // Use a chunked sending to avoid message size limits. See b/62115660.\n",
       "    let position = 0;\n",
       "    do {\n",
       "      const length = Math.min(fileData.byteLength - position, MAX_PAYLOAD_SIZE);\n",
       "      const chunk = new Uint8Array(fileData, position, length);\n",
       "      position += length;\n",
       "\n",
       "      const base64 = btoa(String.fromCharCode.apply(null, chunk));\n",
       "      yield {\n",
       "        response: {\n",
       "          action: 'append',\n",
       "          file: file.name,\n",
       "          data: base64,\n",
       "        },\n",
       "      };\n",
       "\n",
       "      let percentDone = fileData.byteLength === 0 ?\n",
       "          100 :\n",
       "          Math.round((position / fileData.byteLength) * 100);\n",
       "      percent.textContent = `${percentDone}% done`;\n",
       "\n",
       "    } while (position < fileData.byteLength);\n",
       "  }\n",
       "\n",
       "  // All done.\n",
       "  yield {\n",
       "    response: {\n",
       "      action: 'complete',\n",
       "    }\n",
       "  };\n",
       "}\n",
       "\n",
       "scope.google = scope.google || {};\n",
       "scope.google.colab = scope.google.colab || {};\n",
       "scope.google.colab._files = {\n",
       "  _uploadFiles,\n",
       "  _uploadFilesContinue,\n",
       "};\n",
       "})(self);\n",
       "</script> "
      ],
      "text/plain": [
       "<IPython.core.display.HTML object>"
      ]
     },
     "metadata": {},
     "output_type": "display_data"
    },
    {
     "name": "stdout",
     "output_type": "stream",
     "text": [
      "Saving dataset.csv to dataset.csv\n"
     ]
    }
   ],
   "source": [
    "from google.colab import files\n",
    "uploaded = files.upload()"
   ]
  },
  {
   "cell_type": "code",
   "execution_count": 4,
   "id": "296e2d0e",
   "metadata": {
    "id": "296e2d0e"
   },
   "outputs": [],
   "source": [
    "# Read the data\n",
    "df = pd.read_csv('dataset.csv')"
   ]
  },
  {
   "cell_type": "code",
   "execution_count": 6,
   "id": "848c9bb7",
   "metadata": {
    "id": "848c9bb7"
   },
   "outputs": [],
   "source": [
    "df['choice'] = df['travel_mode'].astype('category').cat.codes\n",
    "\n",
    "for elem in set(df[\"purpose\"]):\n",
    "    df[elem] = np.where(df[\"purpose\"]==elem,1,0)\n",
    "\n",
    "for elem in set(df[\"fueltype\"]):\n",
    "    df[elem] = np.where(df[\"fueltype\"]==elem,1,0)\n",
    "\n",
    "for elem in set(df[\"faretype\"]):\n",
    "    df[elem] = np.where(df[\"faretype\"]==elem,1,0)\n",
    "\n",
    "df.drop('faretype',inplace=True,axis=1)\n",
    "df.drop('purpose',inplace=True,axis=1)\n",
    "df.drop('fueltype',inplace=True,axis=1)\n",
    "df.drop('travel_mode',inplace=True,axis=1)"
   ]
  },
  {
   "cell_type": "code",
   "execution_count": 7,
   "id": "bfbc84ae",
   "metadata": {
    "colab": {
     "base_uri": "https://localhost:8080/"
    },
    "id": "bfbc84ae",
    "outputId": "37ad325a-a9e7-4e36-d76d-10b90c24f496"
   },
   "outputs": [
    {
     "data": {
      "text/plain": [
       "1    35808\n",
       "2    28605\n",
       "3    14268\n",
       "0     2405\n",
       "Name: choice, dtype: int64"
      ]
     },
     "execution_count": 7,
     "metadata": {},
     "output_type": "execute_result"
    }
   ],
   "source": [
    "df['choice'].value_counts()"
   ]
  },
  {
   "cell_type": "code",
   "execution_count": 8,
   "id": "2cee5d47",
   "metadata": {
    "id": "2cee5d47"
   },
   "outputs": [],
   "source": [
    "df[\"no_inter\"] = np.where(df[\"pt_n_interchanges\"]== 0,1,0)\n",
    "df[\"one_inter\"] = np.where(df[\"pt_n_interchanges\"]== 1,1,0)\n",
    "df[\"more_than_one_inter\"] = np.where(df[\"pt_n_interchanges\"]> 1,1,0)"
   ]
  },
  {
   "cell_type": "code",
   "execution_count": 9,
   "id": "92d80ff5",
   "metadata": {
    "id": "92d80ff5"
   },
   "outputs": [],
   "source": [
    "df.drop('age', inplace = True, axis = 1)"
   ]
  },
  {
   "cell_type": "code",
   "execution_count": 10,
   "id": "87fa1cee",
   "metadata": {
    "id": "87fa1cee"
   },
   "outputs": [],
   "source": [
    "database = db.Database('dataset', df)\n",
    "globals().update(database.variables)"
   ]
  },
  {
   "cell_type": "code",
   "execution_count": 11,
   "id": "a72fed32",
   "metadata": {
    "colab": {
     "base_uri": "https://localhost:8080/",
     "height": 468
    },
    "id": "a72fed32",
    "outputId": "3a28e1c7-514e-48b8-9208-63650ae5884a"
   },
   "outputs": [
    {
     "data": {
      "text/html": [
       "<div>\n",
       "<style scoped>\n",
       "    .dataframe tbody tr th:only-of-type {\n",
       "        vertical-align: middle;\n",
       "    }\n",
       "\n",
       "    .dataframe tbody tr th {\n",
       "        vertical-align: top;\n",
       "    }\n",
       "\n",
       "    .dataframe thead th {\n",
       "        text-align: right;\n",
       "    }\n",
       "</style>\n",
       "<table border=\"1\" class=\"dataframe\">\n",
       "  <thead>\n",
       "    <tr style=\"text-align: right;\">\n",
       "      <th></th>\n",
       "      <th>trip_id</th>\n",
       "      <th>household_id</th>\n",
       "      <th>person_n</th>\n",
       "      <th>trip_n</th>\n",
       "      <th>bus_scale</th>\n",
       "      <th>survey_year</th>\n",
       "      <th>travel_year</th>\n",
       "      <th>travel_month</th>\n",
       "      <th>travel_date</th>\n",
       "      <th>day_of_week</th>\n",
       "      <th>...</th>\n",
       "      <th>Diesel_Car</th>\n",
       "      <th>Diesel_LGV</th>\n",
       "      <th>16+</th>\n",
       "      <th>dis</th>\n",
       "      <th>child</th>\n",
       "      <th>free</th>\n",
       "      <th>full</th>\n",
       "      <th>no_inter</th>\n",
       "      <th>one_inter</th>\n",
       "      <th>more_than_one_inter</th>\n",
       "    </tr>\n",
       "  </thead>\n",
       "  <tbody>\n",
       "    <tr>\n",
       "      <th>0</th>\n",
       "      <td>0</td>\n",
       "      <td>0</td>\n",
       "      <td>0</td>\n",
       "      <td>0</td>\n",
       "      <td>1.0</td>\n",
       "      <td>1</td>\n",
       "      <td>2012</td>\n",
       "      <td>4</td>\n",
       "      <td>1</td>\n",
       "      <td>7</td>\n",
       "      <td>...</td>\n",
       "      <td>0</td>\n",
       "      <td>0</td>\n",
       "      <td>0</td>\n",
       "      <td>0</td>\n",
       "      <td>0</td>\n",
       "      <td>0</td>\n",
       "      <td>1</td>\n",
       "      <td>1</td>\n",
       "      <td>0</td>\n",
       "      <td>0</td>\n",
       "    </tr>\n",
       "    <tr>\n",
       "      <th>1</th>\n",
       "      <td>1</td>\n",
       "      <td>0</td>\n",
       "      <td>0</td>\n",
       "      <td>1</td>\n",
       "      <td>1.0</td>\n",
       "      <td>1</td>\n",
       "      <td>2012</td>\n",
       "      <td>4</td>\n",
       "      <td>1</td>\n",
       "      <td>7</td>\n",
       "      <td>...</td>\n",
       "      <td>0</td>\n",
       "      <td>0</td>\n",
       "      <td>0</td>\n",
       "      <td>0</td>\n",
       "      <td>0</td>\n",
       "      <td>0</td>\n",
       "      <td>1</td>\n",
       "      <td>1</td>\n",
       "      <td>0</td>\n",
       "      <td>0</td>\n",
       "    </tr>\n",
       "    <tr>\n",
       "      <th>2</th>\n",
       "      <td>2</td>\n",
       "      <td>0</td>\n",
       "      <td>0</td>\n",
       "      <td>2</td>\n",
       "      <td>1.0</td>\n",
       "      <td>1</td>\n",
       "      <td>2012</td>\n",
       "      <td>4</td>\n",
       "      <td>1</td>\n",
       "      <td>7</td>\n",
       "      <td>...</td>\n",
       "      <td>0</td>\n",
       "      <td>0</td>\n",
       "      <td>0</td>\n",
       "      <td>0</td>\n",
       "      <td>0</td>\n",
       "      <td>0</td>\n",
       "      <td>1</td>\n",
       "      <td>1</td>\n",
       "      <td>0</td>\n",
       "      <td>0</td>\n",
       "    </tr>\n",
       "    <tr>\n",
       "      <th>3</th>\n",
       "      <td>3</td>\n",
       "      <td>0</td>\n",
       "      <td>0</td>\n",
       "      <td>3</td>\n",
       "      <td>1.0</td>\n",
       "      <td>1</td>\n",
       "      <td>2012</td>\n",
       "      <td>4</td>\n",
       "      <td>1</td>\n",
       "      <td>7</td>\n",
       "      <td>...</td>\n",
       "      <td>0</td>\n",
       "      <td>0</td>\n",
       "      <td>0</td>\n",
       "      <td>0</td>\n",
       "      <td>0</td>\n",
       "      <td>0</td>\n",
       "      <td>1</td>\n",
       "      <td>1</td>\n",
       "      <td>0</td>\n",
       "      <td>0</td>\n",
       "    </tr>\n",
       "    <tr>\n",
       "      <th>4</th>\n",
       "      <td>4</td>\n",
       "      <td>0</td>\n",
       "      <td>1</td>\n",
       "      <td>2</td>\n",
       "      <td>1.0</td>\n",
       "      <td>1</td>\n",
       "      <td>2012</td>\n",
       "      <td>4</td>\n",
       "      <td>1</td>\n",
       "      <td>7</td>\n",
       "      <td>...</td>\n",
       "      <td>0</td>\n",
       "      <td>0</td>\n",
       "      <td>0</td>\n",
       "      <td>1</td>\n",
       "      <td>0</td>\n",
       "      <td>0</td>\n",
       "      <td>0</td>\n",
       "      <td>1</td>\n",
       "      <td>0</td>\n",
       "      <td>0</td>\n",
       "    </tr>\n",
       "    <tr>\n",
       "      <th>...</th>\n",
       "      <td>...</td>\n",
       "      <td>...</td>\n",
       "      <td>...</td>\n",
       "      <td>...</td>\n",
       "      <td>...</td>\n",
       "      <td>...</td>\n",
       "      <td>...</td>\n",
       "      <td>...</td>\n",
       "      <td>...</td>\n",
       "      <td>...</td>\n",
       "      <td>...</td>\n",
       "      <td>...</td>\n",
       "      <td>...</td>\n",
       "      <td>...</td>\n",
       "      <td>...</td>\n",
       "      <td>...</td>\n",
       "      <td>...</td>\n",
       "      <td>...</td>\n",
       "      <td>...</td>\n",
       "      <td>...</td>\n",
       "      <td>...</td>\n",
       "    </tr>\n",
       "    <tr>\n",
       "      <th>81081</th>\n",
       "      <td>81081</td>\n",
       "      <td>17615</td>\n",
       "      <td>0</td>\n",
       "      <td>0</td>\n",
       "      <td>1.0</td>\n",
       "      <td>3</td>\n",
       "      <td>2015</td>\n",
       "      <td>3</td>\n",
       "      <td>31</td>\n",
       "      <td>2</td>\n",
       "      <td>...</td>\n",
       "      <td>0</td>\n",
       "      <td>0</td>\n",
       "      <td>0</td>\n",
       "      <td>0</td>\n",
       "      <td>0</td>\n",
       "      <td>0</td>\n",
       "      <td>1</td>\n",
       "      <td>0</td>\n",
       "      <td>0</td>\n",
       "      <td>1</td>\n",
       "    </tr>\n",
       "    <tr>\n",
       "      <th>81082</th>\n",
       "      <td>81082</td>\n",
       "      <td>17615</td>\n",
       "      <td>0</td>\n",
       "      <td>2</td>\n",
       "      <td>1.0</td>\n",
       "      <td>3</td>\n",
       "      <td>2015</td>\n",
       "      <td>3</td>\n",
       "      <td>31</td>\n",
       "      <td>2</td>\n",
       "      <td>...</td>\n",
       "      <td>0</td>\n",
       "      <td>0</td>\n",
       "      <td>0</td>\n",
       "      <td>0</td>\n",
       "      <td>0</td>\n",
       "      <td>0</td>\n",
       "      <td>1</td>\n",
       "      <td>0</td>\n",
       "      <td>0</td>\n",
       "      <td>1</td>\n",
       "    </tr>\n",
       "    <tr>\n",
       "      <th>81083</th>\n",
       "      <td>81083</td>\n",
       "      <td>17615</td>\n",
       "      <td>0</td>\n",
       "      <td>3</td>\n",
       "      <td>1.0</td>\n",
       "      <td>3</td>\n",
       "      <td>2015</td>\n",
       "      <td>3</td>\n",
       "      <td>31</td>\n",
       "      <td>2</td>\n",
       "      <td>...</td>\n",
       "      <td>0</td>\n",
       "      <td>0</td>\n",
       "      <td>0</td>\n",
       "      <td>0</td>\n",
       "      <td>0</td>\n",
       "      <td>0</td>\n",
       "      <td>1</td>\n",
       "      <td>1</td>\n",
       "      <td>0</td>\n",
       "      <td>0</td>\n",
       "    </tr>\n",
       "    <tr>\n",
       "      <th>81084</th>\n",
       "      <td>81084</td>\n",
       "      <td>17615</td>\n",
       "      <td>1</td>\n",
       "      <td>0</td>\n",
       "      <td>1.0</td>\n",
       "      <td>3</td>\n",
       "      <td>2015</td>\n",
       "      <td>3</td>\n",
       "      <td>31</td>\n",
       "      <td>2</td>\n",
       "      <td>...</td>\n",
       "      <td>0</td>\n",
       "      <td>0</td>\n",
       "      <td>0</td>\n",
       "      <td>0</td>\n",
       "      <td>0</td>\n",
       "      <td>0</td>\n",
       "      <td>1</td>\n",
       "      <td>0</td>\n",
       "      <td>0</td>\n",
       "      <td>1</td>\n",
       "    </tr>\n",
       "    <tr>\n",
       "      <th>81085</th>\n",
       "      <td>81085</td>\n",
       "      <td>17615</td>\n",
       "      <td>1</td>\n",
       "      <td>1</td>\n",
       "      <td>1.0</td>\n",
       "      <td>3</td>\n",
       "      <td>2015</td>\n",
       "      <td>3</td>\n",
       "      <td>31</td>\n",
       "      <td>2</td>\n",
       "      <td>...</td>\n",
       "      <td>0</td>\n",
       "      <td>0</td>\n",
       "      <td>0</td>\n",
       "      <td>0</td>\n",
       "      <td>0</td>\n",
       "      <td>0</td>\n",
       "      <td>1</td>\n",
       "      <td>0</td>\n",
       "      <td>1</td>\n",
       "      <td>0</td>\n",
       "    </tr>\n",
       "  </tbody>\n",
       "</table>\n",
       "<p>81086 rows × 51 columns</p>\n",
       "</div>"
      ],
      "text/plain": [
       "       trip_id  household_id  person_n  trip_n  bus_scale  survey_year  \\\n",
       "0            0             0         0       0        1.0            1   \n",
       "1            1             0         0       1        1.0            1   \n",
       "2            2             0         0       2        1.0            1   \n",
       "3            3             0         0       3        1.0            1   \n",
       "4            4             0         1       2        1.0            1   \n",
       "...        ...           ...       ...     ...        ...          ...   \n",
       "81081    81081         17615         0       0        1.0            3   \n",
       "81082    81082         17615         0       2        1.0            3   \n",
       "81083    81083         17615         0       3        1.0            3   \n",
       "81084    81084         17615         1       0        1.0            3   \n",
       "81085    81085         17615         1       1        1.0            3   \n",
       "\n",
       "       travel_year  travel_month  travel_date  day_of_week  ...  Diesel_Car  \\\n",
       "0             2012             4            1            7  ...           0   \n",
       "1             2012             4            1            7  ...           0   \n",
       "2             2012             4            1            7  ...           0   \n",
       "3             2012             4            1            7  ...           0   \n",
       "4             2012             4            1            7  ...           0   \n",
       "...            ...           ...          ...          ...  ...         ...   \n",
       "81081         2015             3           31            2  ...           0   \n",
       "81082         2015             3           31            2  ...           0   \n",
       "81083         2015             3           31            2  ...           0   \n",
       "81084         2015             3           31            2  ...           0   \n",
       "81085         2015             3           31            2  ...           0   \n",
       "\n",
       "       Diesel_LGV  16+  dis  child  free  full  no_inter  one_inter  \\\n",
       "0               0    0    0      0     0     1         1          0   \n",
       "1               0    0    0      0     0     1         1          0   \n",
       "2               0    0    0      0     0     1         1          0   \n",
       "3               0    0    0      0     0     1         1          0   \n",
       "4               0    0    1      0     0     0         1          0   \n",
       "...           ...  ...  ...    ...   ...   ...       ...        ...   \n",
       "81081           0    0    0      0     0     1         0          0   \n",
       "81082           0    0    0      0     0     1         0          0   \n",
       "81083           0    0    0      0     0     1         1          0   \n",
       "81084           0    0    0      0     0     1         0          0   \n",
       "81085           0    0    0      0     0     1         0          1   \n",
       "\n",
       "       more_than_one_inter  \n",
       "0                        0  \n",
       "1                        0  \n",
       "2                        0  \n",
       "3                        0  \n",
       "4                        0  \n",
       "...                    ...  \n",
       "81081                    1  \n",
       "81082                    1  \n",
       "81083                    0  \n",
       "81084                    1  \n",
       "81085                    0  \n",
       "\n",
       "[81086 rows x 51 columns]"
      ]
     },
     "execution_count": 11,
     "metadata": {},
     "output_type": "execute_result"
    }
   ],
   "source": [
    "df"
   ]
  },
  {
   "cell_type": "markdown",
   "id": "2f653306",
   "metadata": {
    "id": "2f653306"
   },
   "source": [
    "## MODEL 1"
   ]
  },
  {
   "cell_type": "markdown",
   "id": "ebbe8260",
   "metadata": {
    "id": "ebbe8260"
   },
   "source": [
    "We put different betas for the different variables of cost and for the different variables on time"
   ]
  },
  {
   "cell_type": "code",
   "execution_count": 12,
   "id": "9f2f017f",
   "metadata": {
    "id": "9f2f017f"
   },
   "outputs": [],
   "source": [
    "ASC_cycling = Beta('ASC_cycling',0,None,None,0)\n",
    "ASC_driving = Beta('ASC_driving',0,None,None,0)\n",
    "ASC_walking = Beta('ASC_walking',0,None,None,0)\n",
    "\n",
    "B_time_1 = Beta('B_time_1',0,None,None,0)\n",
    "B_time_2 = Beta('B_time_2',0,None,None,0)\n",
    "B_time_3 = Beta('B_time_3',0,None,None,0)\n",
    "B_time_4 = Beta('B_time_4',0,None,None,0)\n",
    "B_cost_2 = Beta('B_cost_2',0,None,None,0)\n",
    "B_cost_3 = Beta('B_cost_3',0,None,None,0)\n",
    "B_dur_inter=Beta('B_dur_inter',0,None,None,0)\n",
    "B_n_inter=Beta('B_n_inter',0,None,None,0)\n",
    "\n",
    "V0 = ASC_cycling + B_time_1 * dur_cycling\n",
    "V1 = ASC_driving + B_time_2 * dur_driving + B_cost_2 * cost_driving_total\n",
    "V2 = B_time_3 * (dur_pt_rail +dur_pt_bus +dur_pt_access) + B_dur_inter*(dur_pt_int_total) + B_n_inter*(pt_n_interchanges) + B_cost_3 * cost_transit\n",
    "V3 = ASC_walking + B_time_4 * dur_walking\n",
    "\n",
    "V_1 = {0:V0, 1:V1, 2:V2, 3:V3}\n",
    "av_1 = {0:1, 1:1, 2:1, 3:1}"
   ]
  },
  {
   "cell_type": "code",
   "execution_count": 13,
   "id": "48f367fa",
   "metadata": {
    "colab": {
     "base_uri": "https://localhost:8080/"
    },
    "id": "48f367fa",
    "outputId": "c344a125-ac8e-486b-a7e3-1e8b41dd499c"
   },
   "outputs": [
    {
     "name": "stderr",
     "output_type": "stream",
     "text": [
      "WARNING:biogeme.toml:File biogeme.toml has been created\n"
     ]
    }
   ],
   "source": [
    "logprob = models.loglogit(V_1,av_1,choice)\n",
    "biogeme = bio.BIOGEME (database, logprob)\n",
    "biogeme.modelName='Model_1'\n",
    "results_1 = biogeme.estimate()"
   ]
  },
  {
   "cell_type": "code",
   "execution_count": 14,
   "id": "2bd2d8d3",
   "metadata": {
    "colab": {
     "base_uri": "https://localhost:8080/"
    },
    "id": "2bd2d8d3",
    "outputId": "d4888d36-3149-4e9e-d6d1-db3d1bc5f9a9"
   },
   "outputs": [
    {
     "name": "stdout",
     "output_type": "stream",
     "text": [
      "                Value  Rob. Std err  Rob. t-test  Rob. p-value\n",
      "ASC_cycling -2.286851      0.040535   -56.416980      0.000000\n",
      "ASC_driving  0.472526      0.020004    23.621788      0.000000\n",
      "ASC_walking  2.394155      0.035133    68.146407      0.000000\n",
      "B_cost_2    -0.145912      0.003907   -37.344621      0.000000\n",
      "B_cost_3    -0.178363      0.008215   -21.712189      0.000000\n",
      "B_dur_inter -5.195028      0.408679   -12.711755      0.000000\n",
      "B_n_inter    0.153810      0.051003     3.015704      0.002564\n",
      "B_time_1    -5.471935      0.120224   -45.514485      0.000000\n",
      "B_time_2    -6.316319      0.106814   -59.133686      0.000000\n",
      "B_time_3    -3.168748      0.067329   -47.063725      0.000000\n",
      "B_time_4    -8.276034      0.102789   -80.514628      0.000000\n",
      "-----------------------------------\n",
      "Final Loglikelihood: -69818.87614475124\n"
     ]
    }
   ],
   "source": [
    "# Get the results in a pandas table\n",
    "pandasResults_1 = results_1.getEstimatedParameters()\n",
    "print(pandasResults_1)\n",
    "print('-----------------------------------')\n",
    "final_LL_1 = results_1.data.logLike\n",
    "print(f'Final Loglikelihood: {final_LL_1}')"
   ]
  },
  {
   "cell_type": "markdown",
   "id": "0ba106fb",
   "metadata": {
    "id": "0ba106fb"
   },
   "source": [
    "We can highlight that a negative value in the B_dur_inter makes sense because an increase in the duration of the interchange will mean a decrease in the utility. However, we can't use this medel because tha possitive value of the B_n_inter (number of interchanges) makes no sense (because an increase in the duration of the interchange cannot mean an increase in the utility). We also tested in the development of this assigment the equivalent models with same betas for all times and same for all costs also provoque a possitive result of number of interchanges."
   ]
  },
  {
   "cell_type": "markdown",
   "id": "6b2fb27b",
   "metadata": {
    "id": "6b2fb27b"
   },
   "source": [
    "## Model 2"
   ]
  },
  {
   "cell_type": "markdown",
   "id": "d06732fc",
   "metadata": {
    "id": "d06732fc"
   },
   "source": [
    "Now we split the variable \"dur_pt_int_total\" in the sum of \"dur_pt_int_waiting\" and \"dur_pt_int_walking\"."
   ]
  },
  {
   "cell_type": "code",
   "execution_count": 15,
   "id": "a64c2528",
   "metadata": {
    "id": "a64c2528"
   },
   "outputs": [],
   "source": [
    "ASC_cycling = Beta('ASC_cycling',0,None,None,0)\n",
    "ASC_driving = Beta('ASC_driving',0,None,None,0)\n",
    "ASC_walking = Beta('ASC_walking',0,None,None,0)\n",
    "\n",
    "B_time_1 = Beta('B_time_1',0,None,None,0)\n",
    "B_time_2 = Beta('B_time_2',0,None,None,0)\n",
    "B_time_3 = Beta('B_time_3',0,None,None,0)\n",
    "B_time_4 = Beta('B_time_4',0,None,None,0)\n",
    "B_cost_2 = Beta('B_cost_2',0,None,None,0)\n",
    "B_cost_3 = Beta('B_cost_3',0,None,None,0)\n",
    "B_dur_walking=Beta('B_dur_walking',0,None,None,0)\n",
    "B_dur_waiting=Beta('B_dur_waiting',0,None,None,0)\n",
    "B_n_inter=Beta('B_n_inter',0,None,None,0)\n",
    "\n",
    "V0 = ASC_cycling + B_time_1 * dur_cycling\n",
    "V1 = ASC_driving + B_time_2 * dur_driving + B_cost_2 * cost_driving_total\n",
    "V2 = B_time_3 * (dur_pt_rail +dur_pt_bus +dur_pt_access) + B_dur_waiting*(dur_pt_int_waiting) + B_dur_walking*(dur_pt_int_walking) + B_n_inter*(pt_n_interchanges) + B_cost_3 * cost_transit\n",
    "V3 = ASC_walking + B_time_4 * dur_walking\n",
    "\n",
    "V_2 = {0:V0, 1:V1, 2:V2, 3:V3}\n",
    "av_2 = {0:1, 1:1, 2:1, 3:1}"
   ]
  },
  {
   "cell_type": "code",
   "execution_count": 16,
   "id": "a07be690",
   "metadata": {
    "id": "a07be690"
   },
   "outputs": [],
   "source": [
    "logprob = models.loglogit(V_2,av_2,choice)\n",
    "biogeme = bio.BIOGEME (database, logprob)\n",
    "biogeme.modelName='Model_2'\n",
    "results_2 = biogeme.estimate()"
   ]
  },
  {
   "cell_type": "code",
   "execution_count": 17,
   "id": "47bfb008",
   "metadata": {
    "colab": {
     "base_uri": "https://localhost:8080/"
    },
    "id": "47bfb008",
    "outputId": "283c1375-23a1-42ca-bbd9-0340e557f420"
   },
   "outputs": [
    {
     "name": "stdout",
     "output_type": "stream",
     "text": [
      "                  Value  Rob. Std err  Rob. t-test  Rob. p-value\n",
      "ASC_cycling   -2.287255      0.040536   -56.424651  0.000000e+00\n",
      "ASC_driving    0.471912      0.020007    23.587886  0.000000e+00\n",
      "ASC_walking    2.393879      0.035134    68.136599  0.000000e+00\n",
      "B_cost_2      -0.145928      0.003907   -37.354937  0.000000e+00\n",
      "B_cost_3      -0.179788      0.008259   -21.768169  0.000000e+00\n",
      "B_dur_waiting -5.538907      0.461713   -11.996434  0.000000e+00\n",
      "B_dur_walking -4.009316      0.803298    -4.991071  6.004548e-07\n",
      "B_n_inter      0.168991      0.052184     3.238380  1.202106e-03\n",
      "B_time_1      -5.455941      0.120515   -45.272051  0.000000e+00\n",
      "B_time_2      -6.296644      0.107510   -58.567746  0.000000e+00\n",
      "B_time_3      -3.155566      0.067855   -46.504799  0.000000e+00\n",
      "B_time_4      -8.270890      0.102880   -80.393470  0.000000e+00\n",
      "-----------------------------------\n",
      "Final Loglikelihood: -69817.36450026325\n"
     ]
    }
   ],
   "source": [
    "# Get the results in a pandas table\n",
    "pandasResults = results_2.getEstimatedParameters()\n",
    "print(pandasResults)\n",
    "print('-----------------------------------')\n",
    "final_LL_2 = results_2.data.logLike\n",
    "print(f'Final Loglikelihood: {final_LL_2}')"
   ]
  },
  {
   "cell_type": "markdown",
   "id": "ee0b335b",
   "metadata": {
    "id": "ee0b335b"
   },
   "source": [
    "Again, we can't use this medel because tha possitive value of the B_n_inter"
   ]
  },
  {
   "cell_type": "markdown",
   "id": "dcdb54b6",
   "metadata": {
    "id": "dcdb54b6"
   },
   "source": [
    "## Model 3"
   ]
  },
  {
   "cell_type": "code",
   "execution_count": 18,
   "id": "fa63a107",
   "metadata": {
    "id": "fa63a107"
   },
   "outputs": [],
   "source": [
    "ASC_cycling = Beta('ASC_cycling',0,None,None,0)\n",
    "ASC_driving = Beta('ASC_driving',0,None,None,0)\n",
    "ASC_walking = Beta('ASC_walking',0,None,None,0)\n",
    "\n",
    "B_time_1 = Beta('B_time_1',0,None,None,0)\n",
    "B_time_2 = Beta('B_time_2',0,None,None,0)\n",
    "B_time_3 = Beta('B_time_3',0,None,None,0)\n",
    "B_time_4 = Beta('B_time_4',0,None,None,0)\n",
    "B_cost_2 = Beta('B_cost_2',0,None,None,0)\n",
    "B_cost_3 = Beta('B_cost_3',0,None,None,0)\n",
    "B_dur_inter_norm=Beta('B_dur_inter_norm',0,None,None,0)\n",
    "\n",
    "V0 = ASC_cycling + B_time_1 * dur_cycling\n",
    "V1 = ASC_driving + B_time_2 * dur_driving + B_cost_2 * cost_driving_total\n",
    "V2 = B_time_3 * (dur_pt_rail +dur_pt_bus +dur_pt_access) + B_dur_inter_norm*(dur_pt_int_total/pt_n_interchanges)+ B_cost_3 * cost_transit\n",
    "V3 = ASC_walking + B_time_4 * dur_walking\n",
    "\n",
    "V_3 = {0:V0, 1:V1, 2:V2, 3:V3}\n",
    "av_3 = {0:1, 1:1, 2:1, 3:1}"
   ]
  },
  {
   "cell_type": "code",
   "execution_count": 19,
   "id": "8c453b96",
   "metadata": {
    "id": "8c453b96"
   },
   "outputs": [],
   "source": [
    "logprob = models.loglogit(V_3,av_3,choice)\n",
    "biogeme = bio.BIOGEME (database, logprob)\n",
    "biogeme.modelName='Model_3'\n",
    "results_3 = biogeme.estimate()"
   ]
  },
  {
   "cell_type": "code",
   "execution_count": 20,
   "id": "b3156bf1",
   "metadata": {
    "colab": {
     "base_uri": "https://localhost:8080/"
    },
    "id": "b3156bf1",
    "outputId": "e3ec0888-6fad-4716-e0d7-87c113a9eead"
   },
   "outputs": [
    {
     "name": "stdout",
     "output_type": "stream",
     "text": [
      "                     Value  Rob. Std err  Rob. t-test  Rob. p-value\n",
      "ASC_cycling      -2.341099      0.040469   -57.848793           0.0\n",
      "ASC_driving       0.404807      0.019390    20.876781           0.0\n",
      "ASC_walking       2.347125      0.034835    67.377517           0.0\n",
      "B_cost_2         -0.151064      0.003880   -38.936721           0.0\n",
      "B_cost_3         -0.200788      0.008026   -25.017280           0.0\n",
      "B_dur_inter_norm -3.416717      0.193254   -17.679893           0.0\n",
      "B_time_1         -5.332373      0.119655   -44.564563           0.0\n",
      "B_time_2         -6.039518      0.104422   -57.837515           0.0\n",
      "B_time_3         -3.196185      0.066730   -47.897371           0.0\n",
      "B_time_4         -8.242294      0.102627   -80.313211           0.0\n",
      "-----------------------------------\n",
      "Final Loglikelihood: -70008.07153600254\n"
     ]
    }
   ],
   "source": [
    "# Get the results in a pandas table\n",
    "pandasResults3 = results_3.getEstimatedParameters()\n",
    "print(pandasResults3)\n",
    "print('-----------------------------------')\n",
    "final_LL_3 = results_3.data.logLike\n",
    "print(f'Final Loglikelihood: {final_LL_3}')"
   ]
  },
  {
   "cell_type": "markdown",
   "id": "380812e2",
   "metadata": {
    "id": "380812e2"
   },
   "source": [
    "This could be the first possible model due to the negative values of all the betas that represent a negative effect on the utility."
   ]
  },
  {
   "cell_type": "markdown",
   "id": "280fc9b4",
   "metadata": {
    "id": "280fc9b4"
   },
   "source": [
    "## Model 4"
   ]
  },
  {
   "cell_type": "markdown",
   "id": "e449af40",
   "metadata": {
    "id": "e449af40"
   },
   "source": [
    "Now we split the variable \"dur_pt_int_total/pt_n_interchanges\" in the sum of \"dur_pt_int_waiting/pt_n_interchanges\" and \"dur_pt_int_walking/pt_n_interchanges\"."
   ]
  },
  {
   "cell_type": "code",
   "execution_count": 21,
   "id": "a7185a92",
   "metadata": {
    "id": "a7185a92"
   },
   "outputs": [],
   "source": [
    "ASC_cycling = Beta('ASC_cycling',0,None,None,0)\n",
    "ASC_driving = Beta('ASC_driving',0,None,None,0)\n",
    "ASC_walking = Beta('ASC_walking',0,None,None,0)\n",
    "\n",
    "B_time_1 = Beta('B_time_1',0,None,None,0)\n",
    "B_time_2 = Beta('B_time_2',0,None,None,0)\n",
    "B_time_3 = Beta('B_time_3',0,None,None,0)\n",
    "B_time_4 = Beta('B_time_4',0,None,None,0)\n",
    "B_cost_2 = Beta('B_cost_2',0,None,None,0)\n",
    "B_cost_3 = Beta('B_cost_3',0,None,None,0)\n",
    "B_dur_walking=Beta('B_dur_walking',0,None,None,0)\n",
    "B_dur_waiting=Beta('B_dur_waiting',0,None,None,0)\n",
    "\n",
    "V0 = ASC_cycling + B_time_1 * dur_cycling\n",
    "V1 = ASC_driving + B_time_2 * dur_driving + B_cost_2 * cost_driving_total\n",
    "V2 = B_time_3 * (dur_pt_rail +dur_pt_bus +dur_pt_access) + B_dur_waiting*(dur_pt_int_waiting/pt_n_interchanges) + B_dur_walking*(dur_pt_int_walking/pt_n_interchanges) + B_cost_3 * cost_transit\n",
    "V3 = ASC_walking + B_time_4 * dur_walking\n",
    "\n",
    "V_4 = {0:V0, 1:V1, 2:V2, 3:V3}\n",
    "av_4 = {0:1, 1:1, 2:1, 3:1}"
   ]
  },
  {
   "cell_type": "code",
   "execution_count": 22,
   "id": "47ce3e95",
   "metadata": {
    "id": "47ce3e95"
   },
   "outputs": [],
   "source": [
    "logprob = models.loglogit(V_4,av_4,choice)\n",
    "biogeme = bio.BIOGEME (database, logprob)\n",
    "biogeme.modelName='Model_4'\n",
    "results_4 = biogeme.estimate()"
   ]
  },
  {
   "cell_type": "code",
   "execution_count": 23,
   "id": "2184979f",
   "metadata": {
    "colab": {
     "base_uri": "https://localhost:8080/"
    },
    "id": "2184979f",
    "outputId": "5dff0ac4-e47d-40d9-d43a-0c4e9d482f85"
   },
   "outputs": [
    {
     "name": "stdout",
     "output_type": "stream",
     "text": [
      "                  Value  Rob. Std err  Rob. t-test  Rob. p-value\n",
      "ASC_cycling   -2.341351      0.040477   -57.843431      0.000000\n",
      "ASC_driving    0.404576      0.019393    20.862342      0.000000\n",
      "ASC_walking    2.347215      0.034835    67.380329      0.000000\n",
      "B_cost_2      -0.151052      0.003879   -38.943668      0.000000\n",
      "B_cost_3      -0.201912      0.008054   -25.068566      0.000000\n",
      "B_dur_waiting -3.649701      0.242998   -15.019499      0.000000\n",
      "B_dur_walking -2.080160      0.830309    -2.505284      0.012235\n",
      "B_time_1      -5.320435      0.119826   -44.401354      0.000000\n",
      "B_time_2      -6.025352      0.104909   -57.434254      0.000000\n",
      "B_time_3      -3.184916      0.067233   -47.371277      0.000000\n",
      "B_time_4      -8.238824      0.102706   -80.217776      0.000000\n",
      "-----------------------------------\n",
      "Final Loglikelihood: -70006.81730421167\n"
     ]
    }
   ],
   "source": [
    "# Get the results in a pandas table\n",
    "pandasResults4 = results_4.getEstimatedParameters()\n",
    "print(pandasResults4)\n",
    "print('-----------------------------------')\n",
    "final_LL_4 = results_4.data.logLike\n",
    "print(f'Final Loglikelihood: {final_LL_4}')"
   ]
  },
  {
   "cell_type": "code",
   "execution_count": 24,
   "id": "de0612d2",
   "metadata": {
    "colab": {
     "base_uri": "https://localhost:8080/"
    },
    "id": "de0612d2",
    "outputId": "f595339a-1839-427c-edcb-8ec771ad66b6"
   },
   "outputs": [
    {
     "name": "stdout",
     "output_type": "stream",
     "text": [
      "LRTuple(message='H0 cannot be rejected at level 5.0%', statistic=2.50846358173294, threshold=3.841458820694124)\n",
      "2.50846358173294\n"
     ]
    }
   ],
   "source": [
    "# Ratio test between Model 4 and Model 3\n",
    "\n",
    "chi = -2*(final_LL_3 - final_LL_4)\n",
    "\n",
    "a = tools.likelihood_ratio_test((final_LL_3,10), (final_LL_4,11), significance_level=0.05)\n",
    "\n",
    "print(a)\n",
    "print(chi)"
   ]
  },
  {
   "cell_type": "markdown",
   "id": "ce46d638",
   "metadata": {
    "id": "ce46d638"
   },
   "source": [
    "We do the Ratio test between Model 4 and Model 3 to see if there is a significant improvement with a 5% of level of significance\n",
    "\n",
    "As we can see, the Model 4 is not significantly better than the Model 3."
   ]
  },
  {
   "cell_type": "markdown",
   "id": "5c377d25",
   "metadata": {
    "id": "5c377d25"
   },
   "source": [
    "## MODEL 5"
   ]
  },
  {
   "cell_type": "markdown",
   "id": "184dc0dd",
   "metadata": {
    "id": "184dc0dd"
   },
   "source": [
    "dur interchamges + separation between different cases of number of interchanges"
   ]
  },
  {
   "cell_type": "code",
   "execution_count": 25,
   "id": "cb61bc48",
   "metadata": {
    "id": "cb61bc48"
   },
   "outputs": [],
   "source": [
    "ASC_cycling = Beta('ASC_cycling',0,None,None,0)\n",
    "ASC_driving = Beta('ASC_driving',0,None,None,0)\n",
    "ASC_walking = Beta('ASC_walking',0,None,None,0)\n",
    "\n",
    "B_time_1 = Beta('B_time_1',0,None,None,0)\n",
    "B_time_2 = Beta('B_time_2',0,None,None,0)\n",
    "B_time_3 = Beta('B_time_3',0,None,None,0)\n",
    "B_time_4 = Beta('B_time_4',0,None,None,0)\n",
    "B_cost_2 = Beta('B_cost_2',0,None,None,0)\n",
    "B_cost_3 = Beta('B_cost_3',0,None,None,0)\n",
    "B_dur_inter=Beta('B_dur_inter',0,None,None,0)\n",
    "B_1_inter=Beta('B_1_inter',0,None,None,0)\n",
    "B_n_inter = Beta('B_n_inter',0,None,None,0)\n",
    "\n",
    "V0 = ASC_cycling + B_time_1 * dur_cycling\n",
    "V1 = ASC_driving + B_time_2 * dur_driving + B_cost_2 * cost_driving_total\n",
    "V2 = B_time_3 * (dur_pt_rail +dur_pt_bus +dur_pt_access) +B_dur_inter*dur_pt_int_total +B_n_inter*(more_than_one_inter) +B_1_inter*(one_inter)+ B_cost_3 * cost_transit\n",
    "V3 = ASC_walking + B_time_4 * dur_walking\n",
    "\n",
    "V_5 = {0:V0, 1:V1, 2:V2, 3:V3}\n",
    "av_5 = {0:1, 1:1, 2:1, 3:1}"
   ]
  },
  {
   "cell_type": "code",
   "execution_count": 26,
   "id": "5af94aae",
   "metadata": {
    "id": "5af94aae"
   },
   "outputs": [],
   "source": [
    "logprob = models.loglogit(V_5,av_5,choice)\n",
    "biogeme = bio.BIOGEME (database, logprob)\n",
    "biogeme.modelName='Model_5'\n",
    "results_5 = biogeme.estimate()"
   ]
  },
  {
   "cell_type": "code",
   "execution_count": 27,
   "id": "bfb60252",
   "metadata": {
    "colab": {
     "base_uri": "https://localhost:8080/"
    },
    "id": "bfb60252",
    "outputId": "ba44c07f-f96c-4a65-d1cb-4972a5890b08"
   },
   "outputs": [
    {
     "name": "stdout",
     "output_type": "stream",
     "text": [
      "                Value  Rob. Std err  Rob. t-test  Rob. p-value\n",
      "ASC_cycling -2.278938      0.040246   -56.624957  0.000000e+00\n",
      "ASC_driving  0.485432      0.020082    24.172937  0.000000e+00\n",
      "ASC_walking  2.397219      0.035239    68.027751  0.000000e+00\n",
      "B_1_inter    0.339504      0.050383     6.738461  1.600742e-11\n",
      "B_cost_2    -0.144740      0.003915   -36.966485  0.000000e+00\n",
      "B_cost_3    -0.180690      0.008187   -22.071711  0.000000e+00\n",
      "B_dur_inter -5.553809      0.389534   -14.257588  0.000000e+00\n",
      "B_n_inter    0.224354      0.104769     2.141421  3.224008e-02\n",
      "B_time_1    -5.487271      0.119383   -45.963664  0.000000e+00\n",
      "B_time_2    -6.368854      0.107135   -59.446902  0.000000e+00\n",
      "B_time_3    -3.218428      0.067608   -47.604576  0.000000e+00\n",
      "B_time_4    -8.279532      0.103014   -80.372954  0.000000e+00\n",
      "-----------------------------------\n",
      "Final Loglikelihood: -69770.153020523\n"
     ]
    }
   ],
   "source": [
    "# Get the results in a pandas table\n",
    "pandasResults_5 = results_5.getEstimatedParameters()\n",
    "print(pandasResults_5)\n",
    "print('-----------------------------------')\n",
    "final_LL_5 = results_5.data.logLike\n",
    "print(f'Final Loglikelihood: {final_LL_5}')"
   ]
  },
  {
   "cell_type": "markdown",
   "id": "f7fe47f3",
   "metadata": {
    "id": "f7fe47f3"
   },
   "source": [
    "Same problem, beta values are positive"
   ]
  },
  {
   "cell_type": "markdown",
   "id": "c4f7f0be",
   "metadata": {
    "id": "c4f7f0be"
   },
   "source": [
    "## Model 6"
   ]
  },
  {
   "cell_type": "markdown",
   "id": "7d3e3365",
   "metadata": {
    "id": "7d3e3365"
   },
   "source": [
    "Now we split the variable \"dur_pt_int_total\" in the sum of \"dur_pt_int_waiting\" and \"dur_pt_int_walking\"."
   ]
  },
  {
   "cell_type": "code",
   "execution_count": 28,
   "id": "8a56addc",
   "metadata": {
    "id": "8a56addc"
   },
   "outputs": [],
   "source": [
    "ASC_cycling = Beta('ASC_cycling',0,None,None,0)\n",
    "ASC_driving = Beta('ASC_driving',0,None,None,0)\n",
    "ASC_walking = Beta('ASC_walking',0,None,None,0)\n",
    "\n",
    "B_time_1 = Beta('B_time_1',0,None,None,0)\n",
    "B_time_2 = Beta('B_time_2',0,None,None,0)\n",
    "B_time_3 = Beta('B_time_3',0,None,None,0)\n",
    "B_time_4 = Beta('B_time_4',0,None,None,0)\n",
    "B_cost_2 = Beta('B_cost_2',0,None,None,0)\n",
    "B_cost_3 = Beta('B_cost_3',0,None,None,0)\n",
    "B_dur_walking=Beta('B_dur_walking',0,None,None,0)\n",
    "B_dur_waiting=Beta('B_dur_waiting',0,None,None,0)\n",
    "B_1_inter=Beta('B_1_inter',0,None,None,0)\n",
    "B_n_inter = Beta('B_n_inter',0,None,None,0)\n",
    "\n",
    "V0 = ASC_cycling + B_time_1 * dur_cycling\n",
    "V1 = ASC_driving + B_time_2 * dur_driving + B_cost_2 * cost_driving_total\n",
    "V2 = B_time_3 * (dur_pt_rail +dur_pt_bus +dur_pt_access) + B_dur_waiting*(dur_pt_int_waiting) + B_dur_walking*(dur_pt_int_walking) + B_n_inter*(more_than_one_inter) +B_1_inter*(one_inter) + B_cost_3 * cost_transit\n",
    "V3 = ASC_walking + B_time_4 * dur_walking\n",
    "\n",
    "V_6 = {0:V0, 1:V1, 2:V2, 3:V3}\n",
    "av_6 = {0:1, 1:1, 2:1, 3:1}"
   ]
  },
  {
   "cell_type": "code",
   "execution_count": 29,
   "id": "d190c004",
   "metadata": {
    "id": "d190c004"
   },
   "outputs": [],
   "source": [
    "logprob = models.loglogit(V_6,av_6,choice)\n",
    "biogeme = bio.BIOGEME (database, logprob)\n",
    "biogeme.modelName='Model_6'\n",
    "results_6 = biogeme.estimate()"
   ]
  },
  {
   "cell_type": "code",
   "execution_count": 30,
   "id": "038f6084",
   "metadata": {
    "colab": {
     "base_uri": "https://localhost:8080/"
    },
    "id": "038f6084",
    "outputId": "8dd2ac84-868c-43c3-a1da-67771d0c2ff4"
   },
   "outputs": [
    {
     "name": "stdout",
     "output_type": "stream",
     "text": [
      "                  Value  Rob. Std err  Rob. t-test  Rob. p-value\n",
      "ASC_cycling   -2.279056      0.040246   -56.627987  0.000000e+00\n",
      "ASC_driving    0.484993      0.020084    24.148240  0.000000e+00\n",
      "ASC_walking    2.397102      0.035239    68.023514  0.000000e+00\n",
      "B_1_inter      0.354098      0.051369     6.893214  5.454526e-12\n",
      "B_cost_2      -0.144769      0.003915   -36.981590  0.000000e+00\n",
      "B_cost_3      -0.182418      0.008229   -22.167523  0.000000e+00\n",
      "B_dur_waiting -5.932932      0.440193   -13.478029  0.000000e+00\n",
      "B_dur_walking -4.063761      0.795978    -5.105371  3.301455e-07\n",
      "B_n_inter      0.251273      0.106740     2.354080  1.856860e-02\n",
      "B_time_1      -5.467506      0.119634   -45.702125  0.000000e+00\n",
      "B_time_2      -6.344226      0.107777   -58.864241  0.000000e+00\n",
      "B_time_3      -3.201545      0.068124   -46.995677  0.000000e+00\n",
      "B_time_4      -8.272959      0.103096   -80.245261  0.000000e+00\n",
      "-----------------------------------\n",
      "Final Loglikelihood: -69767.7452154655\n"
     ]
    }
   ],
   "source": [
    "# Get the results in a pandas table\n",
    "pandasResults = results_6.getEstimatedParameters()\n",
    "print(pandasResults)\n",
    "print('-----------------------------------')\n",
    "final_LL_6 = results_6.data.logLike\n",
    "print(f'Final Loglikelihood: {final_LL_6}')"
   ]
  },
  {
   "cell_type": "markdown",
   "id": "9ff9841f",
   "metadata": {
    "id": "9ff9841f"
   },
   "source": [
    "Again, we can't use this model because of the possitive values of the betas B_1_inter and B_n_inter."
   ]
  },
  {
   "cell_type": "markdown",
   "id": "03497f61",
   "metadata": {
    "id": "03497f61"
   },
   "source": [
    "## Model 7"
   ]
  },
  {
   "cell_type": "markdown",
   "id": "9f439bf7",
   "metadata": {
    "id": "9f439bf7"
   },
   "source": [
    "In addition to the approach in Model 5, the reason why we are getting positive betas could be also due to the fact that the scale of global time and the scale of number of interchanges is not the same so we rewrite duration of public transport with a logarithm transformation. However, we can't do this transformation with the variable of the number of interchanges because too many values of this variable are equal to zero and will lead us to an error of log(0) in the code.\n",
    "\n",
    "Log-transformed variables are commonly used in multinomial logit models to capture non-linear relationships between variables and the likelihood of selecting a certain alternative resulting in better predictions.\n",
    "\n",
    "In our example of log-transformed duration time, the utility of a mode of transportation decreases as trip time increases, but the correlation between travel time and utility is often non-linear. The same applies for costs.\n",
    "\n",
    "The coefficients associated with the log-transformed variable can be interpreted as the change in log-odds of selecting a certain mode of transportation for a one percent change in travel time.\n"
   ]
  },
  {
   "cell_type": "code",
   "execution_count": 12,
   "id": "f719a21d",
   "metadata": {
    "id": "f719a21d"
   },
   "outputs": [],
   "source": [
    "ASC_cycling = Beta('ASC_cycling',0,None,None,0)\n",
    "ASC_driving = Beta('ASC_driving',0,None,None,0)\n",
    "ASC_walking = Beta('ASC_walking',0,None,None,0)\n",
    "\n",
    "B_time_1 = Beta('B_time_1',0,None,None,0)\n",
    "B_time_2 = Beta('B_time_2',0,None,None,0)\n",
    "B_time_3 = Beta('B_time_3',0,None,None,0)\n",
    "B_time_4 = Beta('B_time_4',0,None,None,0)\n",
    "B_cost_2 = Beta('B_cost_2',0,None,None,0)\n",
    "B_cost_3 = Beta('B_cost_3',0,None,None,0)\n",
    "B_1_inter=Beta('B_1_inter',0,None,None,0)\n",
    "B_n_inter = Beta('B_n_inter',0,None,None,0)\n",
    "B_dur_inter = Beta('B_dur_inter',0,None,None,0)\n",
    "\n",
    "V0 = ASC_cycling + B_time_1 * log(dur_cycling)\n",
    "V1 = ASC_driving + B_time_2 * log(dur_driving) + B_cost_2 * cost_driving_total\n",
    "V2 = B_time_3 * log(dur_pt_rail +dur_pt_bus +dur_pt_access)+ B_dur_inter*log((1+dur_pt_int_total)/(1+pt_n_interchanges)) +B_n_inter*(more_than_one_inter) +B_1_inter*(one_inter)+ B_cost_3 * cost_transit\n",
    "V3 = ASC_walking + B_time_4 * log(dur_walking)\n",
    "\n",
    "V_7 = {0:V0, 1:V1, 2:V2, 3:V3}\n",
    "av_7 = {0:1, 1:1, 2:1, 3:1}"
   ]
  },
  {
   "cell_type": "code",
   "execution_count": 13,
   "id": "9cd4c7d1",
   "metadata": {
    "id": "9cd4c7d1"
   },
   "outputs": [
    {
     "name": "stdout",
     "output_type": "stream",
     "text": [
      "[09:29:47] < Warning >   Cannot read file __Model_7.iter. Statement is ignored.\n"
     ]
    }
   ],
   "source": [
    "logprob = models.loglogit(V_7,av_7,choice)\n",
    "biogeme = bio.BIOGEME (database, logprob)\n",
    "biogeme.modelName='Model_7'\n",
    "results_7 = biogeme.estimate()"
   ]
  },
  {
   "cell_type": "code",
   "execution_count": 14,
   "id": "0e3ec5f1",
   "metadata": {
    "colab": {
     "base_uri": "https://localhost:8080/"
    },
    "id": "0e3ec5f1",
    "outputId": "14659e8f-95ef-4463-a5a8-8cea2277ebe8"
   },
   "outputs": [
    {
     "name": "stdout",
     "output_type": "stream",
     "text": [
      "                Value  Rob. Std err  Rob. t-test  Rob. p-value\n",
      "ASC_cycling -3.967382      0.048162   -82.376296  0.000000e+00\n",
      "ASC_driving -1.295666      0.034053   -38.048194  0.000000e+00\n",
      "ASC_walking -1.823593      0.036362   -50.151150  0.000000e+00\n",
      "B_1_inter   -1.729400      0.181208    -9.543724  0.000000e+00\n",
      "B_cost_2    -0.151117      0.003889   -38.861177  0.000000e+00\n",
      "B_cost_3    -0.132424      0.006935   -19.095843  0.000000e+00\n",
      "B_dur_inter -2.211748      0.309656    -7.142590  9.159340e-13\n",
      "B_n_inter   -2.870055      0.282932   -10.143962  0.000000e+00\n",
      "B_time_1    -2.200435      0.031338   -70.216984  0.000000e+00\n",
      "B_time_2    -2.103768      0.025712   -81.819056  0.000000e+00\n",
      "B_time_3    -1.793319      0.028960   -61.924065  0.000000e+00\n",
      "B_time_4    -4.359137      0.031964  -136.376859  0.000000e+00\n",
      "-----------------------------------\n",
      "Final Loglikelihood: -68605.81018867838\n"
     ]
    }
   ],
   "source": [
    "# Get the results in a pandas table\n",
    "pandasResults7 = results_7.getEstimatedParameters()\n",
    "print(pandasResults7)\n",
    "print('-----------------------------------')\n",
    "final_LL_7 = results_7.data.logLike\n",
    "print(f'Final Loglikelihood: {final_LL_7}')"
   ]
  },
  {
   "cell_type": "markdown",
   "id": "676de311",
   "metadata": {
    "id": "676de311"
   },
   "source": [
    "This could be the first possible model due to the negative values of all the betas that represent a negative on the utility. And also a better log likelihood\n"
   ]
  },
  {
   "cell_type": "markdown",
   "id": "d8de6ba2",
   "metadata": {
    "id": "d8de6ba2"
   },
   "source": [
    "As we have seen, there ara only three possible models to select (because they have all negative betas): Model 3, Model 4 and Model 7. With the Ratio test done before, we set that the Model 3 was better than the Model 4, as the Model 4 was not significantly better than Model 3. Then, we are going to do no the Ratio test between Model 3 and 7."
   ]
  },
  {
   "cell_type": "code",
   "execution_count": 3,
   "id": "dcb4f1b2",
   "metadata": {
    "colab": {
     "base_uri": "https://localhost:8080/"
    },
    "id": "dcb4f1b2",
    "outputId": "6500fbf6-8f89-4302-e1d2-591d7454b39e"
   },
   "outputs": [
    {
     "name": "stdout",
     "output_type": "stream",
     "text": [
      "LRTuple(message='H0 can be rejected at level 5.0%', statistic=2804.5158969312324, threshold=3.841458820694124)\n",
      "2804.5158969312324\n"
     ]
    }
   ],
   "source": [
    "# Ratio test\n",
    "final_LL_3=-70008.0714174418\n",
    "final_LL_7=-68605.81346897618\n",
    "chi = -2*(final_LL_3 - final_LL_7)\n",
    "\n",
    "a = tools.likelihood_ratio_test((final_LL_3,10), (final_LL_7,11), significance_level=0.05)\n",
    "\n",
    "print(a)\n",
    "print(chi)"
   ]
  },
  {
   "cell_type": "markdown",
   "id": "7da18b9d",
   "metadata": {
    "id": "7da18b9d"
   },
   "source": [
    "So the Model is the best MNL because it is significanly better than the rest of the possible models."
   ]
  },
  {
   "cell_type": "code",
   "execution_count": 29,
   "id": "82aff6f3",
   "metadata": {
    "id": "82aff6f3"
   },
   "outputs": [],
   "source": [
    "#Calculation of elasticities of the Model 7\n",
    "\n",
    "prob_0 = models.logit(V_7,av_7,0)\n",
    "prob_1 = models.logit(V_7,av_7,1)\n",
    "prob_2 = models.logit(V_7,av_7,2)\n",
    "prob_3 = models.logit(V_7,av_7,3)\n",
    "\n",
    "#Direct and Cross Elasticities of each alternative (only the ones for our study)\n",
    "more_than_one_inter\n",
    "one_inter\n",
    "\n",
    "elas_2_one_inter = Derive(prob_2,'one_inter') * one_inter / prob_2 \n",
    "elas_2_n_inter = Derive(prob_2,'more_than_one_inter') * more_than_one_inter / prob_2 \n",
    "\n",
    "elastcross_0_one_inter = Derive(prob_0,'one_inter') * one_inter / prob_0 \n",
    "elastcross_1_one_inter = Derive(prob_1,'one_inter') * one_inter / prob_1 \n",
    "elastcross_3_one_inter = Derive(prob_3,'one_inter') * one_inter / prob_3\n",
    "\n",
    "elastcross_0_n_inter = Derive(prob_0,'more_than_one_inter') * more_than_one_inter / prob_0\n",
    "elastcross_1_n_inter = Derive(prob_1,'more_than_one_inter') * more_than_one_inter / prob_1\n",
    "elastcross_3_n_inter = Derive(prob_3,'more_than_one_inter') * more_than_one_inter / prob_3\n",
    "\n",
    "\n",
    "\n",
    "elas_2_dur_inter = Derive(prob_2,'dur_pt_int_total') * dur_pt_int_total / prob_2 \n",
    "\n",
    "elastcross_0_dur_inter = Derive(prob_0,'dur_pt_int_total') * dur_pt_int_total / prob_0 \n",
    "elastcross_1_dur_inter = Derive(prob_1,'dur_pt_int_total') * dur_pt_int_total / prob_1 \n",
    "elastcross_3_dur_inter = Derive(prob_3,'dur_pt_int_total') * dur_pt_int_total / prob_3\n",
    "\n",
    "\n",
    "\n",
    "simulate = {\n",
    "    'prob.0': prob_0,\n",
    "    'prob.1': prob_1,\n",
    "    'prob.2': prob_2,\n",
    "    'prob.3': prob_3,\n",
    "    'elas_2_one_inter': elas_2_one_inter,\n",
    "    'elas_2_n_inter': elas_2_n_inter,\n",
    "    'elastcross_0_one_inter': elastcross_0_one_inter,\n",
    "    'elastcross_1_one_inter': elastcross_1_one_inter,\n",
    "    'elastcross_3_one_inter': elastcross_3_one_inter,\n",
    "    'elastcross_0_n_inter': elastcross_0_n_inter,\n",
    "    'elastcross_1_n_inter': elastcross_1_n_inter,\n",
    "    'elastcross_3_n_inter': elastcross_3_n_inter,\n",
    "    'elas_2_dur_inter': elas_2_dur_inter,\n",
    "    'elastcross_0_dur_inter': elastcross_0_dur_inter,\n",
    "    'elastcross_1_dur_inter': elastcross_1_dur_inter,\n",
    "    'elastcross_3_dur_inter': elastcross_3_dur_inter,\n",
    "}\n",
    "\n",
    "biosim = bio.BIOGEME(database, simulate)\n",
    "biosim.modelName = 'elasticities_Model_7'\n",
    "\n",
    "\n",
    "# Perform the simulation\n",
    "simresults = biosim.simulate(results_7.getBetaValues())\n",
    "simresults2=simresults\n",
    "\n",
    "denominator_0 = simresults['prob.0'].sum()\n",
    "denominator_1 = simresults['prob.1'].sum()\n",
    "denominator_2 = simresults['prob.2'].sum()\n",
    "denominator_3 = simresults['prob.3'].sum()\n",
    "\n",
    "elas_2_one_inter = (simresults['prob.2'] * simresults['elas_2_one_inter'] / denominator_2).sum()\n",
    "elas_2_n_inter = (simresults['prob.2'] * simresults['elas_2_n_inter'] / denominator_2).sum()\n",
    "\n",
    "elastcross_0_one_inter = (simresults['prob.0'] * simresults['elastcross_0_one_inter'] / denominator_0).sum()\n",
    "elastcross_1_one_inter  = (simresults['prob.1'] * simresults['elastcross_1_one_inter'] / denominator_1).sum()\n",
    "elastcross_3_one_inter = (simresults['prob.3'] * simresults['elastcross_3_one_inter'] / denominator_3).sum()\n",
    "\n",
    "elastcross_0_n_inter = (simresults['prob.0'] * simresults['elastcross_0_n_inter'] / denominator_0).sum()\n",
    "elastcross_1_n_inter = (simresults['prob.1'] * simresults['elastcross_1_n_inter'] / denominator_1).sum()\n",
    "elastcross_3_n_inter = (simresults['prob.3'] * simresults['elastcross_3_n_inter'] / denominator_3).sum()\n",
    "\n",
    "\n",
    "\n",
    "\n",
    "elas_2_dur_inter = (simresults['prob.2'] * simresults['elas_2_dur_inter'] / denominator_2).sum()\n",
    "\n",
    "elastcross_0_dur_inter = (simresults['prob.0'] * simresults['elastcross_0_dur_inter'] / denominator_0).sum()\n",
    "elastcross_1_dur_inter  = (simresults['prob.1'] * simresults['elastcross_1_dur_inter'] / denominator_1).sum()\n",
    "elastcross_3_dur_inter = (simresults['prob.3'] * simresults['elastcross_3_dur_inter'] / denominator_3).sum()\n",
    "\n",
    "\n",
    "\n",
    "simresults_1=simresults\n",
    "\n"
   ]
  },
  {
   "cell_type": "code",
   "execution_count": 30,
   "id": "45478057",
   "metadata": {
    "colab": {
     "base_uri": "https://localhost:8080/"
    },
    "id": "45478057",
    "outputId": "f7c1ccd5-2372-45af-9139-541e3026b3b6"
   },
   "outputs": [
    {
     "name": "stdout",
     "output_type": "stream",
     "text": [
      "The average elasticity of the share of alternative 2 with respect to one interchange: -0.226 \n",
      "The average elasticity of the share of alternative 2 with respect to more than one interchange: -0.099 \n",
      "The average elasticity of the share of alternative 0 with respect to one interchange: 0.184 \n",
      "The average elasticity of the share of alternative 1 with respect to one interchange: 0.163 \n",
      "The average elasticity of the share of alternative 3 with respect to one interchange: 0.014 \n",
      "The average elasticity of the share of alternative 0 with respect to more than one interchange: 0.079 \n",
      "The average elasticity of the share of alternative 1 with respect to more than one interchange: 0.073 \n",
      "The average elasticity of the share of alternative 3 with respect to more than one interchange: 0.001 \n",
      "The average elasticity of the share of alternative 2 with respect to duration of interchange: -0.046 \n",
      "The average elasticity of the share of alternative 0 with respect to duration of interchange: 0.036 \n",
      "The average elasticity of the share of alternative 1 with respect to duration of interchange: 0.033 \n",
      "The average elasticity of the share of alternative 3 with respect to duration of interchange: 0.002 \n",
      "\n"
     ]
    }
   ],
   "source": [
    "print(\n",
    "f'The average elasticity of the share of alternative 2 with respect to one interchange: {elas_2_one_inter:.3f} \\n'\n",
    "f'The average elasticity of the share of alternative 2 with respect to more than one interchange: {elas_2_n_inter:.3f} \\n'\n",
    "f'The average elasticity of the share of alternative 0 with respect to one interchange: {elastcross_0_one_inter:.3f} \\n'\n",
    "f'The average elasticity of the share of alternative 1 with respect to one interchange: {elastcross_1_one_inter:.3f} \\n'\n",
    "f'The average elasticity of the share of alternative 3 with respect to one interchange: {elastcross_3_one_inter:.3f} \\n'\n",
    "f'The average elasticity of the share of alternative 0 with respect to more than one interchange: {elastcross_0_n_inter:.3f} \\n'\n",
    "f'The average elasticity of the share of alternative 1 with respect to more than one interchange: {elastcross_1_n_inter:.3f} \\n'\n",
    "f'The average elasticity of the share of alternative 3 with respect to more than one interchange: {elastcross_3_n_inter:.3f} \\n'\n",
    "f'The average elasticity of the share of alternative 2 with respect to duration of interchange: {elas_2_dur_inter:.3f} \\n'\n",
    "f'The average elasticity of the share of alternative 0 with respect to duration of interchange: {elastcross_0_dur_inter:.3f} \\n'\n",
    "f'The average elasticity of the share of alternative 1 with respect to duration of interchange: {elastcross_1_dur_inter:.3f} \\n'\n",
    "f'The average elasticity of the share of alternative 3 with respect to duration of interchange: {elastcross_3_dur_inter:.3f} \\n')"
   ]
  },
  {
   "cell_type": "code",
   "execution_count": 22,
   "id": "09759c42",
   "metadata": {
    "colab": {
     "base_uri": "https://localhost:8080/"
    },
    "id": "09759c42",
    "outputId": "25e7f431-0f9a-4f05-ec29-62d9453551ae"
   },
   "outputs": [
    {
     "name": "stdout",
     "output_type": "stream",
     "text": [
      "The value of time in the interchanges of Public Transport is: 55.91\n",
      "The value of time for Driving is: 88.33\n"
     ]
    }
   ],
   "source": [
    "# Calculation of Value of Time\n",
    "\n",
    "TOTAL_DUR_PT=(df['dur_pt_int_total'])+(df['dur_pt_rail'])+(df['dur_pt_bus'])+(df['dur_pt_access'])\n",
    "\n",
    "\n",
    "VOT_PT_INTERCHANGES = np.mean((pandasResults7.loc['B_time_3']['Value'])*(df['cost_transit']+0.00001)/(pandasResults7.loc['B_cost_3']['Value']*TOTAL_DUR_PT))\n",
    "VOT_CAR = np.mean(pandasResults7.loc['B_time_2']['Value']*(df['cost_driving_total']+0.00001)/((pandasResults7.loc['B_cost_2']['Value'])*df['dur_driving']))\n",
    "\n",
    "print(f\"The value of time in the interchanges of Public Transport is: {VOT_PT_INTERCHANGES:.2f}\")\n",
    "print(f\"The value of time for Driving is: {VOT_CAR:.2f}\")"
   ]
  },
  {
   "cell_type": "markdown",
   "id": "16b49920",
   "metadata": {
    "id": "16b49920"
   },
   "source": [
    "# EXTENDED MODEL"
   ]
  },
  {
   "cell_type": "markdown",
   "id": "675afb45",
   "metadata": {
    "id": "675afb45"
   },
   "source": [
    "Development of a Nested Logit Model\n",
    "\n",
    "### First logical nested model: Motor(pt and car), No Motor (walk and cycle)"
   ]
  },
  {
   "cell_type": "code",
   "execution_count": 19,
   "id": "d5e59ba8",
   "metadata": {
    "colab": {
     "base_uri": "https://localhost:8080/"
    },
    "id": "d5e59ba8",
    "outputId": "f799c5f7-5466-41b7-90fc-c02dbbd0d9a4"
   },
   "outputs": [
    {
     "name": "stdout",
     "output_type": "stream",
     "text": [
      "[15:18:12] < Warning >   Cannot read file __NL_1.iter. Statement is ignored.\n",
      "                 Value  Active bound  Rob. Std err  Rob. t-test  Rob. p-value\n",
      "ASC_cycling  -3.958183           0.0      0.044277   -89.396056  0.000000e+00\n",
      "ASC_driving  -0.894351           0.0      0.036243   -24.676220  0.000000e+00\n",
      "ASC_walking  -2.484792           0.0      0.053225   -46.684744  0.000000e+00\n",
      "B_1_inter    -1.086259           0.0      0.116674    -9.310207  0.000000e+00\n",
      "B_cost_2     -0.083492           0.0      0.004387   -19.033781  0.000000e+00\n",
      "B_cost_3     -0.081718           0.0      0.005664   -14.428789  0.000000e+00\n",
      "B_dur_inter  -1.352359           0.0      0.194891    -6.939068  3.947065e-12\n",
      "B_n_inter    -1.814345           0.0      0.183100    -9.909022  0.000000e+00\n",
      "B_time_1     -1.600702           0.0      0.051611   -31.014943  0.000000e+00\n",
      "B_time_2     -1.401066           0.0      0.051071   -27.433517  0.000000e+00\n",
      "B_time_3     -1.197787           0.0      0.045673   -26.225322  0.000000e+00\n",
      "B_time_4     -3.751859           0.0      0.055400   -67.723145  0.000000e+00\n",
      "NEST_MOTOR    1.000000           1.0      0.040354    24.780676  0.000000e+00\n",
      "NEST_NOMOTOR  1.712591           0.0      0.068051    25.166305  0.000000e+00\n",
      "\n",
      "Results for model NL_1\n",
      "Output file (HTML):\t\t\tNL_1.html\n",
      "Nbr of parameters:\t\t14\n",
      "Sample size:\t\t\t81086\n",
      "Excluded data:\t\t\t0\n",
      "Null log likelihood:\t\t-112409.1\n",
      "Init log likelihood:\t\t-112409.1\n",
      "Final log likelihood:\t\t-68443.72\n",
      "Likelihood ratio test (null):\t\t87930.68\n",
      "Rho square (null):\t\t\t0.391\n",
      "Rho bar square (null):\t\t\t0.391\n",
      "Likelihood ratio test (init):\t\t87930.68\n",
      "Rho square (init):\t\t\t0.391\n",
      "Rho bar square (init):\t\t\t0.391\n",
      "Akaike Information Criterion:\t136915.4\n",
      "Bayesian Information Criterion:\t137045.7\n",
      "Final gradient norm:\t\t121.553\n",
      "ASC_cycling    : -3.96[0.0473 -83.7 0][0.0443 -89.4 0]\n",
      "ASC_driving    : -0.894[0.0345 -26 0][0.0362 -24.7 0]\n",
      "ASC_walking    : -2.48[0.0523 -47.5 0][0.0532 -46.7 0]\n",
      "B_1_inter      : -1.09[0.113 -9.58 0][0.117 -9.31 0]\n",
      "B_cost_2       : -0.0835[0.00403 -20.7 0][0.00439 -19 0]\n",
      "B_cost_3       : -0.0817[0.00519 -15.8 0][0.00566 -14.4 0]\n",
      "B_dur_inter    : -1.35[0.189 -7.15 8.77e-13][0.195 -6.94 3.95e-12]\n",
      "B_n_inter      : -1.81[0.179 -10.1 0][0.183 -9.91 0]\n",
      "B_time_1       : -1.6[0.0556 -28.8 0][0.0516 -31 0]\n",
      "B_time_2       : -1.4[0.0472 -29.7 0][0.0511 -27.4 0]\n",
      "B_time_3       : -1.2[0.042 -28.5 0][0.0457 -26.2 0]\n",
      "B_time_4       : -3.75[0.0517 -72.6 0][0.0554 -67.7 0]\n",
      "NEST_MOTOR     : 1[0.0389 25.7 0][0.0404 24.8 0]\n",
      "NEST_NOMOTOR   : 1.71[0.0623 27.5 0][0.0681 25.2 0]\n",
      "('ASC_driving', 'ASC_cycling'):\t0.00022\t0.135\t56.1\t0\t0.000178\t0.111\t56.7\t0\n",
      "('ASC_walking', 'ASC_cycling'):\t-7.56e-05\t-0.0306\t20.6\t0\t0.000115\t0.049\t21.8\t0\n",
      "('ASC_walking', 'ASC_driving'):\t-0.000813\t-0.451\t-21.4\t0\t-0.000953\t-0.494\t-20.4\t0\n",
      "('B_1_inter', 'ASC_cycling'):\t6.09e-05\t0.0114\t23.5\t0\t4.77e-05\t0.00923\t23.1\t0\n",
      "('B_1_inter', 'ASC_driving'):\t0.00114\t0.293\t-1.77\t0.0767\t0.00128\t0.302\t-1.73\t0.0844\n",
      "('B_1_inter', 'ASC_walking'):\t-0.00119\t-0.2\t10.4\t0\t-0.00129\t-0.208\t10.1\t0\n",
      "('B_cost_2', 'ASC_cycling'):\t4.8e-07\t0.00252\t81.7\t0\t-5.05e-06\t-0.026\t86.9\t0\n",
      "('B_cost_2', 'ASC_driving'):\t7.03e-05\t0.506\t24.9\t0\t9.28e-05\t0.584\t23.9\t0\n",
      "('B_cost_2', 'ASC_walking'):\t-0.00011\t-0.519\t44.1\t0\t-0.000134\t-0.575\t43\t0\n",
      "('B_cost_2', 'B_1_inter'):\t0.000111\t0.243\t8.91\t0\t0.000134\t0.262\t8.67\t0\n",
      "('B_cost_3', 'ASC_cycling'):\t3.18e-05\t0.13\t82.7\t0\t1.96e-05\t0.0782\t87.7\t0\n",
      "('B_cost_3', 'ASC_driving'):\t0.000112\t0.628\t25.8\t0\t0.000142\t0.693\t24.9\t0\n",
      "('B_cost_3', 'ASC_walking'):\t-8.59e-05\t-0.317\t44.4\t0\t-0.000122\t-0.404\t43.1\t0\n",
      "('B_cost_3', 'B_1_inter'):\t8.92e-05\t0.152\t8.91\t0\t0.000127\t0.192\t8.68\t0\n",
      "('B_cost_3', 'B_cost_2'):\t1.12e-05\t0.536\t0.389\t0.697\t1.56e-05\t0.628\t0.396\t0.692\n",
      "('B_dur_inter', 'ASC_cycling'):\t-6.59e-05\t-0.00737\t13.3\t0\t-7.25e-05\t-0.0084\t13\t0\n",
      "('B_dur_inter', 'ASC_driving'):\t0.0013\t0.2\t-2.47\t0.0135\t0.00149\t0.211\t-2.4\t0.0162\n",
      "('B_dur_inter', 'ASC_walking'):\t-0.0016\t-0.162\t5.54\t2.96e-08\t-0.00173\t-0.167\t5.38\t7.38e-08\n",
      "('B_dur_inter', 'B_1_inter'):\t0.0212\t0.989\t-3.37\t0.000751\t0.0225\t0.989\t-3.27\t0.00107\n",
      "('B_dur_inter', 'B_cost_2'):\t0.000144\t0.189\t-6.73\t1.66e-11\t0.000174\t0.204\t-6.54\t6.19e-11\n",
      "('B_dur_inter', 'B_cost_3'):\t0.000136\t0.139\t-6.74\t1.59e-11\t0.000187\t0.17\t-6.55\t5.78e-11\n",
      "('B_n_inter', 'ASC_cycling'):\t4.74e-05\t0.00561\t11.6\t0\t4.61e-05\t0.00569\t11.4\t0\n",
      "('B_n_inter', 'ASC_driving'):\t0.00184\t0.298\t-5.36\t8.47e-08\t0.00204\t0.307\t-5.24\t1.56e-07\n",
      "('B_n_inter', 'ASC_walking'):\t-0.00201\t-0.215\t3.41\t0.000659\t-0.00216\t-0.222\t3.32\t0.000887\n",
      "('B_n_inter', 'B_1_inter'):\t0.0201\t0.99\t-10.6\t0\t0.0212\t0.99\t-10.5\t0\n",
      "('B_n_inter', 'B_cost_2'):\t0.000185\t0.257\t-9.73\t0\t0.00022\t0.273\t-9.51\t0\n",
      "('B_n_inter', 'B_cost_3'):\t0.000138\t0.149\t-9.73\t0\t0.000195\t0.188\t-9.51\t0\n",
      "('B_n_inter', 'B_dur_inter'):\t0.0333\t0.985\t-13.9\t0\t0.0352\t0.986\t-13.6\t0\n",
      "('B_time_1', 'ASC_cycling'):\t0.00146\t0.555\t48\t0\t0.000998\t0.437\t46\t0\n",
      "('B_time_1', 'ASC_driving'):\t0.000877\t0.458\t-14.1\t0\t0.000969\t0.518\t-15.6\t0\n",
      "('B_time_1', 'ASC_walking'):\t-0.00196\t-0.674\t8.95\t0\t-0.00196\t-0.712\t9.11\t0\n",
      "('B_time_1', 'B_1_inter'):\t0.00105\t0.167\t-4.37\t1.23e-05\t0.00113\t0.188\t-4.35\t1.38e-05\n",
      "('B_time_1', 'B_cost_2'):\t9.21e-05\t0.411\t-28.1\t0\t0.00011\t0.484\t-30.6\t0\n",
      "('B_time_1', 'B_cost_3'):\t9.87e-05\t0.342\t-28.1\t0\t0.000122\t0.416\t-30.7\t0\n",
      "('B_time_1', 'B_dur_inter'):\t0.0013\t0.124\t-1.3\t0.192\t0.00141\t0.14\t-1.28\t0.202\n",
      "('B_time_1', 'B_n_inter'):\t0.00174\t0.175\t1.2\t0.229\t0.00187\t0.197\t1.19\t0.236\n",
      "('B_time_2', 'ASC_cycling'):\t2.27e-05\t0.0101\t38.5\t0\t-3.51e-05\t-0.0155\t37.5\t0\n",
      "('B_time_2', 'ASC_driving'):\t0.00144\t0.887\t-22\t0\t0.00166\t0.899\t-20.8\t0\n",
      "('B_time_2', 'ASC_walking'):\t-0.0016\t-0.647\t12\t0\t-0.00183\t-0.673\t11.4\t0\n",
      "('B_time_2', 'B_1_inter'):\t0.00168\t0.313\t-2.91\t0.00366\t0.00189\t0.317\t-2.82\t0.00477\n",
      "('B_time_2', 'B_cost_2'):\t0.000133\t0.697\t-29.6\t0\t0.000169\t0.755\t-27.5\t0\n",
      "('B_time_2', 'B_cost_3'):\t0.000145\t0.593\t-29.7\t0\t0.000194\t0.672\t-27.8\t0\n",
      "('B_time_2', 'B_dur_inter'):\t0.00209\t0.233\t-0.265\t0.791\t0.00237\t0.238\t-0.257\t0.797\n",
      "('B_time_2', 'B_n_inter'):\t0.00276\t0.327\t2.44\t0.0147\t0.00308\t0.329\t2.39\t0.017\n",
      "('B_time_2', 'B_time_1'):\t0.00138\t0.525\t3.94\t8.04e-05\t0.00154\t0.584\t4.26\t2e-05\n",
      "('B_time_3', 'ASC_cycling'):\t-9.62e-05\t-0.0484\t42.6\t0\t-0.000141\t-0.0699\t42\t0\n",
      "('B_time_3', 'ASC_driving'):\t0.00109\t0.752\t-10.9\t0\t0.0013\t0.784\t-10.7\t0\n",
      "('B_time_3', 'ASC_walking'):\t-0.0015\t-0.682\t14.9\t0\t-0.0017\t-0.7\t14.1\t0\n",
      "('B_time_3', 'B_1_inter'):\t0.00137\t0.287\t-1.02\t0.306\t0.00156\t0.293\t-0.995\t0.32\n",
      "('B_time_3', 'B_cost_2'):\t0.000118\t0.697\t-28.3\t0\t0.000151\t0.751\t-26.2\t0\n",
      "('B_time_3', 'B_cost_3'):\t0.00012\t0.553\t-28.3\t0\t0.000165\t0.64\t-26.4\t0\n",
      "('B_time_3', 'B_dur_inter'):\t0.00177\t0.223\t0.838\t0.402\t0.00202\t0.227\t0.814\t0.415\n",
      "('B_time_3', 'B_n_inter'):\t0.00227\t0.302\t3.61\t0.000309\t0.00255\t0.305\t3.53\t0.000415\n",
      "('B_time_3', 'B_time_1'):\t0.0012\t0.512\t8.11\t4.44e-16\t0.00134\t0.57\t8.87\t0\n",
      "('B_time_3', 'B_time_2'):\t0.00191\t0.964\t15.5\t0\t0.00226\t0.969\t15.5\t0\n",
      "('B_time_4', 'ASC_cycling'):\t-0.000143\t-0.0586\t2.86\t0.00419\t-0.000106\t-0.0434\t2.85\t0.00438\n",
      "('B_time_4', 'ASC_driving'):\t0.00129\t0.725\t-80\t0\t0.00152\t0.756\t-77.8\t0\n",
      "('B_time_4', 'ASC_walking'):\t-0.000542\t-0.2\t-15.7\t0\t-0.000813\t-0.276\t-14.6\t0\n",
      "('B_time_4', 'B_1_inter'):\t0.00153\t0.26\t-23.9\t0\t0.00176\t0.273\t-23.2\t0\n",
      "('B_time_4', 'B_cost_2'):\t0.000125\t0.6\t-74.3\t0\t0.00016\t0.659\t-69.7\t0\n",
      "('B_time_4', 'B_cost_3'):\t0.000133\t0.497\t-74.4\t0\t0.000179\t0.571\t-70.1\t0\n",
      "('B_time_4', 'B_dur_inter'):\t0.00191\t0.195\t-12.9\t0\t0.00221\t0.205\t-12.5\t0\n",
      "('B_time_4', 'B_n_inter'):\t0.00251\t0.271\t-11.3\t0\t0.00286\t0.282\t-11\t0\n",
      "('B_time_4', 'B_time_1'):\t0.000673\t0.234\t-32.4\t0\t0.0009\t0.315\t-34.3\t0\n",
      "('B_time_4', 'B_time_2'):\t0.00206\t0.843\t-83.7\t0\t0.00245\t0.866\t-84.4\t0\n",
      "('B_time_4', 'B_time_3'):\t0.00179\t0.826\t-87.6\t0\t0.00216\t0.856\t-88.9\t0\n",
      "('NEST_MOTOR', 'ASC_cycling'):\t-0.000457\t-0.249\t72.6\t0\t-0.000191\t-0.107\t78.7\t0\n",
      "('NEST_MOTOR', 'ASC_driving'):\t0.000266\t0.199\t40.7\t0\t0.000356\t0.243\t40.1\t0\n",
      "('NEST_MOTOR', 'ASC_walking'):\t0.000611\t0.3\t63.3\t0\t0.000551\t0.256\t60.1\t0\n",
      "('NEST_MOTOR', 'B_1_inter'):\t0.00031\t0.0702\t17.8\t0\t0.000416\t0.0883\t17.4\t0\n",
      "('NEST_MOTOR', 'B_cost_2'):\t2.31e-05\t0.147\t28.1\t0\t3.43e-05\t0.194\t27.3\t0\n",
      "('NEST_MOTOR', 'B_cost_3'):\t2.42e-05\t0.12\t28\t0\t3.79e-05\t0.166\t27.2\t0\n",
      "('NEST_MOTOR', 'B_dur_inter'):\t0.000392\t0.0532\t12.3\t0\t0.000527\t0.067\t12\t0\n",
      "('NEST_MOTOR', 'B_n_inter'):\t0.000506\t0.0728\t15.6\t0\t0.000667\t0.0903\t15.3\t0\n",
      "('NEST_MOTOR', 'B_time_1'):\t-0.00124\t-0.573\t30.9\t0\t-0.00098\t-0.471\t32.9\t0\n",
      "('NEST_MOTOR', 'B_time_2'):\t0.000429\t0.234\t44.7\t0\t0.000585\t0.284\t43.4\t0\n",
      "('NEST_MOTOR', 'B_time_3'):\t0.000377\t0.231\t43.8\t0\t0.000522\t0.283\t42.5\t0\n",
      "('NEST_MOTOR', 'B_time_4'):\t0.00101\t0.503\t102\t0\t0.0012\t0.537\t99.2\t0\n",
      "('NEST_NOMOTOR', 'ASC_cycling'):\t-4.97e-05\t-0.0169\t71.9\t0\t-0.000138\t-0.0458\t68.4\t0\n",
      "('NEST_NOMOTOR', 'ASC_driving'):\t0.00168\t0.784\t63.2\t0\t0.00199\t0.808\t58.9\t0\n",
      "('NEST_NOMOTOR', 'ASC_walking'):\t-0.00211\t-0.647\t40.3\t0\t-0.00246\t-0.679\t37.7\t0\n",
      "('NEST_NOMOTOR', 'B_1_inter'):\t0.00225\t0.319\t25.3\t0\t0.00256\t0.323\t24.4\t0\n",
      "('NEST_NOMOTOR', 'B_cost_2'):\t0.000204\t0.812\t30.4\t0\t0.000254\t0.851\t27.9\t0\n",
      "('NEST_NOMOTOR', 'B_cost_3'):\t0.000184\t0.57\t30.2\t0\t0.000253\t0.656\t27.8\t0\n",
      "('NEST_NOMOTOR', 'B_dur_inter'):\t0.0029\t0.246\t16.7\t0\t0.00333\t0.251\t16.2\t0\n",
      "('NEST_NOMOTOR', 'B_n_inter'):\t0.00372\t0.334\t20.9\t0\t0.0042\t0.337\t20.4\t0\n",
      "('NEST_NOMOTOR', 'B_time_1'):\t0.00174\t0.504\t56.1\t0\t0.00198\t0.565\t57.4\t0\n",
      "('NEST_NOMOTOR', 'B_time_2'):\t0.00275\t0.933\t125\t0\t0.00328\t0.943\t119\t0\n",
      "('NEST_NOMOTOR', 'B_time_3'):\t0.00235\t0.897\t94.5\t0\t0.00283\t0.912\t89.9\t0\n",
      "('NEST_NOMOTOR', 'B_time_4'):\t0.00253\t0.787\t142\t0\t0.00307\t0.813\t138\t0\n",
      "('NEST_NOMOTOR', 'NEST_MOTOR'):\t0.000512\t0.211\t10.8\t0\t0.000708\t0.258\t10.2\t0\n",
      "\n"
     ]
    }
   ],
   "source": [
    "ASC_cycling = Beta('ASC_cycling',0,None,None,0)\n",
    "ASC_driving = Beta('ASC_driving',0,None,None,0)\n",
    "ASC_walking = Beta('ASC_walking',0,None,None,0)\n",
    "\n",
    "B_time_1 = Beta('B_time_1',0,None,None,0)\n",
    "B_time_2 = Beta('B_time_2',0,None,None,0)\n",
    "B_time_3 = Beta('B_time_3',0,None,None,0)\n",
    "B_time_4 = Beta('B_time_4',0,None,None,0)\n",
    "B_cost_2 = Beta('B_cost_2',0,None,None,0)\n",
    "B_cost_3 = Beta('B_cost_3',0,None,None,0)\n",
    "B_1_inter=Beta('B_1_inter',0,None,None,0)\n",
    "B_n_inter = Beta('B_n_inter',0,None,None,0)\n",
    "B_dur_inter = Beta('B_dur_inter',0,None,None,0)\n",
    "\n",
    "V0 = ASC_cycling + B_time_1 * log(dur_cycling)\n",
    "V1 = ASC_driving + B_time_2 * log(dur_driving) + B_cost_2 * cost_driving_total\n",
    "V2 = B_time_3 * log(dur_pt_rail +dur_pt_bus +dur_pt_access) +B_dur_inter*log((1+dur_pt_int_total)/(1+pt_n_interchanges))+B_n_inter*(more_than_one_inter) +B_1_inter*(one_inter)+ B_cost_3 * cost_transit\n",
    "V3 = ASC_walking + B_time_4 * log(dur_walking)\n",
    "\n",
    "V_NL1 = {0:V0, 1:V1, 2:V2, 3:V3}\n",
    "av_NL1 = {0:1, 1:1, 2:1, 3:1}\n",
    "\n",
    "#1: Nest parameters\n",
    "NEST_MOTOR=Beta('NEST_MOTOR',1,1,10,0)\n",
    "NEST_NOMOTOR=Beta('NEST_NOMOTOR',1,1,10,0)\n",
    "#2: List of alternatives\n",
    "NO_MOTOR=NEST_NOMOTOR, [1,2]\n",
    "MOTOR=NEST_MOTOR, [0,3]\n",
    "\n",
    "nests=NO_MOTOR, MOTOR\n",
    "\n",
    "logprob = models.lognested(V_NL1, av_NL1, nests, choice)\n",
    "\n",
    "# Create the Biogeme object\n",
    "biogeme = bio.BIOGEME(database, logprob)\n",
    "biogeme.modelName = 'NL_1'\n",
    "\n",
    "# Calculate the null log likelihood for reporting.\n",
    "biogeme.calculateNullLoglikelihood(av_NL1)\n",
    "\n",
    "# Estimate the parameters\n",
    "results_NL1 = biogeme.estimate()\n",
    "\n",
    "# Get the results in a pandas table\n",
    "pandasResults_NL1 = results_NL1.getEstimatedParameters()\n",
    "pandasResults2=pandasResults_NL1\n",
    "print(pandasResults_NL1)\n",
    "print(results_NL1)"
   ]
  },
  {
   "cell_type": "markdown",
   "id": "ebd58704",
   "metadata": {
    "id": "ebd58704"
   },
   "source": [
    "Having into account that Biogeme gives us the inverse of the mu's values:"
   ]
  },
  {
   "cell_type": "code",
   "execution_count": 39,
   "id": "218ddc5e",
   "metadata": {
    "colab": {
     "base_uri": "https://localhost:8080/"
    },
    "id": "218ddc5e",
    "outputId": "aa3ce967-a381-4f17-c21c-f0af89aa0bd5"
   },
   "outputs": [
    {
     "data": {
      "text/plain": [
       "0.5843896663544078"
      ]
     },
     "execution_count": 39,
     "metadata": {},
     "output_type": "execute_result"
    }
   ],
   "source": [
    "MU_NOMOTOR = 1/1.711187\n",
    "MU_NOMOTOR"
   ]
  },
  {
   "cell_type": "markdown",
   "id": "c4e9656e",
   "metadata": {
    "id": "c4e9656e"
   },
   "source": [
    "### Second logical nested model: Possible interchanges (pt), No interchanges (walk, cycle and car)"
   ]
  },
  {
   "cell_type": "code",
   "execution_count": 40,
   "id": "5ed7b0a5",
   "metadata": {
    "colab": {
     "base_uri": "https://localhost:8080/"
    },
    "id": "5ed7b0a5",
    "outputId": "c6db85e8-a433-4bbc-d031-09e00086d45f"
   },
   "outputs": [
    {
     "name": "stdout",
     "output_type": "stream",
     "text": [
      "                         Value  Active bound  Rob. Std err   Rob. t-test  \\\n",
      "ASC_cycling          -3.969769           0.0  7.706490e-02 -5.151202e+01   \n",
      "ASC_driving          -1.294232           0.0  3.486087e-02 -3.712564e+01   \n",
      "ASC_walking          -1.824226           0.0  6.104648e-02 -2.988258e+01   \n",
      "B_1_inter            -0.445393           0.0  2.398194e-02 -1.857203e+01   \n",
      "B_cost_2             -0.151754           0.0  3.917787e-03 -3.873455e+01   \n",
      "B_cost_3             -0.132738           0.0  7.015095e-03 -1.892184e+01   \n",
      "B_n_inter            -0.860486           0.0  4.183445e-02 -2.056884e+01   \n",
      "B_time_1             -2.202113           0.0  3.409953e-02 -6.457900e+01   \n",
      "B_time_2             -2.104048           0.0  2.872055e-02 -7.325931e+01   \n",
      "B_time_3             -1.794682           0.0  3.475136e-02 -5.164350e+01   \n",
      "B_time_4             -4.360960           0.0  6.261349e-02 -6.964889e+01   \n",
      "NEST_INTERCHANGES     1.000000           1.0  1.075010e-18  9.302240e+17   \n",
      "NEST_NO_INTERCHANGES  1.000000           1.0  2.026279e-02  4.935154e+01   \n",
      "\n",
      "                      Rob. p-value  \n",
      "ASC_cycling                    0.0  \n",
      "ASC_driving                    0.0  \n",
      "ASC_walking                    0.0  \n",
      "B_1_inter                      0.0  \n",
      "B_cost_2                       0.0  \n",
      "B_cost_3                       0.0  \n",
      "B_n_inter                      0.0  \n",
      "B_time_1                       0.0  \n",
      "B_time_2                       0.0  \n",
      "B_time_3                       0.0  \n",
      "B_time_4                       0.0  \n",
      "NEST_INTERCHANGES              0.0  \n",
      "NEST_NO_INTERCHANGES           0.0  \n",
      "\n",
      "Results for model NL_2\n",
      "Output file (HTML):\t\t\tNL_2.html\n",
      "Nbr of parameters:\t\t13\n",
      "Sample size:\t\t\t81086\n",
      "Excluded data:\t\t\t0\n",
      "Null log likelihood:\t\t-112409.1\n",
      "Init log likelihood:\t\t-112409.1\n",
      "Final log likelihood:\t\t-68632.46\n",
      "Likelihood ratio test (null):\t\t87553.21\n",
      "Rho square (null):\t\t\t0.389\n",
      "Rho bar square (null):\t\t\t0.389\n",
      "Likelihood ratio test (init):\t\t87553.21\n",
      "Rho square (init):\t\t\t0.389\n",
      "Rho bar square (init):\t\t\t0.389\n",
      "Akaike Information Criterion:\t137290.9\n",
      "Bayesian Information Criterion:\t137411.9\n",
      "Final gradient norm:\t\t685.9422\n",
      "ASC_cycling    : -3.97[0.0708 -56.1 0][0.0771 -51.5 0]\n",
      "ASC_driving    : -1.29[0.0347 -37.3 0][0.0349 -37.1 0]\n",
      "ASC_walking    : -1.82[0.0582 -31.4 0][0.061 -29.9 0]\n",
      "B_1_inter      : -0.445[0.0242 -18.4 0][0.024 -18.6 0]\n",
      "B_cost_2       : -0.152[0.00401 -37.9 0][0.00392 -38.7 0]\n",
      "B_cost_3       : -0.133[0.00706 -18.8 0][0.00702 -18.9 0]\n",
      "B_n_inter      : -0.86[0.0419 -20.5 0][0.0418 -20.6 0]\n",
      "B_time_1       : -2.2[0.0337 -65.3 0][0.0341 -64.6 0]\n",
      "B_time_2       : -2.1[0.0277 -75.9 0][0.0287 -73.3 0]\n",
      "B_time_3       : -1.79[0.0335 -53.6 0][0.0348 -51.6 0]\n",
      "B_time_4       : -4.36[0.0578 -75.4 0][0.0626 -69.6 0]\n",
      "NEST_INTERCHANGES: 1[1.11e-18 9.05e+17 0][1.08e-18 9.3e+17 0]\n",
      "NEST_NO_INTERCHANGES: 1[0.018 55.4 0][0.0203 49.4 0]\n",
      "('ASC_driving', 'ASC_cycling'):\t0.000976\t0.397\t41\t0\t0.00112\t0.416\t38.1\t0\n",
      "('ASC_walking', 'ASC_cycling'):\t0.00266\t0.646\t38.7\t0\t0.00333\t0.708\t39.2\t0\n",
      "('ASC_walking', 'ASC_driving'):\t0.000528\t0.262\t-8.92\t0\t0.000638\t0.3\t-8.75\t0\n",
      "('B_1_inter', 'ASC_cycling'):\t0.00043\t0.251\t51.2\t0\t0.000505\t0.273\t47.5\t0\n",
      "('B_1_inter', 'ASC_driving'):\t0.000381\t0.453\t26.5\t0\t0.000387\t0.462\t26.6\t0\n",
      "('B_1_inter', 'ASC_walking'):\t0.000255\t0.181\t23.4\t0\t0.000301\t0.206\t22.7\t0\n",
      "('B_cost_2', 'ASC_cycling'):\t4.16e-05\t0.147\t54.3\t0\t4.07e-05\t0.135\t49.8\t0\n",
      "('B_cost_2', 'ASC_driving'):\t-4.47e-05\t-0.322\t31.6\t0\t-4.2e-05\t-0.308\t31.5\t0\n",
      "('B_cost_2', 'ASC_walking'):\t3.87e-05\t0.166\t29\t0\t3.52e-05\t0.147\t27.6\t0\n",
      "('B_cost_2', 'B_1_inter'):\t-2.79e-06\t-0.0287\t11.9\t0\t-2.34e-06\t-0.0249\t12\t0\n",
      "('B_cost_3', 'ASC_cycling'):\t0.000153\t0.306\t55.6\t0\t0.000149\t0.275\t50.9\t0\n",
      "('B_cost_3', 'ASC_driving'):\t8.98e-05\t0.367\t35.4\t0\t9.21e-05\t0.377\t35.3\t0\n",
      "('B_cost_3', 'ASC_walking'):\t9.51e-05\t0.232\t29.7\t0\t9.66e-05\t0.226\t28.3\t0\n",
      "('B_cost_3', 'B_1_inter'):\t-4.33e-05\t-0.253\t11.6\t0\t-4.12e-05\t-0.245\t11.8\t0\n",
      "('B_cost_3', 'B_cost_2'):\t4.75e-06\t0.168\t2.53\t0.0113\t5.15e-06\t0.188\t2.58\t0.00983\n",
      "('B_n_inter', 'ASC_cycling'):\t0.000456\t0.154\t40.6\t0\t0.000602\t0.187\t38.6\t0\n",
      "('B_n_inter', 'ASC_driving'):\t0.000477\t0.328\t9.69\t0\t0.000469\t0.321\t9.63\t0\n",
      "('B_n_inter', 'ASC_walking'):\t0.000205\t0.0842\t14\t0\t0.000272\t0.106\t13.7\t0\n",
      "('B_n_inter', 'B_1_inter'):\t0.000469\t0.462\t-11.1\t0\t0.000472\t0.471\t-11.2\t0\n",
      "('B_n_inter', 'B_cost_2'):\t-4.33e-06\t-0.0258\t-16.8\t0\t-7.65e-06\t-0.0467\t-16.8\t0\n",
      "('B_n_inter', 'B_cost_3'):\t-9.97e-05\t-0.337\t-16.3\t0\t-0.000102\t-0.349\t-16.3\t0\n",
      "('B_time_1', 'ASC_cycling'):\t0.00164\t0.685\t32.9\t0\t0.00186\t0.707\t30.4\t0\n",
      "('B_time_1', 'ASC_driving'):\t0.000437\t0.373\t-23.7\t0\t0.000477\t0.401\t-24.1\t0\n",
      "('B_time_1', 'ASC_walking'):\t0.00021\t0.107\t-5.9\t3.6e-09\t0.000423\t0.203\t-5.94\t2.81e-09\n",
      "('B_time_1', 'B_1_inter'):\t0.000151\t0.185\t-46.6\t0\t0.000179\t0.218\t-47.3\t0\n",
      "('B_time_1', 'B_cost_2'):\t5.46e-07\t0.00404\t-60.4\t0\t1.75e-06\t0.0131\t-59.8\t0\n",
      "('B_time_1', 'B_cost_3'):\t5.17e-05\t0.217\t-62.9\t0\t5.07e-05\t0.212\t-62.1\t0\n",
      "('B_time_1', 'B_n_inter'):\t0.000206\t0.146\t-26.9\t0\t0.000258\t0.181\t-27.4\t0\n",
      "('B_time_2', 'ASC_cycling'):\t0.000756\t0.385\t28.5\t0\t0.000978\t0.442\t26.9\t0\n",
      "('B_time_2', 'ASC_driving'):\t0.000646\t0.672\t-31.1\t0\t0.00069\t0.69\t-31.5\t0\n",
      "('B_time_2', 'ASC_walking'):\t0.000178\t0.11\t-4.54\t5.56e-06\t0.000348\t0.198\t-4.51\t6.6e-06\n",
      "('B_time_2', 'B_1_inter'):\t0.000178\t0.266\t-52.5\t0\t0.0002\t0.29\t-52.5\t0\n",
      "('B_time_2', 'B_cost_2'):\t-2.09e-05\t-0.189\t-67.9\t0\t-2.1e-05\t-0.187\t-65.7\t0\n",
      "('B_time_2', 'B_cost_3'):\t4.65e-05\t0.238\t-73.2\t0\t5.03e-05\t0.25\t-70.9\t0\n",
      "('B_time_2', 'B_n_inter'):\t0.000256\t0.22\t-27.7\t0\t0.000267\t0.222\t-27.5\t0\n",
      "('B_time_2', 'B_time_1'):\t0.0006\t0.642\t3.7\t0.00022\t0.000659\t0.673\t3.79\t0.000152\n",
      "('B_time_3', 'ASC_cycling'):\t0.000744\t0.313\t31.9\t0\t0.00106\t0.396\t30.7\t0\n",
      "('B_time_3', 'ASC_driving'):\t0.000199\t0.171\t-11.4\t0\t0.00028\t0.231\t-11.6\t0\n",
      "('B_time_3', 'ASC_walking'):\t0.000132\t0.068\t0.454\t0.65\t0.000361\t0.17\t0.455\t0.649\n",
      "('B_time_3', 'B_1_inter'):\t2.12e-05\t0.0261\t-33\t0\t5.26e-05\t0.0631\t-32.9\t0\n",
      "('B_time_3', 'B_cost_2'):\t9.13e-07\t0.0068\t-48.7\t0\t-8.28e-07\t-0.00608\t-46.9\t0\n",
      "('B_time_3', 'B_cost_3'):\t3.95e-05\t0.167\t-50.2\t0\t4.78e-05\t0.196\t-48.8\t0\n",
      "('B_time_3', 'B_n_inter'):\t8.56e-06\t0.00609\t-17.5\t0\t3e-05\t0.0206\t-17.4\t0\n",
      "('B_time_3', 'B_time_1'):\t0.000662\t0.585\t13.3\t0\t0.000749\t0.632\t13.8\t0\n",
      "('B_time_3', 'B_time_2'):\t0.00075\t0.807\t15.6\t0\t0.000826\t0.828\t15.9\t0\n",
      "('B_time_4', 'ASC_cycling'):\t0.00264\t0.644\t-7.04\t1.86e-12\t0.00341\t0.707\t-7.1\t1.28e-12\n",
      "('B_time_4', 'ASC_driving'):\t0.000675\t0.337\t-54.3\t0\t0.000824\t0.377\t-51.9\t0\n",
      "('B_time_4', 'ASC_walking'):\t0.00239\t0.711\t-57.5\t0\t0.00285\t0.747\t-57.6\t0\n",
      "('B_time_4', 'B_1_inter'):\t0.000239\t0.17\t-66.7\t0\t0.000308\t0.205\t-62.9\t0\n",
      "('B_time_4', 'B_cost_2'):\t1.94e-05\t0.084\t-73.1\t0\t1.49e-05\t0.0607\t-67.3\t0\n",
      "('B_time_4', 'B_cost_3'):\t8.78e-05\t0.215\t-74.6\t0\t9.31e-05\t0.212\t-68.7\t0\n",
      "('B_time_4', 'B_n_inter'):\t0.000262\t0.108\t-51.8\t0\t0.00034\t0.13\t-49.5\t0\n",
      "('B_time_4', 'B_time_1'):\t0.000977\t0.501\t-43\t0\t0.00121\t0.565\t-41.8\t0\n",
      "('B_time_4', 'B_time_2'):\t0.00107\t0.67\t-50.9\t0\t0.00127\t0.705\t-48\t0\n",
      "('B_time_4', 'B_time_3'):\t0.00138\t0.712\t-62.1\t0\t0.00163\t0.747\t-59.2\t0\n",
      "('NEST_INTERCHANGES', 'ASC_cycling'):\t-7.29e-21\t-0.0932\t70.2\t0\t-1.52e-21\t-0.0184\t64.5\t0\n",
      "('NEST_INTERCHANGES', 'ASC_driving'):\t-1.5e-19\t-3.91\t66.1\t0\t-1.5e-19\t-4\t65.8\t0\n",
      "('NEST_INTERCHANGES', 'ASC_walking'):\t3.62e-19\t5.63\t48.6\t0\t3.44e-19\t5.25\t46.3\t0\n",
      "('NEST_INTERCHANGES', 'B_1_inter'):\t-6.37e-20\t-2.38\t59.7\t0\t-6.48e-20\t-2.51\t60.3\t0\n",
      "('NEST_INTERCHANGES', 'B_cost_2'):\t9.94e-21\t2.24\t287\t0\t9.59e-21\t2.28\t294\t0\n",
      "('NEST_INTERCHANGES', 'B_cost_3'):\t3.79e-21\t0.486\t161\t0\t3.05e-21\t0.404\t161\t0\n",
      "('NEST_INTERCHANGES', 'B_n_inter'):\t-1.7e-19\t-3.68\t44.4\t0\t-1.68e-19\t-3.73\t44.5\t0\n",
      "('NEST_INTERCHANGES', 'B_time_1'):\t-2.24e-19\t-6.02\t95\t0\t-2.17e-19\t-5.91\t93.9\t0\n",
      "('NEST_INTERCHANGES', 'B_time_2'):\t-2.21e-19\t-7.23\t112\t0\t-2.19e-19\t-7.09\t108\t0\n",
      "('NEST_INTERCHANGES', 'B_time_3'):\t-2.19e-19\t-5.91\t83.4\t0\t-2.17e-19\t-5.8\t80.4\t0\n",
      "('NEST_INTERCHANGES', 'B_time_4'):\t-4.36e-20\t-0.682\t92.7\t0\t-5.43e-20\t-0.807\t85.6\t0\n",
      "('NEST_NO_INTERCHANGES', 'ASC_cycling'):\t0.000913\t0.714\t83.8\t0\t0.00122\t0.782\t79.5\t0\n",
      "('NEST_NO_INTERCHANGES', 'ASC_driving'):\t0.000104\t0.166\t63.1\t0\t0.000153\t0.216\t63.1\t0\n",
      "('NEST_NO_INTERCHANGES', 'ASC_walking'):\t0.000797\t0.759\t61.4\t0\t0.000994\t0.803\t60.9\t0\n",
      "('NEST_NO_INTERCHANGES', 'B_1_inter'):\t4.89e-05\t0.112\t50.6\t0\t6.91e-05\t0.142\t49.6\t0\n",
      "('NEST_NO_INTERCHANGES', 'B_cost_2'):\t1.26e-05\t0.174\t64.7\t0\t1.11e-05\t0.14\t57.3\t0\n",
      "('NEST_NO_INTERCHANGES', 'B_cost_3'):\t2.09e-05\t0.164\t62\t0\t2.31e-05\t0.163\t55.7\t0\n",
      "('NEST_NO_INTERCHANGES', 'B_n_inter'):\t4.25e-05\t0.0562\t41.7\t0\t6.69e-05\t0.0789\t41.3\t0\n",
      "('NEST_NO_INTERCHANGES', 'B_time_1'):\t0.000188\t0.309\t97.1\t0\t0.000275\t0.398\t100\t0\n",
      "('NEST_NO_INTERCHANGES', 'B_time_2'):\t0.000198\t0.396\t117\t0\t0.00026\t0.447\t116\t0\n",
      "('NEST_NO_INTERCHANGES', 'B_time_3'):\t0.000311\t0.514\t97.2\t0\t0.00039\t0.554\t96.5\t0\n",
      "('NEST_NO_INTERCHANGES', 'B_time_4'):\t0.000876\t0.84\t123\t0\t0.00109\t0.86\t116\t0\n",
      "('NEST_NO_INTERCHANGES', 'NEST_INTERCHANGES'):\t7.94e-21\t0.398\t0\t1\t1.02e-20\t0.468\t0\t1\n",
      "\n"
     ]
    }
   ],
   "source": [
    "#1: Nest parameters\n",
    "NEST_INTERCHANGES=Beta('NEST_INTERCHANGES',1,1,10,0)\n",
    "NEST_NO_INTERCHANGES=Beta('NEST_NO_INTERCHANGES',1,1,10,0)\n",
    "#2: List of alternatives\n",
    "INTERCHANGES=NEST_INTERCHANGES, [2]\n",
    "NO_INTERCHANGES=NEST_NO_INTERCHANGES, [0,1,3]\n",
    "\n",
    "nests= INTERCHANGES, NO_INTERCHANGES\n",
    "\n",
    "logprob = models.lognested(V_NL1, av_NL1, nests, choice)\n",
    "\n",
    "# Create the Biogeme object\n",
    "biogeme = bio.BIOGEME(database, logprob)\n",
    "biogeme.modelName = 'NL_2'\n",
    "\n",
    "# Calculate the null log likelihood for reporting.\n",
    "biogeme.calculateNullLoglikelihood(av_NL1)\n",
    "\n",
    "# Estimate the parameters\n",
    "results = biogeme.estimate()\n",
    "\n",
    "# Get the results in a pandas table\n",
    "pandasResults = results.getEstimatedParameters()\n",
    "pandasResults2=pandasResults\n",
    "print(pandasResults)\n",
    "print(results)"
   ]
  },
  {
   "cell_type": "markdown",
   "id": "f0ae5e7a",
   "metadata": {
    "id": "f0ae5e7a"
   },
   "source": [
    "### Third logical nested model: Cars (car), Others (walk, cycle and pt)"
   ]
  },
  {
   "cell_type": "code",
   "execution_count": 41,
   "id": "f0b06ca0",
   "metadata": {
    "colab": {
     "base_uri": "https://localhost:8080/"
    },
    "id": "f0b06ca0",
    "outputId": "b3eeba0e-d049-4422-98f6-0dd293102fc3"
   },
   "outputs": [
    {
     "name": "stdout",
     "output_type": "stream",
     "text": [
      "                Value  Active bound  Rob. Std err   Rob. t-test  Rob. p-value\n",
      "ASC_cycling -3.969170           0.0  8.203512e-02 -4.838379e+01           0.0\n",
      "ASC_driving -1.294248           0.0  3.683796e-02 -3.513355e+01           0.0\n",
      "ASC_walking -1.824013           0.0  5.537230e-02 -3.294090e+01           0.0\n",
      "B_1_inter   -0.445360           0.0  2.413723e-02 -1.845116e+01           0.0\n",
      "B_cost_2    -0.151739           0.0  3.979132e-03 -3.813379e+01           0.0\n",
      "B_cost_3    -0.132733           0.0  7.019459e-03 -1.890934e+01           0.0\n",
      "B_n_inter   -0.860360           0.0  4.392223e-02 -1.958826e+01           0.0\n",
      "B_time_1    -2.201990           0.0  3.710960e-02 -5.933746e+01           0.0\n",
      "B_time_2    -2.104215           0.0  3.203315e-02 -6.568868e+01           0.0\n",
      "B_time_3    -1.794921           0.0  2.992414e-02 -5.998236e+01           0.0\n",
      "B_time_4    -4.361107           0.0  6.164098e-02 -7.075012e+01           0.0\n",
      "NEST_CARS    1.000000           1.0  7.871237e-19  1.270448e+18           0.0\n",
      "NEST_OTHERS  1.000000           1.0  2.085759e-02  4.794419e+01           0.0\n",
      "\n",
      "Results for model NL_3\n",
      "Output file (HTML):\t\t\tNL_3.html\n",
      "Nbr of parameters:\t\t13\n",
      "Sample size:\t\t\t81086\n",
      "Excluded data:\t\t\t0\n",
      "Null log likelihood:\t\t-112409.1\n",
      "Init log likelihood:\t\t-112409.1\n",
      "Final log likelihood:\t\t-68632.46\n",
      "Likelihood ratio test (null):\t\t87553.21\n",
      "Rho square (null):\t\t\t0.389\n",
      "Rho bar square (null):\t\t\t0.389\n",
      "Likelihood ratio test (init):\t\t87553.21\n",
      "Rho square (init):\t\t\t0.389\n",
      "Rho bar square (init):\t\t\t0.389\n",
      "Akaike Information Criterion:\t137290.9\n",
      "Bayesian Information Criterion:\t137411.9\n",
      "Final gradient norm:\t\t122.7896\n",
      "ASC_cycling    : -3.97[0.0787 -50.4 0][0.082 -48.4 0]\n",
      "ASC_driving    : -1.29[0.0367 -35.3 0][0.0368 -35.1 0]\n",
      "ASC_walking    : -1.82[0.0551 -33.1 0][0.0554 -32.9 0]\n",
      "B_1_inter      : -0.445[0.0243 -18.4 0][0.0241 -18.5 0]\n",
      "B_cost_2       : -0.152[0.004 -37.9 0][0.00398 -38.1 0]\n",
      "B_cost_3       : -0.133[0.00698 -19 0][0.00702 -18.9 0]\n",
      "B_n_inter      : -0.86[0.043 -20 0][0.0439 -19.6 0]\n",
      "B_time_1       : -2.2[0.0357 -61.7 0][0.0371 -59.3 0]\n",
      "B_time_2       : -2.1[0.0299 -70.3 0][0.032 -65.7 0]\n",
      "B_time_3       : -1.79[0.0292 -61.6 0][0.0299 -60 0]\n",
      "B_time_4       : -4.36[0.0551 -79.1 0][0.0616 -70.8 0]\n",
      "NEST_CARS      : 1[7.25e-19 1.38e+18 0][7.87e-19 1.27e+18 0]\n",
      "NEST_OTHERS    : 1[0.019 52.6 0][0.0209 47.9 0]\n",
      "('ASC_driving', 'ASC_cycling'):\t0.00149\t0.517\t39.6\t0\t0.0016\t0.529\t38.3\t0\n",
      "('ASC_walking', 'ASC_cycling'):\t0.00287\t0.663\t36.3\t0\t0.00315\t0.694\t36.3\t0\n",
      "('ASC_walking', 'ASC_driving'):\t0.000803\t0.397\t-10.1\t0\t0.000855\t0.419\t-10.2\t0\n",
      "('B_1_inter', 'ASC_cycling'):\t0.000473\t0.248\t46.1\t0\t0.000604\t0.305\t45.1\t0\n",
      "('B_1_inter', 'ASC_driving'):\t0.000404\t0.454\t25.3\t0\t0.000426\t0.479\t25.7\t0\n",
      "('B_1_inter', 'ASC_walking'):\t0.000254\t0.19\t24.7\t0\t0.000327\t0.245\t25.2\t0\n",
      "('B_cost_2', 'ASC_cycling'):\t-3.55e-05\t-0.113\t48.2\t0\t-5.03e-05\t-0.154\t46.1\t0\n",
      "('B_cost_2', 'ASC_driving'):\t-5.77e-05\t-0.393\t29.7\t0\t-5.85e-05\t-0.399\t29.6\t0\n",
      "('B_cost_2', 'ASC_walking'):\t-1.95e-05\t-0.0886\t30.1\t0\t-2.78e-05\t-0.126\t29.9\t0\n",
      "('B_cost_2', 'B_1_inter'):\t-6.7e-06\t-0.069\t11.8\t0\t-8.06e-06\t-0.0839\t11.8\t0\n",
      "('B_cost_3', 'ASC_cycling'):\t6.26e-05\t0.114\t49\t0\t-1.76e-05\t-0.0306\t46.5\t0\n",
      "('B_cost_3', 'ASC_driving'):\t7.62e-05\t0.298\t33\t0\t6.26e-05\t0.242\t32.5\t0\n",
      "('B_cost_3', 'ASC_walking'):\t2.3e-05\t0.0598\t30.7\t0\t-2.18e-05\t-0.056\t30.1\t0\n",
      "('B_cost_3', 'B_1_inter'):\t-4.8e-05\t-0.283\t11.5\t0\t-5.06e-05\t-0.298\t11.5\t0\n",
      "('B_cost_3', 'B_cost_2'):\t4.3e-06\t0.154\t2.54\t0.0112\t5.72e-06\t0.205\t2.59\t0.00948\n",
      "('B_n_inter', 'ASC_cycling'):\t0.000943\t0.279\t39.6\t0\t0.00135\t0.374\t40.3\t0\n",
      "('B_n_inter', 'ASC_driving'):\t0.000595\t0.377\t9.7\t0\t0.000645\t0.398\t9.71\t0\n",
      "('B_n_inter', 'ASC_walking'):\t0.000498\t0.21\t15.5\t0\t0.000708\t0.291\t16.1\t0\n",
      "('B_n_inter', 'B_1_inter'):\t0.000492\t0.472\t-10.9\t0\t0.000521\t0.492\t-10.8\t0\n",
      "('B_n_inter', 'B_cost_2'):\t-1.28e-05\t-0.0741\t-16.3\t0\t-2.14e-05\t-0.123\t-15.9\t0\n",
      "('B_n_inter', 'B_cost_3'):\t-0.000108\t-0.359\t-15.8\t0\t-0.000124\t-0.402\t-15.4\t0\n",
      "('B_time_1', 'ASC_cycling'):\t0.00206\t0.735\t30.6\t0\t0.00238\t0.783\t30.6\t0\n",
      "('B_time_1', 'ASC_driving'):\t0.000583\t0.446\t-23.8\t0\t0.00066\t0.483\t-24.1\t0\n",
      "('B_time_1', 'ASC_walking'):\t0.000375\t0.191\t-6.34\t2.36e-10\t0.000603\t0.293\t-6.64\t3.08e-11\n",
      "('B_time_1', 'B_1_inter'):\t0.000169\t0.195\t-45\t0\t0.000221\t0.246\t-45.1\t0\n",
      "('B_time_1', 'B_cost_2'):\t-1.74e-05\t-0.122\t-56.4\t0\t-2.31e-05\t-0.156\t-54\t0\n",
      "('B_time_1', 'B_cost_3'):\t3.15e-05\t0.126\t-58.3\t0\t8.34e-06\t0.032\t-55.1\t0\n",
      "('B_time_1', 'B_n_inter'):\t0.000337\t0.22\t-27.1\t0\t0.000489\t0.3\t-27.8\t0\n",
      "('B_time_2', 'ASC_cycling'):\t0.00116\t0.494\t27\t0\t0.00148\t0.565\t27\t0\n",
      "('B_time_2', 'ASC_driving'):\t0.000791\t0.721\t-31.6\t0\t0.000865\t0.733\t-31.7\t0\n",
      "('B_time_2', 'ASC_walking'):\t0.000324\t0.196\t-4.89\t1.01e-06\t0.000526\t0.297\t-5.08\t3.73e-07\n",
      "('B_time_2', 'B_1_inter'):\t0.000195\t0.269\t-50.2\t0\t0.000241\t0.312\t-49.4\t0\n",
      "('B_time_2', 'B_cost_2'):\t-3.94e-05\t-0.329\t-62\t0\t-4.45e-05\t-0.349\t-58.1\t0\n",
      "('B_time_2', 'B_cost_3'):\t2.56e-05\t0.122\t-66\t0\t9.44e-06\t0.042\t-60.7\t0\n",
      "('B_time_2', 'B_n_inter'):\t0.000386\t0.3\t-28\t0\t0.00049\t0.348\t-28\t0\n",
      "('B_time_2', 'B_time_1'):\t0.000732\t0.686\t3.69\t0.000229\t0.000866\t0.729\t3.77\t0.00016\n",
      "('B_time_3', 'ASC_cycling'):\t0.000169\t0.0738\t26.6\t0\t0.000442\t0.18\t26.5\t0\n",
      "('B_time_3', 'ASC_driving'):\t0.000164\t0.153\t-11.6\t0\t0.00025\t0.227\t-12\t0\n",
      "('B_time_3', 'ASC_walking'):\t-0.000434\t-0.27\t0.422\t0.673\t-0.000237\t-0.143\t0.437\t0.662\n",
      "('B_time_3', 'B_1_inter'):\t-1.12e-05\t-0.0158\t-35.3\t0\t2.03e-05\t0.0281\t-35.6\t0\n",
      "('B_time_3', 'B_cost_2'):\t-1.44e-05\t-0.124\t-54.9\t0\t-1.8e-05\t-0.151\t-53.4\t0\n",
      "('B_time_3', 'B_cost_3'):\t1.7e-05\t0.0835\t-56.5\t0\t1.65e-05\t0.0784\t-55\t0\n",
      "('B_time_3', 'B_n_inter'):\t1.63e-05\t0.013\t-18.1\t0\t7.24e-05\t0.0551\t-18.1\t0\n",
      "('B_time_3', 'B_time_1'):\t0.000558\t0.537\t12.8\t0\t0.000643\t0.579\t13\t0\n",
      "('B_time_3', 'B_time_2'):\t0.000637\t0.731\t14.3\t0\t0.00073\t0.762\t14.4\t0\n",
      "('B_time_4', 'ASC_cycling'):\t0.00295\t0.681\t-6.79\t1.09e-11\t0.00367\t0.726\t-6.94\t3.8e-12\n",
      "('B_time_4', 'ASC_driving'):\t0.000995\t0.492\t-62.6\t0\t0.00116\t0.511\t-57.6\t0\n",
      "('B_time_4', 'ASC_walking'):\t0.00206\t0.679\t-57.4\t0\t0.00243\t0.711\t-56.6\t0\n",
      "('B_time_4', 'B_1_inter'):\t0.000241\t0.18\t-69.8\t0\t0.00036\t0.242\t-64.7\t0\n",
      "('B_time_4', 'B_cost_2'):\t-4.55e-05\t-0.206\t-75\t0\t-5.95e-05\t-0.243\t-67.1\t0\n",
      "('B_time_4', 'B_cost_3'):\t7.84e-06\t0.0204\t-76.3\t0\t-4.21e-05\t-0.0974\t-67.4\t0\n",
      "('B_time_4', 'B_n_inter'):\t0.000598\t0.252\t-57.6\t0\t0.000899\t0.332\t-55.8\t0\n",
      "('B_time_4', 'B_time_1'):\t0.00118\t0.599\t-48.8\t0\t0.00153\t0.667\t-46.8\t0\n",
      "('B_time_4', 'B_time_2'):\t0.00125\t0.76\t-59.7\t0\t0.00158\t0.803\t-55.5\t0\n",
      "('B_time_4', 'B_time_3'):\t0.000762\t0.474\t-52.8\t0\t0.00101\t0.548\t-49.6\t0\n",
      "('NEST_CARS', 'ASC_cycling'):\t-1.76e-20\t-0.308\t63.1\t0\t-2.08e-20\t-0.322\t60.6\t0\n",
      "('NEST_CARS', 'ASC_driving'):\t-7.22e-21\t-0.271\t62.6\t0\t-7.96e-21\t-0.274\t62.3\t0\n",
      "('NEST_CARS', 'ASC_walking'):\t-1.33e-20\t-0.333\t51.2\t0\t-1.48e-20\t-0.34\t51\t0\n",
      "('NEST_CARS', 'B_1_inter'):\t-1.8e-21\t-0.102\t59.6\t0\t-2.39e-21\t-0.126\t59.9\t0\n",
      "('NEST_CARS', 'B_cost_2'):\t3.04e-22\t0.105\t288\t0\t3.68e-22\t0.118\t289\t0\n",
      "('NEST_CARS', 'B_cost_3'):\t-2.58e-22\t-0.051\t162\t0\t1.26e-23\t0.00229\t161\t0\n",
      "('NEST_CARS', 'B_n_inter'):\t-3.31e-21\t-0.106\t43.3\t0\t-4.81e-21\t-0.139\t42.4\t0\n",
      "('NEST_CARS', 'B_time_1'):\t-5.94e-21\t-0.23\t89.8\t0\t-7.71e-21\t-0.264\t86.3\t0\n",
      "('NEST_CARS', 'B_time_2'):\t-6.81e-21\t-0.314\t104\t0\t-8.48e-21\t-0.336\t96.9\t0\n",
      "('NEST_CARS', 'B_time_3'):\t-2.93e-21\t-0.138\t95.9\t0\t-4.31e-21\t-0.183\t93.4\t0\n",
      "('NEST_CARS', 'B_time_4'):\t-1.64e-20\t-0.409\t97.2\t0\t-2e-20\t-0.413\t87\t0\n",
      "('NEST_OTHERS', 'ASC_cycling'):\t0.00116\t0.777\t76.4\t0\t0.00139\t0.81\t75\t0\n",
      "('NEST_OTHERS', 'ASC_driving'):\t0.000251\t0.36\t66.1\t0\t0.000293\t0.382\t66.1\t0\n",
      "('NEST_OTHERS', 'ASC_walking'):\t0.000762\t0.727\t65.2\t0\t0.000872\t0.755\t67.4\t0\n",
      "('NEST_OTHERS', 'B_1_inter'):\t5.62e-05\t0.122\t49.9\t0\t9.48e-05\t0.188\t50.2\t0\n",
      "('NEST_OTHERS', 'B_cost_2'):\t-1.3e-05\t-0.171\t57.3\t0\t-1.79e-05\t-0.216\t52.2\t0\n",
      "('NEST_OTHERS', 'B_cost_3'):\t-9.99e-06\t-0.0752\t54.6\t0\t-3.03e-05\t-0.207\t48.5\t0\n",
      "('NEST_OTHERS', 'B_n_inter'):\t0.000189\t0.231\t43.5\t0\t0.000295\t0.322\t44.2\t0\n",
      "('NEST_OTHERS', 'B_time_1'):\t0.000297\t0.438\t99.3\t0\t0.000419\t0.542\t103\t0\n",
      "('NEST_OTHERS', 'B_time_2'):\t0.000299\t0.526\t121\t0\t0.000401\t0.6\t121\t0\n",
      "('NEST_OTHERS', 'B_time_3'):\t9.25e-05\t0.167\t87.2\t0\t0.00017\t0.272\t88.8\t0\n",
      "('NEST_OTHERS', 'B_time_4'):\t0.000863\t0.823\t131\t0\t0.0011\t0.857\t119\t0\n",
      "('NEST_OTHERS', 'NEST_CARS'):\t-3.04e-20\t-2.21\t0\t1\t-3.7e-20\t-2.25\t0\t1\n",
      "\n"
     ]
    }
   ],
   "source": [
    "#1: Nest parameters\n",
    "NEST_CARS=Beta('NEST_CARS',1,1,10,0)\n",
    "NEST_OTHERS=Beta('NEST_OTHERS',1,1,10,0)\n",
    "#2: List of alternatives\n",
    "CARS=NEST_CARS, [1]\n",
    "OTHERS=NEST_OTHERS, [0,2,3]\n",
    "\n",
    "nests= CARS, OTHERS\n",
    "\n",
    "logprob = models.lognested(V_NL1, av_NL1, nests, choice)\n",
    "\n",
    "# Create the Biogeme object\n",
    "biogeme = bio.BIOGEME(database, logprob)\n",
    "biogeme.modelName = 'NL_3'\n",
    "\n",
    "# Calculate the null log likelihood for reporting.\n",
    "biogeme.calculateNullLoglikelihood(av_NL1)\n",
    "\n",
    "# Estimate the parameters\n",
    "results = biogeme.estimate()\n",
    "\n",
    "# Get the results in a pandas table\n",
    "pandasResults = results.getEstimatedParameters()\n",
    "pandasResults2=pandasResults\n",
    "print(pandasResults)\n",
    "print(results)"
   ]
  },
  {
   "cell_type": "markdown",
   "id": "6f9f8a3d",
   "metadata": {
    "id": "6f9f8a3d"
   },
   "source": [
    "### Forth logical nested model: Ecological (cycle, walk), pt, car."
   ]
  },
  {
   "cell_type": "code",
   "execution_count": 42,
   "id": "f7f7d875",
   "metadata": {
    "colab": {
     "base_uri": "https://localhost:8080/"
    },
    "id": "f7f7d875",
    "outputId": "4c995a83-d0fd-4142-de35-a95f83a50ce1"
   },
   "outputs": [
    {
     "name": "stdout",
     "output_type": "stream",
     "text": [
      "                    Value  Active bound  Rob. Std err  Rob. t-test  \\\n",
      "ASC_cycling     -3.969611           0.0      0.047543   -83.495198   \n",
      "ASC_driving     -1.294287           0.0      0.034256   -37.782462   \n",
      "ASC_walking     -1.824132           0.0      0.042043   -43.387675   \n",
      "B_1_inter       -0.445441           0.0      0.023758   -18.748821   \n",
      "B_cost_2        -0.151748           0.0      0.003898   -38.934067   \n",
      "B_cost_3        -0.132723           0.0      0.006924   -19.169681   \n",
      "B_n_inter       -0.860627           0.0      0.041713   -20.631915   \n",
      "B_time_1        -2.202180           0.0      0.041236   -53.404379   \n",
      "B_time_2        -2.104204           0.0      0.026348   -79.860602   \n",
      "B_time_3        -1.794871           0.0      0.029561   -60.718247   \n",
      "B_time_4        -4.361155           0.0      0.038822  -112.338546   \n",
      "NEST_ECOLOGICAL  1.000000           1.0      0.039178    25.524261   \n",
      "\n",
      "                 Rob. p-value  \n",
      "ASC_cycling               0.0  \n",
      "ASC_driving               0.0  \n",
      "ASC_walking               0.0  \n",
      "B_1_inter                 0.0  \n",
      "B_cost_2                  0.0  \n",
      "B_cost_3                  0.0  \n",
      "B_n_inter                 0.0  \n",
      "B_time_1                  0.0  \n",
      "B_time_2                  0.0  \n",
      "B_time_3                  0.0  \n",
      "B_time_4                  0.0  \n",
      "NEST_ECOLOGICAL           0.0  \n",
      "\n",
      "Results for model NL_4\n",
      "Output file (HTML):\t\t\tNL_4.html\n",
      "Nbr of parameters:\t\t12\n",
      "Sample size:\t\t\t81086\n",
      "Excluded data:\t\t\t0\n",
      "Null log likelihood:\t\t-112409.1\n",
      "Init log likelihood:\t\t-112409.1\n",
      "Final log likelihood:\t\t-68632.46\n",
      "Likelihood ratio test (null):\t\t87553.21\n",
      "Rho square (null):\t\t\t0.389\n",
      "Rho bar square (null):\t\t\t0.389\n",
      "Likelihood ratio test (init):\t\t87553.21\n",
      "Rho square (init):\t\t\t0.389\n",
      "Rho bar square (init):\t\t\t0.389\n",
      "Akaike Information Criterion:\t137288.9\n",
      "Bayesian Information Criterion:\t137400.6\n",
      "Final gradient norm:\t\t224.1237\n",
      "ASC_cycling    : -3.97[0.0504 -78.8 0][0.0475 -83.5 0]\n",
      "ASC_driving    : -1.29[0.0343 -37.7 0][0.0343 -37.8 0]\n",
      "ASC_walking    : -1.82[0.0428 -42.6 0][0.042 -43.4 0]\n",
      "B_1_inter      : -0.445[0.0241 -18.5 0][0.0238 -18.7 0]\n",
      "B_cost_2       : -0.152[0.00395 -38.4 0][0.0039 -38.9 0]\n",
      "B_cost_3       : -0.133[0.00696 -19.1 0][0.00692 -19.2 0]\n",
      "B_n_inter      : -0.861[0.0418 -20.6 0][0.0417 -20.6 0]\n",
      "B_time_1       : -2.2[0.0458 -48.1 0][0.0412 -53.4 0]\n",
      "B_time_2       : -2.1[0.0259 -81.3 0][0.0263 -79.9 0]\n",
      "B_time_3       : -1.79[0.0291 -61.6 0][0.0296 -60.7 0]\n",
      "B_time_4       : -4.36[0.0369 -118 0][0.0388 -112 0]\n",
      "NEST_ECOLOGICAL: 1[0.0359 27.8 0][0.0392 25.5 0]\n",
      "('ASC_driving', 'ASC_cycling'):\t0.000658\t0.38\t54.6\t0\t0.000656\t0.403\t58.1\t0\n",
      "('ASC_walking', 'ASC_cycling'):\t0.000242\t0.112\t34.4\t0\t0.000339\t0.169\t37.1\t0\n",
      "('ASC_walking', 'ASC_driving'):\t0.000335\t0.228\t-10.9\t0\t0.000347\t0.241\t-11.2\t0\n",
      "('B_1_inter', 'ASC_cycling'):\t0.000287\t0.237\t69.9\t0\t0.000297\t0.263\t74.6\t0\n",
      "('B_1_inter', 'ASC_driving'):\t0.000367\t0.444\t26.5\t0\t0.000365\t0.448\t26.7\t0\n",
      "('B_1_inter', 'ASC_walking'):\t0.000147\t0.143\t30\t0\t0.000154\t0.154\t30.6\t0\n",
      "('B_cost_2', 'ASC_cycling'):\t8.65e-06\t0.0434\t75.8\t0\t7.61e-06\t0.041\t80.3\t0\n",
      "('B_cost_2', 'ASC_driving'):\t-4.95e-05\t-0.364\t31.8\t0\t-4.75e-05\t-0.356\t31.9\t0\n",
      "('B_cost_2', 'ASC_walking'):\t2.74e-06\t0.0162\t39\t0\t2.31e-06\t0.0141\t39.7\t0\n",
      "('B_cost_2', 'B_1_inter'):\t-4.83e-06\t-0.0507\t11.9\t0\t-4.56e-06\t-0.0493\t12.1\t0\n",
      "('B_cost_3', 'ASC_cycling'):\t9.45e-05\t0.27\t78.3\t0\t7.9e-05\t0.24\t82.7\t0\n",
      "('B_cost_3', 'ASC_driving'):\t8.32e-05\t0.348\t35.6\t0\t8.35e-05\t0.352\t35.8\t0\n",
      "('B_cost_3', 'ASC_walking'):\t4.43e-05\t0.149\t40\t0\t4.15e-05\t0.142\t40.6\t0\n",
      "('B_cost_3', 'B_1_inter'):\t-4.64e-05\t-0.277\t11.6\t0\t-4.51e-05\t-0.274\t11.8\t0\n",
      "('B_cost_3', 'B_cost_2'):\t3.94e-06\t0.143\t2.54\t0.0112\t4.56e-06\t0.169\t2.59\t0.00963\n",
      "('B_n_inter', 'ASC_cycling'):\t0.000333\t0.158\t51.6\t0\t0.000404\t0.204\t55\t0\n",
      "('B_n_inter', 'ASC_driving'):\t0.000465\t0.324\t9.7\t0\t0.000446\t0.312\t9.65\t0\n",
      "('B_n_inter', 'ASC_walking'):\t0.00011\t0.0616\t16.6\t0\t0.000121\t0.0691\t16.9\t0\n",
      "('B_n_inter', 'B_1_inter'):\t0.000463\t0.46\t-11.1\t0\t0.000462\t0.466\t-11.2\t0\n",
      "('B_n_inter', 'B_cost_2'):\t-6.09e-06\t-0.0368\t-16.8\t0\t-9.77e-06\t-0.0601\t-16.8\t0\n",
      "('B_n_inter', 'B_cost_3'):\t-0.000102\t-0.352\t-16.3\t0\t-0.000106\t-0.368\t-16.3\t0\n",
      "('B_time_1', 'ASC_cycling'):\t0.00141\t0.61\t41.4\t0\t0.00104\t0.53\t40.7\t0\n",
      "('B_time_1', 'ASC_driving'):\t0.000277\t0.176\t-17.4\t0\t0.000269\t0.19\t-18.8\t0\n",
      "('B_time_1', 'ASC_walking'):\t-0.000903\t-0.461\t-4.99\t6.01e-07\t-0.000829\t-0.478\t-5.28\t1.29e-07\n",
      "('B_time_1', 'B_1_inter'):\t0.000104\t0.0941\t-35.3\t0\t0.000104\t0.106\t-38.7\t0\n",
      "('B_time_1', 'B_cost_2'):\t1.63e-06\t0.00898\t-44.6\t0\t2.09e-06\t0.013\t-49.6\t0\n",
      "('B_time_1', 'B_cost_3'):\t3.92e-05\t0.123\t-45.5\t0\t3.37e-05\t0.118\t-50.5\t0\n",
      "('B_time_1', 'B_n_inter'):\t0.000167\t0.0871\t-22.6\t0\t0.000198\t0.115\t-24.3\t0\n",
      "('B_time_2', 'ASC_cycling'):\t0.000159\t0.122\t34.7\t0\t0.000188\t0.15\t36.7\t0\n",
      "('B_time_2', 'ASC_driving'):\t0.000597\t0.672\t-31.7\t0\t0.000616\t0.682\t-32.1\t0\n",
      "('B_time_2', 'ASC_walking'):\t-0.000214\t-0.193\t-5.17\t2.29e-07\t-0.000157\t-0.142\t-5.32\t1.06e-07\n",
      "('B_time_2', 'B_1_inter'):\t0.000151\t0.243\t-53.9\t0\t0.000162\t0.258\t-54.2\t0\n",
      "('B_time_2', 'B_cost_2'):\t-2.98e-05\t-0.291\t-71.6\t0\t-2.98e-05\t-0.29\t-70.4\t0\n",
      "('B_time_2', 'B_cost_3'):\t3.39e-05\t0.188\t-77.3\t0\t3.58e-05\t0.196\t-76.1\t0\n",
      "('B_time_2', 'B_n_inter'):\t0.000232\t0.215\t-28.1\t0\t0.000228\t0.207\t-28\t0\n",
      "('B_time_2', 'B_time_1'):\t0.000335\t0.283\t2.14\t0.0324\t0.000315\t0.29\t2.33\t0.0197\n",
      "('B_time_3', 'ASC_cycling'):\t-0.000171\t-0.117\t35.6\t0\t-0.000121\t-0.0861\t37.4\t0\n",
      "('B_time_3', 'ASC_driving'):\t0.000114\t0.114\t-11.8\t0\t0.000157\t0.155\t-12\t0\n",
      "('B_time_3', 'ASC_walking'):\t-0.000535\t-0.429\t0.478\t0.633\t-0.000453\t-0.364\t0.491\t0.623\n",
      "('B_time_3', 'B_1_inter'):\t-2.28e-05\t-0.0325\t-35.2\t0\t-7.57e-06\t-0.0108\t-35.4\t0\n",
      "('B_time_3', 'B_cost_2'):\t-1.23e-05\t-0.107\t-55.1\t0\t-1.31e-05\t-0.114\t-54.3\t0\n",
      "('B_time_3', 'B_cost_3'):\t1.96e-05\t0.0968\t-56.8\t0\t2.6e-05\t0.127\t-56.4\t0\n",
      "('B_time_3', 'B_n_inter'):\t-2.98e-05\t-0.0245\t-18.1\t0\t-3.03e-05\t-0.0245\t-18.1\t0\n",
      "('B_time_3', 'B_time_1'):\t0.000329\t0.247\t8.51\t0\t0.000307\t0.252\t9.2\t0\n",
      "('B_time_3', 'B_time_2'):\t0.000582\t0.773\t16.5\t0\t0.000615\t0.789\t16.8\t0\n",
      "('B_time_4', 'ASC_cycling'):\t1.78e-06\t0.000955\t-6.27\t3.54e-10\t0.000112\t0.0605\t-6.58\t4.8e-11\n",
      "('B_time_4', 'ASC_driving'):\t0.000455\t0.359\t-76\t0\t0.000499\t0.375\t-74.8\t0\n",
      "('B_time_4', 'ASC_walking'):\t0.000634\t0.402\t-57.8\t0\t0.00068\t0.417\t-58\t0\n",
      "('B_time_4', 'B_1_inter'):\t0.000118\t0.133\t-94.9\t0\t0.000145\t0.157\t-92.8\t0\n",
      "('B_time_4', 'B_cost_2'):\t-1.94e-05\t-0.133\t-112\t0\t-2.08e-05\t-0.137\t-106\t0\n",
      "('B_time_4', 'B_cost_3'):\t3.19e-05\t0.124\t-115\t0\t3.25e-05\t0.121\t-110\t0\n",
      "('B_time_4', 'B_n_inter'):\t0.000157\t0.102\t-66.2\t0\t0.000174\t0.107\t-65\t0\n",
      "('B_time_4', 'B_time_1'):\t-0.000164\t-0.0972\t-35.1\t0\t-0.00015\t-0.0938\t-36.5\t0\n",
      "('B_time_4', 'B_time_2'):\t0.000631\t0.661\t-81.4\t0\t0.000705\t0.689\t-80.2\t0\n",
      "('B_time_4', 'B_time_3'):\t0.000633\t0.589\t-83.6\t0\t0.000724\t0.631\t-84\t0\n",
      "('NEST_ECOLOGICAL', 'ASC_cycling'):\t-0.000329\t-0.182\t74.2\t0\t-7.9e-05\t-0.0424\t79\t0\n",
      "('NEST_ECOLOGICAL', 'ASC_driving'):\t0.000109\t0.0886\t48.4\t0\t0.000146\t0.109\t46.7\t0\n",
      "('NEST_ECOLOGICAL', 'ASC_walking'):\t0.000717\t0.466\t68.7\t0\t0.000828\t0.503\t69.6\t0\n",
      "('NEST_ECOLOGICAL', 'B_1_inter'):\t2.1e-05\t0.0243\t33.8\t0\t3.7e-05\t0.0397\t32.1\t0\n",
      "('NEST_ECOLOGICAL', 'B_cost_2'):\t-9.18e-06\t-0.0646\t31.7\t0\t-1.14e-05\t-0.0746\t29\t0\n",
      "('NEST_ECOLOGICAL', 'B_cost_3'):\t5.01e-07\t0.002\t31\t0\t1.38e-06\t0.0051\t28.5\t0\n",
      "('NEST_ECOLOGICAL', 'B_n_inter'):\t1.65e-05\t0.011\t33.9\t0\t2.19e-05\t0.0134\t32.7\t0\n",
      "('NEST_ECOLOGICAL', 'B_time_1'):\t-0.00117\t-0.714\t42.3\t0\t-0.00109\t-0.677\t43.5\t0\n",
      "('NEST_ECOLOGICAL', 'B_time_2'):\t0.000166\t0.178\t76.9\t0\t0.00023\t0.223\t73.8\t0\n",
      "('NEST_ECOLOGICAL', 'B_time_3'):\t0.000168\t0.161\t65.8\t0\t0.000241\t0.208\t63.7\t0\n",
      "('NEST_ECOLOGICAL', 'B_time_4'):\t0.000697\t0.526\t151\t0\t0.000864\t0.568\t148\t0\n",
      "\n"
     ]
    }
   ],
   "source": [
    "#1: Nest parameters\n",
    "NEST_ECOLOGICAL=Beta('NEST_ECOLOGICAL',1,1,10,0)\n",
    "CAR=Beta('CAR',1,1,10,0)\n",
    "PT=Beta('PT',1,1,10,0)\n",
    "#2: List of alternatives\n",
    "ECOLOGICAL=NEST_ECOLOGICAL, [0, 3]\n",
    "CAR=1, [1]\n",
    "PT=2, [2]\n",
    "\n",
    "nests= ECOLOGICAL,CAR,PT\n",
    "\n",
    "logprob = models.lognested(V_NL1, av_NL1, nests, choice)\n",
    "\n",
    "# Create the Biogeme object\n",
    "biogeme = bio.BIOGEME(database, logprob)\n",
    "biogeme.modelName = 'NL_4'\n",
    "\n",
    "# Calculate the null log likelihood for reporting.\n",
    "biogeme.calculateNullLoglikelihood(av_NL1)\n",
    "\n",
    "# Estimate the parameters\n",
    "results = biogeme.estimate()\n",
    "\n",
    "# Get the results in a pandas table\n",
    "pandasResults = results.getEstimatedParameters()\n",
    "pandasResults2=pandasResults\n",
    "print(pandasResults)\n",
    "print(results)"
   ]
  },
  {
   "cell_type": "markdown",
   "id": "406bfb70",
   "metadata": {
    "id": "406bfb70"
   },
   "source": [
    "So, the first logical nested model is the one showing and improvement in comparison with the Model 7 (in terms of the LogLikelihood) and also having a mu between 0 and 1 for the nest of No Motor the mu equal to 1 in the nest of Motor, that means that maximum substitution takes places inside the nest of No Motor whereas Public Transport and Car don't constitute a nest because it doesn't exist substitution between them."
   ]
  },
  {
   "cell_type": "code",
   "execution_count": 2,
   "id": "f348cd24",
   "metadata": {
    "colab": {
     "base_uri": "https://localhost:8080/"
    },
    "id": "f348cd24",
    "outputId": "76db8973-acdc-4227-cf6e-e0534d96ea3e"
   },
   "outputs": [
    {
     "name": "stdout",
     "output_type": "stream",
     "text": [
      "LRTuple(message='H0 can be rejected at level 5.0%', statistic=269.60693795236875, threshold=5.991464547107979)\n",
      "269.60693795236875\n"
     ]
    }
   ],
   "source": [
    "# Ratio test between NL1 and MNL7.\n",
    "final_LL_7=-68605.81346897618\n",
    "final_LL_NL1=-68471.01\n",
    "chi = -2*(final_LL_7 - final_LL_NL1)\n",
    "\n",
    "a = tools.likelihood_ratio_test((final_LL_7,11), (final_LL_NL1,13), significance_level=0.05)\n",
    "\n",
    "print(a)\n",
    "print(chi)"
   ]
  },
  {
   "cell_type": "markdown",
   "id": "55712d6a",
   "metadata": {
    "id": "55712d6a"
   },
   "source": [
    "# ANALYSIS OF THE RESULTS OF NL1"
   ]
  },
  {
   "cell_type": "code",
   "execution_count": 27,
   "id": "16d543d8",
   "metadata": {
    "colab": {
     "base_uri": "https://localhost:8080/"
    },
    "id": "16d543d8",
    "outputId": "cc99db69-b3b7-4746-f34e-9141691e1412"
   },
   "outputs": [
    {
     "name": "stdout",
     "output_type": "stream",
     "text": [
      "[16:10:44] < Warning >   Parameter NEST_MOTOR not present in the model\n",
      "[16:10:44] < Warning >   Parameter NEST_NOMOTOR not present in the model\n"
     ]
    }
   ],
   "source": [
    "#Calculation of elasticities of the Model NL1\n",
    "\n",
    "prob_0 = models.logit(V_NL1,av_NL1,0)\n",
    "prob_1 = models.logit(V_NL1,av_NL1,1)\n",
    "prob_2 = models.logit(V_NL1,av_NL1,2)\n",
    "prob_3 = models.logit(V_NL1,av_NL1,3)\n",
    "\n",
    "#Direct and Cross Elasticities of each alternative (only the ones for our study)\n",
    "elas_2_one_inter = Derive(prob_2,'one_inter') * one_inter / prob_2 \n",
    "elas_2_n_inter = Derive(prob_2,'more_than_one_inter') * more_than_one_inter / prob_2 \n",
    "\n",
    "elastcross_0_one_inter = Derive(prob_0,'one_inter') * one_inter / prob_0 \n",
    "elastcross_1_one_inter = Derive(prob_1,'one_inter') * one_inter / prob_1 \n",
    "elastcross_3_one_inter = Derive(prob_3,'one_inter') * one_inter / prob_3\n",
    "\n",
    "elastcross_0_n_inter = Derive(prob_0,'more_than_one_inter') * more_than_one_inter / prob_0\n",
    "elastcross_1_n_inter = Derive(prob_1,'more_than_one_inter') * more_than_one_inter / prob_1\n",
    "elastcross_3_n_inter = Derive(prob_3,'more_than_one_inter') * more_than_one_inter / prob_3\n",
    "\n",
    "\n",
    "\n",
    "elas_2_dur_inter = Derive(prob_2,'dur_pt_int_total') * dur_pt_int_total / prob_2 \n",
    "\n",
    "elastcross_0_dur_inter = Derive(prob_0,'dur_pt_int_total') * dur_pt_int_total / prob_0 \n",
    "elastcross_1_dur_inter = Derive(prob_1,'dur_pt_int_total') * dur_pt_int_total / prob_1 \n",
    "elastcross_3_dur_inter = Derive(prob_3,'dur_pt_int_total') * dur_pt_int_total / prob_3\n",
    "\n",
    "\n",
    "\n",
    "simulate = {\n",
    "    'prob.0': prob_0,\n",
    "    'prob.1': prob_1,\n",
    "    'prob.2': prob_2,\n",
    "    'prob.3': prob_3,\n",
    "    'elas_2_one_inter': elas_2_one_inter,\n",
    "    'elas_2_n_inter': elas_2_n_inter,\n",
    "    'elastcross_0_one_inter': elastcross_0_one_inter,\n",
    "    'elastcross_1_one_inter': elastcross_1_one_inter,\n",
    "    'elastcross_3_one_inter': elastcross_3_one_inter,\n",
    "    'elastcross_0_n_inter': elastcross_0_n_inter,\n",
    "    'elastcross_1_n_inter': elastcross_1_n_inter,\n",
    "    'elastcross_3_n_inter': elastcross_3_n_inter,\n",
    "    'elas_2_dur_inter': elas_2_dur_inter,\n",
    "    'elastcross_0_dur_inter': elastcross_0_dur_inter,\n",
    "    'elastcross_1_dur_inter': elastcross_1_dur_inter,\n",
    "    'elastcross_3_dur_inter': elastcross_3_dur_inter,\n",
    "}\n",
    "\n",
    "biosim = bio.BIOGEME(database, simulate)\n",
    "biosim.modelName = 'elasticities_Model_NL1'\n",
    "\n",
    "\n",
    "# Perform the simulation\n",
    "simresults = biosim.simulate(results_NL1.getBetaValues())\n",
    "simresults2=simresults\n",
    "\n",
    "denominator_0 = simresults['prob.0'].sum()\n",
    "denominator_1 = simresults['prob.1'].sum()\n",
    "denominator_2 = simresults['prob.2'].sum()\n",
    "denominator_3 = simresults['prob.3'].sum()\n",
    "\n",
    "elas_2_one_inter = (simresults['prob.2'] * simresults['elas_2_one_inter'] / denominator_2).sum()\n",
    "elas_2_n_inter = (simresults['prob.2'] * simresults['elas_2_n_inter'] / denominator_2).sum()\n",
    "\n",
    "elastcross_0_one_inter = (simresults['prob.0'] * simresults['elastcross_0_one_inter'] / denominator_0).sum()\n",
    "elastcross_1_one_inter  = (simresults['prob.1'] * simresults['elastcross_1_one_inter'] / denominator_1).sum()\n",
    "elastcross_3_one_inter = (simresults['prob.3'] * simresults['elastcross_3_one_inter'] / denominator_3).sum()\n",
    "\n",
    "elastcross_0_n_inter = (simresults['prob.0'] * simresults['elastcross_0_n_inter'] / denominator_0).sum()\n",
    "elastcross_1_n_inter = (simresults['prob.1'] * simresults['elastcross_1_n_inter'] / denominator_1).sum()\n",
    "elastcross_3_n_inter = (simresults['prob.3'] * simresults['elastcross_3_n_inter'] / denominator_3).sum()\n",
    "\n",
    "\n",
    "\n",
    "\n",
    "elas_2_dur_inter = (simresults['prob.2'] * simresults['elas_2_dur_inter'] / denominator_2).sum()\n",
    "\n",
    "elastcross_0_dur_inter = (simresults['prob.0'] * simresults['elastcross_0_dur_inter'] / denominator_0).sum()\n",
    "elastcross_1_dur_inter  = (simresults['prob.1'] * simresults['elastcross_1_dur_inter'] / denominator_1).sum()\n",
    "elastcross_3_dur_inter = (simresults['prob.3'] * simresults['elastcross_3_dur_inter'] / denominator_3).sum()\n",
    "\n",
    "\n",
    "simresults_1=simresults\n"
   ]
  },
  {
   "cell_type": "code",
   "execution_count": 28,
   "id": "ab9b746f",
   "metadata": {
    "colab": {
     "base_uri": "https://localhost:8080/"
    },
    "id": "ab9b746f",
    "outputId": "d3ffd267-3b9f-4154-d969-a16cd9012b62"
   },
   "outputs": [
    {
     "name": "stdout",
     "output_type": "stream",
     "text": [
      "The average elasticity of the share of alternative 2 with respect to one interchange: -0.149 \n",
      "The average elasticity of the share of alternative 2 with respect to more than one interchange: -0.065 \n",
      "The average elasticity of the share of alternative 0 with respect to one interchange: 0.112 \n",
      "The average elasticity of the share of alternative 1 with respect to one interchange: 0.121 \n",
      "The average elasticity of the share of alternative 3 with respect to one interchange: 0.009 \n",
      "The average elasticity of the share of alternative 0 with respect to more than one interchange: 0.043 \n",
      "The average elasticity of the share of alternative 1 with respect to more than one interchange: 0.054 \n",
      "The average elasticity of the share of alternative 3 with respect to more than one interchange: 0.001 \n",
      "The average elasticity of the share of alternative 2 with respect to duration of interchange: -0.029 \n",
      "The average elasticity of the share of alternative 0 with respect to duration of interchange: 0.021 \n",
      "The average elasticity of the share of alternative 1 with respect to duration of interchange: 0.024 \n",
      "The average elasticity of the share of alternative 3 with respect to duration of interchange: 0.001 \n",
      "\n"
     ]
    }
   ],
   "source": [
    "print(\n",
    "f'The average elasticity of the share of alternative 2 with respect to one interchange: {elas_2_one_inter:.3f} \\n'\n",
    "f'The average elasticity of the share of alternative 2 with respect to more than one interchange: {elas_2_n_inter:.3f} \\n'\n",
    "f'The average elasticity of the share of alternative 0 with respect to one interchange: {elastcross_0_one_inter:.3f} \\n'\n",
    "f'The average elasticity of the share of alternative 1 with respect to one interchange: {elastcross_1_one_inter:.3f} \\n'\n",
    "f'The average elasticity of the share of alternative 3 with respect to one interchange: {elastcross_3_one_inter:.3f} \\n'\n",
    "f'The average elasticity of the share of alternative 0 with respect to more than one interchange: {elastcross_0_n_inter:.3f} \\n'\n",
    "f'The average elasticity of the share of alternative 1 with respect to more than one interchange: {elastcross_1_n_inter:.3f} \\n'\n",
    "f'The average elasticity of the share of alternative 3 with respect to more than one interchange: {elastcross_3_n_inter:.3f} \\n'\n",
    "f'The average elasticity of the share of alternative 2 with respect to duration of interchange: {elas_2_dur_inter:.3f} \\n'\n",
    "f'The average elasticity of the share of alternative 0 with respect to duration of interchange: {elastcross_0_dur_inter:.3f} \\n'\n",
    "f'The average elasticity of the share of alternative 1 with respect to duration of interchange: {elastcross_1_dur_inter:.3f} \\n'\n",
    "f'The average elasticity of the share of alternative 3 with respect to duration of interchange: {elastcross_3_dur_inter:.3f} \\n')"
   ]
  },
  {
   "cell_type": "code",
   "execution_count": 25,
   "id": "2e6caf5a",
   "metadata": {
    "colab": {
     "base_uri": "https://localhost:8080/"
    },
    "id": "2e6caf5a",
    "outputId": "d96805b8-a8f3-4c53-877a-c7c52e0c31dc"
   },
   "outputs": [
    {
     "name": "stdout",
     "output_type": "stream",
     "text": [
      "The value of time in the interchanges of Public Transport is: 53.85\n",
      "The value of time for Driving is: 122.12\n"
     ]
    }
   ],
   "source": [
    "# Calculation of Value of Time\n",
    "\n",
    "TOTAL_DUR_PT=(df['dur_pt_rail'])+(df['dur_pt_bus'])+(df['dur_pt_access'])\n",
    "\n",
    "\n",
    "VOT_PT_INTERCHANGES = np.mean((pandasResults_NL1.loc['B_time_3']['Value'])/(pandasResults_NL1.loc['B_cost_3']['Value']*TOTAL_DUR_PT))\n",
    "VOT_CAR = np.mean(pandasResults_NL1.loc['B_time_2']['Value']/((pandasResults_NL1.loc['B_cost_2']['Value'])*df['dur_driving']))\n",
    "\n",
    "print(f\"The value of time in the interchanges of Public Transport is: {VOT_PT_INTERCHANGES:.2f}\")\n",
    "print(f\"The value of time for Driving is: {VOT_CAR:.2f}\")"
   ]
  },
  {
   "cell_type": "markdown",
   "id": "910111a4",
   "metadata": {
    "id": "910111a4"
   },
   "source": [
    "## MIXED LOGIT"
   ]
  },
  {
   "cell_type": "code",
   "execution_count": 53,
   "id": "32a9bfa9",
   "metadata": {
    "id": "32a9bfa9"
   },
   "outputs": [],
   "source": [
    "from biogeme.expressions import bioDraws\n",
    "from biogeme.expressions import MonteCarlo"
   ]
  },
  {
   "cell_type": "code",
   "execution_count": 54,
   "id": "eff9d6e5",
   "metadata": {
    "id": "eff9d6e5"
   },
   "outputs": [],
   "source": [
    "ASC_cycling = Beta('ASC_cycling', 0, None, None, 0)\n",
    "ASC_driving = Beta('ASC_driving', 0, None, None, 0)\n",
    "ASC_walking = Beta('ASC_walking', 0, None, None, 0)\n",
    "B_time_1 = Beta('B_time_1', 0, None, None, 0)\n",
    "B_time_2 = Beta('B_time_2', 0, None, None, 0)\n",
    "B_time_3 = Beta('B_time_3', 0, None, None, 0)\n",
    "B_time_4 = Beta('B_time_4', 0, None, None, 0)\n",
    "B_cost_2 = Beta('B_cost_2', 0, None, None, 0)\n",
    "B_cost_3 = Beta('B_cost_3', 0, None, None, 0)\n",
    "B_1_inter = Beta('B_1_inter', 0, None, None, 0)\n",
    "B_n_inter = Beta('B_n_inter', 0, None, None, 0)\n",
    "B_dur_inter = Beta('B_dur_inter', 0, None, None, 0)\n",
    "\n",
    "B_time_1_s = Beta('B_time_1_s', -2.202082, None, None, 0)\n",
    "B_time_2_s = Beta('B_time_2_s', -2.104149, None, None, 0)\n",
    "B_time_3_s = Beta('B_time_3_s', -1.794938, None, None, 0)\n",
    "#B_time_4_s = Beta('B_time_4_s', -4.361066, None, None, 0)\n",
    "#B_cost_2_s = Beta('B_cost_2_s', -0.151756, None, None, 0)\n",
    "#B_cost_3_s = Beta('B_cost_3_s', -0.132690, None, None, 0)\n",
    "#B_1_inter_s = Beta('B_1_inter_s', -0.445403, None, None, 0)\n",
    "#B_n_inter_s = Beta('B_n_inter_s', -0.860717, None, None, 0)\n",
    "\n",
    "B_time_1_rnd = B_time_1 + B_time_1_s*bioDraws('B_time_1_rnd', \"NORMAL\")\n",
    "B_time_2_rnd = B_time_2 + B_time_2_s*bioDraws('B_time_2_rnd', \"NORMAL\")\n",
    "B_time_3_rnd = B_time_3 + B_time_3_s*bioDraws('B_time_3_rnd', \"NORMAL\")\n",
    "#B_time_4_rnd = B_time_4 + B_time_4_s*bioDraws('B_time_4_rnd', \"NORMAL\")\n",
    "#B_cost_2_rnd = B_cost_2 + B_cost_2_s*bioDraws('B_cost_2_rnd', \"NORMAL\")\n",
    "#B_cost_3_rnd = B_cost_3 + B_cost_3_s*bioDraws('B_cost_3_rnd', \"NORMAL\")\n",
    "#B_1_inter_rnd = B_1_inter + B_1_inter_s*bioDraws('B_1_inter_rnd', \"NORMAL\")\n",
    "#B_n_inter_rnd = B_n_inter + B_n_inter_s*bioDraws('B_n_inter_rnd', \"NORMAL\")\n",
    "\n",
    "# Define the utility functions for each alternative\n",
    "V0 = ASC_cycling + B_time_1_rnd * log(dur_cycling)\n",
    "V1 = ASC_driving + B_time_2_rnd * log(dur_driving) + B_cost_2 * cost_driving_total\n",
    "V2 = B_time_3_rnd * log(dur_pt_rail + dur_pt_bus + dur_pt_access) + B_dur_inter*log((1+dur_pt_int_total)/(1+pt_n_interchanges))+ B_n_inter * (more_than_one_inter) + B_1_inter * (one_inter) + B_cost_3 * cost_transit\n",
    "V3 = ASC_walking + B_time_4 * log(dur_walking)\n",
    "\n",
    "\n",
    "V_ML = {0:V0, 1:V1, 2:V2, 3:V3}\n",
    "av_ML = {0:1, 1:1, 2:1, 3:1}\n",
    "\n"
   ]
  },
  {
   "cell_type": "code",
   "execution_count": 55,
   "id": "a474b677",
   "metadata": {
    "colab": {
     "base_uri": "https://localhost:8080/"
    },
    "id": "a474b677",
    "outputId": "4b359421-8309-40bd-986c-2ea0c96d56d3"
   },
   "outputs": [
    {
     "name": "stderr",
     "output_type": "stream",
     "text": [
      "WARNING:biogeme.biogeme:The use of argument numberOfDraws in the constructor of the BIOGEME object is deprecated and will be removed in future versions of Biogeme. Instead, define parameter number_of_draws in section MonteCarloof the .toml parameter file. The default file name is biogeme.toml\n"
     ]
    }
   ],
   "source": [
    "# Without panel data (RC)\n",
    "prob = models.logit(V_ML, av_ML, choice)\n",
    "logprob = log(MonteCarlo(prob))\n",
    "biogeme = bio.BIOGEME(database, logprob, numberOfDraws=20)\n",
    "biogeme.modelName='Model_ML'\n",
    "results_ML = biogeme.estimate()"
   ]
  },
  {
   "cell_type": "code",
   "execution_count": 56,
   "id": "8df6162f",
   "metadata": {
    "colab": {
     "base_uri": "https://localhost:8080/"
    },
    "id": "8df6162f",
    "outputId": "b590bb0a-a2a5-45cb-af91-b0dc6f2a7256"
   },
   "outputs": [
    {
     "name": "stdout",
     "output_type": "stream",
     "text": [
      "                Value  Rob. Std err  Rob. t-test  Rob. p-value\n",
      "ASC_cycling -3.965712      0.048247   -82.195572  0.000000e+00\n",
      "ASC_driving -1.297262      0.034104   -38.038096  0.000000e+00\n",
      "ASC_walking -1.824104      0.036399   -50.113810  0.000000e+00\n",
      "B_1_inter   -1.720694      0.181202    -9.495996  0.000000e+00\n",
      "B_cost_2    -0.151163      0.003893   -38.833902  0.000000e+00\n",
      "B_cost_3    -0.132635      0.006942   -19.105712  0.000000e+00\n",
      "B_dur_inter -2.196034      0.309641    -7.092202  1.320055e-12\n",
      "B_n_inter   -2.855967      0.282929   -10.094282  0.000000e+00\n",
      "B_time_1    -2.196787      0.032475   -67.646291  0.000000e+00\n",
      "B_time_1_s  -0.072809      0.049067    -1.483866  1.378445e-01\n",
      "B_time_2    -2.106835      0.025899   -81.348617  0.000000e+00\n",
      "B_time_2_s   0.051052      0.029934     1.705509  8.809947e-02\n",
      "B_time_3    -1.796568      0.029211   -61.502740  0.000000e+00\n",
      "B_time_3_s   0.027551      0.026588     1.036233  3.000934e-01\n",
      "B_time_4    -4.365108      0.032522  -134.218885  0.000000e+00\n",
      "-----------------------------------\n",
      "Final Loglikelihood: -68602.3109631844\n"
     ]
    }
   ],
   "source": [
    "pandasResultsML = results_ML.getEstimatedParameters()\n",
    "print(pandasResultsML)\n",
    "print('-----------------------------------')\n",
    "final_LL_ML = results_ML.data.logLike\n",
    "print(f'Final Loglikelihood: {final_LL_ML}')"
   ]
  }
 ],
 "metadata": {
  "colab": {
   "provenance": []
  },
  "kernelspec": {
   "display_name": "Python 3 (ipykernel)",
   "language": "python",
   "name": "python3"
  },
  "language_info": {
   "codemirror_mode": {
    "name": "ipython",
    "version": 3
   },
   "file_extension": ".py",
   "mimetype": "text/x-python",
   "name": "python",
   "nbconvert_exporter": "python",
   "pygments_lexer": "ipython3",
   "version": "3.9.12"
  }
 },
 "nbformat": 4,
 "nbformat_minor": 5
}
