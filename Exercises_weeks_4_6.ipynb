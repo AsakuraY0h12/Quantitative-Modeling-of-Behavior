{
 "cells": [
  {
   "attachments": {},
   "cell_type": "markdown",
   "metadata": {},
   "source": [
    "## Packages"
   ]
  },
  {
   "cell_type": "code",
   "execution_count": 53,
   "metadata": {},
   "outputs": [
    {
     "name": "stderr",
     "output_type": "stream",
     "text": [
      "d:\\Program Files (x86)\\Anaconda3\\lib\\site-packages\\statsmodels\\tools\\_testing.py:19: FutureWarning: pandas.util.testing is deprecated. Use the functions in the public API at pandas.testing instead.\n",
      "  import pandas.util.testing as tm\n"
     ]
    }
   ],
   "source": [
    "import pandas as pd\n",
    "import numpy as np\n",
    "import biogeme.database as db  \n",
    "import biogeme.biogeme as bio\n",
    "from biogeme import models\n",
    "from biogeme.expressions import Beta, Variable, log, Derive\n",
    "import biogeme.results as res \n",
    "from biogeme import models, tools\n",
    "import matplotlib.pyplot as plt\n",
    "import seaborn as sns"
   ]
  },
  {
   "attachments": {},
   "cell_type": "markdown",
   "metadata": {},
   "source": [
    "## Data formatting"
   ]
  },
  {
   "cell_type": "code",
   "execution_count": 81,
   "metadata": {},
   "outputs": [],
   "source": [
    "# Read the data\n",
    "df = pd.read_csv('dataset.csv')"
   ]
  },
  {
   "cell_type": "code",
   "execution_count": 82,
   "metadata": {},
   "outputs": [
    {
     "data": {
      "text/plain": [
       "drive    35808\n",
       "pt       28605\n",
       "walk     14268\n",
       "cycle     2405\n",
       "Name: travel_mode, dtype: int64"
      ]
     },
     "execution_count": 82,
     "metadata": {},
     "output_type": "execute_result"
    }
   ],
   "source": [
    "df['travel_mode'].value_counts()"
   ]
  },
  {
   "cell_type": "code",
   "execution_count": 83,
   "metadata": {},
   "outputs": [],
   "source": [
    "df['choice'] = df['travel_mode'].astype('category').cat.codes\n",
    "\n",
    "for elem in set(df[\"purpose\"]):\n",
    "    df[elem] = np.where(df[\"purpose\"]==elem,1,0)\n",
    "\n",
    "for elem in set(df[\"fueltype\"]):\n",
    "    df[elem] = np.where(df[\"fueltype\"]==elem,1,0)\n",
    "\n",
    "for elem in set(df[\"faretype\"]):\n",
    "    df[elem] = np.where(df[\"faretype\"]==elem,1,0)\n",
    "\n",
    "df.drop('faretype',inplace=True,axis=1)\n",
    "df.drop('purpose',inplace=True,axis=1)\n",
    "df.drop('fueltype',inplace=True,axis=1)\n",
    "df.drop('travel_mode',inplace=True,axis=1)"
   ]
  },
  {
   "cell_type": "code",
   "execution_count": 84,
   "metadata": {},
   "outputs": [
    {
     "data": {
      "text/plain": [
       "1    35808\n",
       "2    28605\n",
       "3    14268\n",
       "0     2405\n",
       "Name: choice, dtype: int64"
      ]
     },
     "execution_count": 84,
     "metadata": {},
     "output_type": "execute_result"
    }
   ],
   "source": [
    "df['choice'].value_counts()"
   ]
  },
  {
   "cell_type": "code",
   "execution_count": 85,
   "metadata": {},
   "outputs": [],
   "source": [
    "# Specify the intervals for the trunks\n",
    "bins = [5, 15, 30, 50, 99]\n",
    "\n",
    "# Divide the ages into the specified trunks\n",
    "trunks = pd.cut(df['age'], bins)\n",
    "\n",
    "# Add the trunks as a new column to the dataframe\n",
    "df['age_trunks'] = trunks\n",
    "\n",
    "\n",
    "for elem in set(df[\"age_trunks\"]):\n",
    "  df[elem] = np.where(df[\"age_trunks\"]== elem,1,0)"
   ]
  },
  {
   "cell_type": "code",
   "execution_count": 86,
   "metadata": {},
   "outputs": [],
   "source": [
    "df.drop('age', inplace = True, axis = 1)\n",
    "df.drop('age_trunks', inplace = True, axis = 1)"
   ]
  },
  {
   "cell_type": "code",
   "execution_count": 92,
   "metadata": {},
   "outputs": [
    {
     "data": {
      "text/plain": [
       "'age3'"
      ]
     },
     "execution_count": 92,
     "metadata": {},
     "output_type": "execute_result"
    }
   ],
   "source": [
    "df.columns.values[49]"
   ]
  },
  {
   "cell_type": "code",
   "execution_count": 91,
   "metadata": {},
   "outputs": [],
   "source": [
    "#age category \n",
    "df.columns.values[49] = 'age3'\n",
    "df.columns.values[50] = 'age2'\n",
    "df.columns.values[51] = 'age1'\n",
    "df.columns.values[52] = 'age4'"
   ]
  },
  {
   "cell_type": "code",
   "execution_count": 93,
   "metadata": {},
   "outputs": [],
   "source": [
    "database = db.Database('dataset', df)\n",
    "globals().update(database.variables)"
   ]
  },
  {
   "cell_type": "code",
   "execution_count": 94,
   "metadata": {},
   "outputs": [
    {
     "data": {
      "text/html": [
       "<div>\n",
       "<style scoped>\n",
       "    .dataframe tbody tr th:only-of-type {\n",
       "        vertical-align: middle;\n",
       "    }\n",
       "\n",
       "    .dataframe tbody tr th {\n",
       "        vertical-align: top;\n",
       "    }\n",
       "\n",
       "    .dataframe thead th {\n",
       "        text-align: right;\n",
       "    }\n",
       "</style>\n",
       "<table border=\"1\" class=\"dataframe\">\n",
       "  <thead>\n",
       "    <tr style=\"text-align: right;\">\n",
       "      <th></th>\n",
       "      <th>trip_id</th>\n",
       "      <th>household_id</th>\n",
       "      <th>person_n</th>\n",
       "      <th>trip_n</th>\n",
       "      <th>bus_scale</th>\n",
       "      <th>survey_year</th>\n",
       "      <th>travel_year</th>\n",
       "      <th>travel_month</th>\n",
       "      <th>travel_date</th>\n",
       "      <th>day_of_week</th>\n",
       "      <th>...</th>\n",
       "      <th>full</th>\n",
       "      <th>16+</th>\n",
       "      <th>child</th>\n",
       "      <th>dis</th>\n",
       "      <th>free</th>\n",
       "      <th>NaN</th>\n",
       "      <th>age3</th>\n",
       "      <th>age2</th>\n",
       "      <th>age1</th>\n",
       "      <th>age4</th>\n",
       "    </tr>\n",
       "  </thead>\n",
       "  <tbody>\n",
       "    <tr>\n",
       "      <th>0</th>\n",
       "      <td>0</td>\n",
       "      <td>0</td>\n",
       "      <td>0</td>\n",
       "      <td>0</td>\n",
       "      <td>1.0</td>\n",
       "      <td>1</td>\n",
       "      <td>2012</td>\n",
       "      <td>4</td>\n",
       "      <td>1</td>\n",
       "      <td>7</td>\n",
       "      <td>...</td>\n",
       "      <td>1</td>\n",
       "      <td>0</td>\n",
       "      <td>0</td>\n",
       "      <td>0</td>\n",
       "      <td>0</td>\n",
       "      <td>0</td>\n",
       "      <td>0</td>\n",
       "      <td>0</td>\n",
       "      <td>0</td>\n",
       "      <td>1</td>\n",
       "    </tr>\n",
       "    <tr>\n",
       "      <th>1</th>\n",
       "      <td>1</td>\n",
       "      <td>0</td>\n",
       "      <td>0</td>\n",
       "      <td>1</td>\n",
       "      <td>1.0</td>\n",
       "      <td>1</td>\n",
       "      <td>2012</td>\n",
       "      <td>4</td>\n",
       "      <td>1</td>\n",
       "      <td>7</td>\n",
       "      <td>...</td>\n",
       "      <td>1</td>\n",
       "      <td>0</td>\n",
       "      <td>0</td>\n",
       "      <td>0</td>\n",
       "      <td>0</td>\n",
       "      <td>0</td>\n",
       "      <td>0</td>\n",
       "      <td>0</td>\n",
       "      <td>0</td>\n",
       "      <td>1</td>\n",
       "    </tr>\n",
       "    <tr>\n",
       "      <th>2</th>\n",
       "      <td>2</td>\n",
       "      <td>0</td>\n",
       "      <td>0</td>\n",
       "      <td>2</td>\n",
       "      <td>1.0</td>\n",
       "      <td>1</td>\n",
       "      <td>2012</td>\n",
       "      <td>4</td>\n",
       "      <td>1</td>\n",
       "      <td>7</td>\n",
       "      <td>...</td>\n",
       "      <td>1</td>\n",
       "      <td>0</td>\n",
       "      <td>0</td>\n",
       "      <td>0</td>\n",
       "      <td>0</td>\n",
       "      <td>0</td>\n",
       "      <td>0</td>\n",
       "      <td>0</td>\n",
       "      <td>0</td>\n",
       "      <td>1</td>\n",
       "    </tr>\n",
       "    <tr>\n",
       "      <th>3</th>\n",
       "      <td>3</td>\n",
       "      <td>0</td>\n",
       "      <td>0</td>\n",
       "      <td>3</td>\n",
       "      <td>1.0</td>\n",
       "      <td>1</td>\n",
       "      <td>2012</td>\n",
       "      <td>4</td>\n",
       "      <td>1</td>\n",
       "      <td>7</td>\n",
       "      <td>...</td>\n",
       "      <td>1</td>\n",
       "      <td>0</td>\n",
       "      <td>0</td>\n",
       "      <td>0</td>\n",
       "      <td>0</td>\n",
       "      <td>0</td>\n",
       "      <td>0</td>\n",
       "      <td>0</td>\n",
       "      <td>0</td>\n",
       "      <td>1</td>\n",
       "    </tr>\n",
       "    <tr>\n",
       "      <th>4</th>\n",
       "      <td>4</td>\n",
       "      <td>0</td>\n",
       "      <td>1</td>\n",
       "      <td>2</td>\n",
       "      <td>1.0</td>\n",
       "      <td>1</td>\n",
       "      <td>2012</td>\n",
       "      <td>4</td>\n",
       "      <td>1</td>\n",
       "      <td>7</td>\n",
       "      <td>...</td>\n",
       "      <td>0</td>\n",
       "      <td>0</td>\n",
       "      <td>0</td>\n",
       "      <td>1</td>\n",
       "      <td>0</td>\n",
       "      <td>0</td>\n",
       "      <td>0</td>\n",
       "      <td>0</td>\n",
       "      <td>0</td>\n",
       "      <td>1</td>\n",
       "    </tr>\n",
       "    <tr>\n",
       "      <th>...</th>\n",
       "      <td>...</td>\n",
       "      <td>...</td>\n",
       "      <td>...</td>\n",
       "      <td>...</td>\n",
       "      <td>...</td>\n",
       "      <td>...</td>\n",
       "      <td>...</td>\n",
       "      <td>...</td>\n",
       "      <td>...</td>\n",
       "      <td>...</td>\n",
       "      <td>...</td>\n",
       "      <td>...</td>\n",
       "      <td>...</td>\n",
       "      <td>...</td>\n",
       "      <td>...</td>\n",
       "      <td>...</td>\n",
       "      <td>...</td>\n",
       "      <td>...</td>\n",
       "      <td>...</td>\n",
       "      <td>...</td>\n",
       "      <td>...</td>\n",
       "    </tr>\n",
       "    <tr>\n",
       "      <th>81081</th>\n",
       "      <td>81081</td>\n",
       "      <td>17615</td>\n",
       "      <td>0</td>\n",
       "      <td>0</td>\n",
       "      <td>1.0</td>\n",
       "      <td>3</td>\n",
       "      <td>2015</td>\n",
       "      <td>3</td>\n",
       "      <td>31</td>\n",
       "      <td>2</td>\n",
       "      <td>...</td>\n",
       "      <td>1</td>\n",
       "      <td>0</td>\n",
       "      <td>0</td>\n",
       "      <td>0</td>\n",
       "      <td>0</td>\n",
       "      <td>0</td>\n",
       "      <td>0</td>\n",
       "      <td>1</td>\n",
       "      <td>0</td>\n",
       "      <td>0</td>\n",
       "    </tr>\n",
       "    <tr>\n",
       "      <th>81082</th>\n",
       "      <td>81082</td>\n",
       "      <td>17615</td>\n",
       "      <td>0</td>\n",
       "      <td>2</td>\n",
       "      <td>1.0</td>\n",
       "      <td>3</td>\n",
       "      <td>2015</td>\n",
       "      <td>3</td>\n",
       "      <td>31</td>\n",
       "      <td>2</td>\n",
       "      <td>...</td>\n",
       "      <td>1</td>\n",
       "      <td>0</td>\n",
       "      <td>0</td>\n",
       "      <td>0</td>\n",
       "      <td>0</td>\n",
       "      <td>0</td>\n",
       "      <td>0</td>\n",
       "      <td>1</td>\n",
       "      <td>0</td>\n",
       "      <td>0</td>\n",
       "    </tr>\n",
       "    <tr>\n",
       "      <th>81083</th>\n",
       "      <td>81083</td>\n",
       "      <td>17615</td>\n",
       "      <td>0</td>\n",
       "      <td>3</td>\n",
       "      <td>1.0</td>\n",
       "      <td>3</td>\n",
       "      <td>2015</td>\n",
       "      <td>3</td>\n",
       "      <td>31</td>\n",
       "      <td>2</td>\n",
       "      <td>...</td>\n",
       "      <td>1</td>\n",
       "      <td>0</td>\n",
       "      <td>0</td>\n",
       "      <td>0</td>\n",
       "      <td>0</td>\n",
       "      <td>0</td>\n",
       "      <td>0</td>\n",
       "      <td>1</td>\n",
       "      <td>0</td>\n",
       "      <td>0</td>\n",
       "    </tr>\n",
       "    <tr>\n",
       "      <th>81084</th>\n",
       "      <td>81084</td>\n",
       "      <td>17615</td>\n",
       "      <td>1</td>\n",
       "      <td>0</td>\n",
       "      <td>1.0</td>\n",
       "      <td>3</td>\n",
       "      <td>2015</td>\n",
       "      <td>3</td>\n",
       "      <td>31</td>\n",
       "      <td>2</td>\n",
       "      <td>...</td>\n",
       "      <td>1</td>\n",
       "      <td>0</td>\n",
       "      <td>0</td>\n",
       "      <td>0</td>\n",
       "      <td>0</td>\n",
       "      <td>0</td>\n",
       "      <td>0</td>\n",
       "      <td>1</td>\n",
       "      <td>0</td>\n",
       "      <td>0</td>\n",
       "    </tr>\n",
       "    <tr>\n",
       "      <th>81085</th>\n",
       "      <td>81085</td>\n",
       "      <td>17615</td>\n",
       "      <td>1</td>\n",
       "      <td>1</td>\n",
       "      <td>1.0</td>\n",
       "      <td>3</td>\n",
       "      <td>2015</td>\n",
       "      <td>3</td>\n",
       "      <td>31</td>\n",
       "      <td>2</td>\n",
       "      <td>...</td>\n",
       "      <td>1</td>\n",
       "      <td>0</td>\n",
       "      <td>0</td>\n",
       "      <td>0</td>\n",
       "      <td>0</td>\n",
       "      <td>0</td>\n",
       "      <td>0</td>\n",
       "      <td>1</td>\n",
       "      <td>0</td>\n",
       "      <td>0</td>\n",
       "    </tr>\n",
       "  </tbody>\n",
       "</table>\n",
       "<p>81086 rows × 53 columns</p>\n",
       "</div>"
      ],
      "text/plain": [
       "       trip_id  household_id  person_n  trip_n  bus_scale  survey_year  \\\n",
       "0            0             0         0       0        1.0            1   \n",
       "1            1             0         0       1        1.0            1   \n",
       "2            2             0         0       2        1.0            1   \n",
       "3            3             0         0       3        1.0            1   \n",
       "4            4             0         1       2        1.0            1   \n",
       "...        ...           ...       ...     ...        ...          ...   \n",
       "81081    81081         17615         0       0        1.0            3   \n",
       "81082    81082         17615         0       2        1.0            3   \n",
       "81083    81083         17615         0       3        1.0            3   \n",
       "81084    81084         17615         1       0        1.0            3   \n",
       "81085    81085         17615         1       1        1.0            3   \n",
       "\n",
       "       travel_year  travel_month  travel_date  day_of_week  ...  full  16+  \\\n",
       "0             2012             4            1            7  ...     1    0   \n",
       "1             2012             4            1            7  ...     1    0   \n",
       "2             2012             4            1            7  ...     1    0   \n",
       "3             2012             4            1            7  ...     1    0   \n",
       "4             2012             4            1            7  ...     0    0   \n",
       "...            ...           ...          ...          ...  ...   ...  ...   \n",
       "81081         2015             3           31            2  ...     1    0   \n",
       "81082         2015             3           31            2  ...     1    0   \n",
       "81083         2015             3           31            2  ...     1    0   \n",
       "81084         2015             3           31            2  ...     1    0   \n",
       "81085         2015             3           31            2  ...     1    0   \n",
       "\n",
       "       child  dis  free  NaN  age3  age2  age1  age4  \n",
       "0          0    0     0    0     0     0     0     1  \n",
       "1          0    0     0    0     0     0     0     1  \n",
       "2          0    0     0    0     0     0     0     1  \n",
       "3          0    0     0    0     0     0     0     1  \n",
       "4          0    1     0    0     0     0     0     1  \n",
       "...      ...  ...   ...  ...   ...   ...   ...   ...  \n",
       "81081      0    0     0    0     0     1     0     0  \n",
       "81082      0    0     0    0     0     1     0     0  \n",
       "81083      0    0     0    0     0     1     0     0  \n",
       "81084      0    0     0    0     0     1     0     0  \n",
       "81085      0    0     0    0     0     1     0     0  \n",
       "\n",
       "[81086 rows x 53 columns]"
      ]
     },
     "execution_count": 94,
     "metadata": {},
     "output_type": "execute_result"
    }
   ],
   "source": [
    "df"
   ]
  },
  {
   "attachments": {},
   "cell_type": "markdown",
   "metadata": {},
   "source": [
    "# Question 1"
   ]
  },
  {
   "cell_type": "code",
   "execution_count": 14,
   "metadata": {},
   "outputs": [],
   "source": [
    "ASC_cycling = Beta('ASC_cycling',0,None,None,0)\n",
    "ASC_driving = Beta('ASC_driving',0,None,None,0)\n",
    "ASC_pt = Beta('ASC_pt',0,None,None,0)\n",
    "B_time_1 = Beta('B_time_1',0,None,None,0)\n",
    "B_time_2 = Beta('B_time_2',0,None,None,0)\n",
    "B_time_3 = Beta('B_time_3',0,None,None,0)\n",
    "B_time_4 = Beta('B_time_4',0,None,None,0)\n",
    "B_cost = Beta('B_cost',0,None,None,0)\n",
    "\n",
    "V0 = ASC_cycling + B_time_1 * dur_cycling\n",
    "V1 = ASC_driving + B_time_2 * dur_driving + B_cost * cost_driving_total\n",
    "V2 = ASC_pt + B_time_3 * dur_pt_total + B_cost * cost_transit\n",
    "V3 = B_time_4 * dur_walking\n",
    "\n",
    "V_1 = {0:V0, 1:V1, 2:V2, 3:V3}\n",
    "av_1 = {0:1, 1:1, 2:1, 3:1}"
   ]
  },
  {
   "cell_type": "code",
   "execution_count": 15,
   "metadata": {},
   "outputs": [
    {
     "name": "stdout",
     "output_type": "stream",
     "text": [
      "[15:07:14] < Warning >   Cannot read file __Question 1.iter. Statement is ignored.\n"
     ]
    }
   ],
   "source": [
    "logprob = models.loglogit(V_1,av_1,choice)\n",
    "biogeme = bio.BIOGEME (database, logprob)\n",
    "biogeme.modelName='Question 1'\n",
    "results_1 = biogeme.estimate()"
   ]
  },
  {
   "cell_type": "code",
   "execution_count": 16,
   "metadata": {},
   "outputs": [
    {
     "name": "stdout",
     "output_type": "stream",
     "text": [
      "                Value  Rob. Std err  Rob. t-test  Rob. p-value\n",
      "ASC_cycling -4.691636      0.049210   -95.339155           0.0\n",
      "ASC_driving -1.936221      0.033651   -57.539003           0.0\n",
      "ASC_pt      -2.376346      0.034034   -69.821689           0.0\n",
      "B_cost      -0.156509      0.003742   -41.822717           0.0\n",
      "B_time_1    -5.371903      0.116441   -46.134123           0.0\n",
      "B_time_2    -6.130450      0.093605   -65.492976           0.0\n",
      "B_time_3    -3.287758      0.060483   -54.358031           0.0\n",
      "B_time_4    -8.263970      0.102300   -80.782034           0.0\n",
      "-----------------------------------\n",
      "Final Loglikelihood: -69855.2816822978\n"
     ]
    }
   ],
   "source": [
    "# Print the estimated values\n",
    "# betas = results_1.getBetaValues()\n",
    "# for k,v in betas.items():\n",
    "#     print(f\"{k:10}=\\t{v:.3g}\")\n",
    "\n",
    "# Get the results in a pandas table\n",
    "pandasResults = results_1.getEstimatedParameters()\n",
    "print(pandasResults)\n",
    "print('-----------------------------------')\n",
    "final_LL_1 = results_1.data.logLike\n",
    "print(f'Final Loglikelihood: {final_LL_1}')"
   ]
  },
  {
   "attachments": {},
   "cell_type": "markdown",
   "metadata": {},
   "source": [
    "# Question 2"
   ]
  },
  {
   "cell_type": "code",
   "execution_count": 17,
   "metadata": {},
   "outputs": [],
   "source": [
    "dur_cyc_mean = np.mean(database.data[\"dur_cycling\"])\n",
    "dur_driving_mean = np.mean(database.data[\"dur_driving\"])\n",
    "dur_walking_mean = np.mean(database.data[\"dur_walking\"])\n",
    "dur_pt_total_mean = np.mean(database.data[\"dur_pt_total\"])\n",
    "cost_driving_total_mean = np.mean(database.data[\"cost_driving_total\"])\n",
    "cost_transit_mean = np.mean(database.data[\"cost_transit\"])"
   ]
  },
  {
   "cell_type": "code",
   "execution_count": 18,
   "metadata": {},
   "outputs": [
    {
     "name": "stdout",
     "output_type": "stream",
     "text": [
      "Market share for car: 0.5267201770332014\n"
     ]
    }
   ],
   "source": [
    "ASC_cycling=\t-4.69\n",
    "ASC_driving=\t-1.94\n",
    "ASC_pt    =\t-2.38\n",
    "B_cost    =\t-0.157\n",
    "B_time_1  =\t-5.37\n",
    "B_time_2  =\t-6.13\n",
    "B_time_3  =\t-3.29\n",
    "B_time_4  =\t-8.26\n",
    "\n",
    "V0 = ASC_cycling + B_time_1 * dur_cyc_mean\n",
    "V1 = ASC_driving + B_time_2 * dur_driving_mean + B_cost * cost_driving_total_mean\n",
    "V2 = ASC_pt + B_time_3 * dur_pt_total_mean + B_cost * cost_transit_mean\n",
    "V3 = B_time_4 * dur_walking_mean\n",
    "\n",
    "P_car=np.exp(V1)/(np.exp(V1)+np.exp(V2)+np.exp(V3)+np.exp(V0))\n",
    "print(f'Market share for car: {P_car}')"
   ]
  },
  {
   "cell_type": "code",
   "execution_count": 19,
   "metadata": {},
   "outputs": [
    {
     "name": "stdout",
     "output_type": "stream",
     "text": [
      "Observed market share for car: 0.4416052092839701\n"
     ]
    }
   ],
   "source": [
    "obs = df[df['choice'] == 1]['choice'].count() / df['choice'].count()\n",
    "print(f'Observed market share for car: {obs}')"
   ]
  },
  {
   "attachments": {},
   "cell_type": "markdown",
   "metadata": {},
   "source": [
    "Difference is due to aggregation bias"
   ]
  },
  {
   "attachments": {},
   "cell_type": "markdown",
   "metadata": {},
   "source": [
    "# Question 3"
   ]
  },
  {
   "cell_type": "code",
   "execution_count": 20,
   "metadata": {},
   "outputs": [],
   "source": [
    "B_time = Beta('B_time',0,None,None,0)\n",
    "\n",
    "ASC_cycling = Beta('ASC_cycling',0,None,None,0)\n",
    "ASC_driving = Beta('ASC_driving',0,None,None,0)\n",
    "ASC_pt = Beta('ASC_pt',0,None,None,0)\n",
    "B_cost = Beta('B_cost',0,None,None,0)\n",
    "\n",
    "V0 = ASC_cycling + B_time * dur_cycling\n",
    "V1 = ASC_driving + B_time * dur_driving + B_cost * cost_driving_total\n",
    "V2 = ASC_pt + B_time * dur_pt_total + B_cost * cost_transit\n",
    "V3 = B_time * dur_walking\n",
    "\n",
    "V_3 = {0:V0, 1:V1, 2:V2, 3:V3}\n",
    "av_3 = {0:1, 1:1, 2:1, 3:1}"
   ]
  },
  {
   "cell_type": "code",
   "execution_count": 21,
   "metadata": {},
   "outputs": [
    {
     "name": "stdout",
     "output_type": "stream",
     "text": [
      "[15:07:27] < Warning >   Cannot read file __Question 3.iter. Statement is ignored.\n"
     ]
    }
   ],
   "source": [
    "logprob = models.loglogit(V_3,av_3,choice)\n",
    "biogeme = bio.BIOGEME (database, logprob)\n",
    "biogeme.modelName='Question 3'\n",
    "results_3 = biogeme.estimate()"
   ]
  },
  {
   "cell_type": "code",
   "execution_count": 22,
   "metadata": {},
   "outputs": [
    {
     "name": "stdout",
     "output_type": "stream",
     "text": [
      "                Value  Rob. Std err  Rob. t-test  Rob. p-value\n",
      "ASC_cycling -3.798182      0.026404  -143.847213           0.0\n",
      "ASC_driving -1.223659      0.019711   -62.080778           0.0\n",
      "ASC_pt      -0.501474      0.013372   -37.501166           0.0\n",
      "B_cost      -0.171316      0.003359   -51.000954           0.0\n",
      "B_time      -5.311199      0.049513  -107.269809           0.0\n",
      "-----------------------------------\n",
      "Final Loglikelihood: -74975.45789551054\n"
     ]
    }
   ],
   "source": [
    "# Get the results in a pandas table\n",
    "pandasResults = results_3.getEstimatedParameters()\n",
    "print(pandasResults)\n",
    "print('-----------------------------------')\n",
    "final_LL_3 = results_3.data.logLike\n",
    "print(f'Final Loglikelihood: {final_LL_3}')"
   ]
  },
  {
   "attachments": {},
   "cell_type": "markdown",
   "metadata": {},
   "source": [
    "# Question 4"
   ]
  },
  {
   "attachments": {},
   "cell_type": "markdown",
   "metadata": {},
   "source": [
    "### Model Q1 (different B_time)"
   ]
  },
  {
   "cell_type": "code",
   "execution_count": 23,
   "metadata": {},
   "outputs": [],
   "source": [
    "prob1_0 = models.logit(V_1,av_1,0)\n",
    "prob1_1 = models.logit(V_1,av_1,1)\n",
    "prob1_2 = models.logit(V_1,av_1,2)\n",
    "prob1_3 = models.logit(V_1,av_1,3)\n",
    "\n",
    "simulate_4_1 = {'Prob. 0': prob1_0,\n",
    "            'Prob. 1': prob1_1,\n",
    "            'Prob. 2': prob1_2,\n",
    "            'Prob. 3': prob1_3}"
   ]
  },
  {
   "cell_type": "code",
   "execution_count": 24,
   "metadata": {},
   "outputs": [],
   "source": [
    "biogeme = bio.BIOGEME (database, simulate_4_1)\n",
    "biogeme.modelName='Question 1'\n",
    "\n",
    "# Read the estimation results from the file\n",
    "results_4_1 = res.bioResults(pickleFile='Question 1.pickle')\n",
    "betaValues = results_4_1.getBetaValues()\n",
    "sol_4_1 = biogeme.simulate(betaValues)"
   ]
  },
  {
   "cell_type": "code",
   "execution_count": 25,
   "metadata": {},
   "outputs": [
    {
     "name": "stdout",
     "output_type": "stream",
     "text": [
      "            Prob. 0       Prob. 1       Prob. 2       Prob. 3\n",
      "count  8.108600e+04  81086.000000  81086.000000  8.108600e+04\n",
      "mean   2.965961e-02      0.441605      0.352773  1.759621e-01\n",
      "std    1.575301e-02      0.211137      0.230425  2.275397e-01\n",
      "min    6.124956e-07      0.000095      0.001490  1.671864e-29\n",
      "25%    1.914114e-02      0.283292      0.191897  1.715852e-04\n",
      "50%    2.858984e-02      0.466205      0.280373  3.947850e-02\n",
      "75%    3.773860e-02      0.601589      0.418379  3.323864e-01\n",
      "max    1.973816e-01      0.994742      0.999711  8.864650e-01\n",
      "-----------------------------------------\n",
      "Average market share of driving: 0.44160492609046365\n"
     ]
    }
   ],
   "source": [
    "print(sol_4_1.describe())\n",
    "print('-----------------------------------------')\n",
    "\n",
    "# example for market share value extraction\n",
    "marketShare_1 = sol_4_1['Prob. 1'].mean()\n",
    "print(f'Average market share of driving: {marketShare_1}')"
   ]
  },
  {
   "attachments": {},
   "cell_type": "markdown",
   "metadata": {},
   "source": [
    "### Model Q3 (same B_time)"
   ]
  },
  {
   "cell_type": "code",
   "execution_count": 26,
   "metadata": {},
   "outputs": [],
   "source": [
    "prob3_0 = models.logit(V_3,av_3,0)\n",
    "prob3_1 = models.logit(V_3,av_3,1)\n",
    "prob3_2 = models.logit(V_3,av_3,2)\n",
    "prob3_3 = models.logit(V_3,av_3,3)\n",
    "\n",
    "simulate_4_3 = {'Prob. 0': prob3_0,\n",
    "            'Prob. 1': prob3_1,\n",
    "            'Prob. 2': prob3_2,\n",
    "            'Prob. 3': prob3_3}"
   ]
  },
  {
   "cell_type": "code",
   "execution_count": 27,
   "metadata": {},
   "outputs": [],
   "source": [
    "biogeme = bio.BIOGEME (database, simulate_4_3)\n",
    "biogeme.modelName='Question 3'\n",
    "\n",
    "# Read the estimation results from the file\n",
    "results_4_3 = res.bioResults(pickleFile='Question 3.pickle')\n",
    "betaValues = results_4_3.getBetaValues()\n",
    "sol_4_3 = biogeme.simulate(betaValues)"
   ]
  },
  {
   "cell_type": "code",
   "execution_count": 28,
   "metadata": {},
   "outputs": [
    {
     "name": "stdout",
     "output_type": "stream",
     "text": [
      "            Prob. 0       Prob. 1       Prob. 2       Prob. 3\n",
      "count  81086.000000  81086.000000  81086.000000  8.108600e+04\n",
      "mean       0.029660      0.441605      0.352774  1.759615e-01\n",
      "std        0.017087      0.228523      0.190998  1.745902e-01\n",
      "min        0.000002      0.001573      0.000031  5.990949e-18\n",
      "25%        0.019862      0.270688      0.245378  6.525900e-03\n",
      "50%        0.026543      0.405538      0.315316  1.192431e-01\n",
      "75%        0.035640      0.605152      0.408967  3.311255e-01\n",
      "max        0.397825      0.999723      0.997895  6.892725e-01\n",
      "-----------------------------------------\n",
      "Average market share of driving: 0.4416050861785839\n"
     ]
    }
   ],
   "source": [
    "print(sol_4_3.describe())\n",
    "print('-----------------------------------------')\n",
    "\n",
    "# example for market share value extraction\n",
    "marketShare_3 = sol_4_3['Prob. 1'].mean()\n",
    "print(f'Average market share of driving: {marketShare_3}')"
   ]
  },
  {
   "attachments": {},
   "cell_type": "markdown",
   "metadata": {},
   "source": [
    "# Question 5"
   ]
  },
  {
   "cell_type": "code",
   "execution_count": 29,
   "metadata": {},
   "outputs": [
    {
     "name": "stdout",
     "output_type": "stream",
     "text": [
      "LRTuple(message='H0 can be rejected at level 5.0%', statistic=10240.352426425467, threshold=7.814727903251179)\n",
      "10240.352426425467\n"
     ]
    }
   ],
   "source": [
    "chi = -2*(final_LL_3-final_LL_1)\n",
    "\n",
    "a = tools.likelihood_ratio_test((final_LL_3,5), (final_LL_1,8), significance_level=0.05)\n",
    "\n",
    "print(a)\n",
    "print(chi)"
   ]
  },
  {
   "attachments": {},
   "cell_type": "markdown",
   "metadata": {},
   "source": [
    "Chisquare = 10240 for a variable difference of 3 (threshold at 7.815). With this result we can reject the hypothesis that  that the simple model (2) is equally good at explaining the data as the larger (1) model so we prefer the larger model "
   ]
  },
  {
   "attachments": {},
   "cell_type": "markdown",
   "metadata": {},
   "source": [
    "# Question 6"
   ]
  },
  {
   "cell_type": "code",
   "execution_count": 95,
   "metadata": {},
   "outputs": [],
   "source": [
    "B_time_1 = Beta('B_time_1',0,None,None,0)\n",
    "B_time_2 = Beta('B_time_2',0,None,None,0)\n",
    "B_time_3 = Beta('B_time_3',0,None,None,0)\n",
    "B_time_4 = Beta('B_time_4',0,None,None,0)\n",
    "\n",
    "ASC_cycling = Beta('ASC_cycling',0,None,None,0)\n",
    "ASC_driving = Beta('ASC_driving',0,None,None,0)\n",
    "ASC_pt = Beta('ASC_pt',0,None,None,0)\n",
    "B_cost = Beta('B_cost',0,None,None,0)\n",
    "B_age1_cycling = Beta('B_age1_cycling',0,None, None, 0)\n",
    "B_age2_cycling = Beta('B_age2_cycling',0,None, None, 0)\n",
    "B_age4_cycling = Beta('B_age4_cycling',0,None, None, 0)\n",
    "\n",
    "\n",
    "B_age1_pt = Beta('B_age1_pt',0,None, None, 0)\n",
    "B_age2_pt = Beta('B_age2_pt',0,None, None, 0)\n",
    "B_age4_pt = Beta('B_age4_pt',0,None, None, 0)\n",
    "\n",
    "\n",
    "B_age1_walk = Beta('B_age1_walk',0,None, None, 0)\n",
    "B_age2_walk = Beta('B_age2_walk',0,None, None, 0)\n",
    "B_age4_walk = Beta('B_age4_walk',0,None, None, 0)\n",
    "\n",
    "V0 = ASC_cycling + B_time_1 * dur_cycling + B_age1_cycling * age1 + B_age2_cycling * age2  + B_age4_cycling * age4\n",
    "V1 = ASC_driving + B_time_2 * dur_driving + B_cost * cost_driving_total\n",
    "V2 = ASC_pt + B_time_3 * dur_pt_total + B_cost * cost_transit + B_age1_pt * age1 + B_age2_pt * age2  + B_age4_pt * age4\n",
    "V3 = B_time_4 * dur_walking + B_age1_walk * age1 + B_age2_walk * age2  + B_age4_walk * age4\n",
    "\n",
    "V_6 = {0:V0, 1:V1, 2:V2, 3:V3}\n",
    "av_6 = {0:1, 1:1, 2:1, 3:1}"
   ]
  },
  {
   "cell_type": "code",
   "execution_count": 96,
   "metadata": {},
   "outputs": [
    {
     "name": "stdout",
     "output_type": "stream",
     "text": [
      "[16:34:28] < Warning >   Cannot read file __Question 6.iter. Statement is ignored.\n"
     ]
    }
   ],
   "source": [
    "logprob = models.loglogit(V_6,av_6,choice)\n",
    "biogeme = bio.BIOGEME (database, logprob)\n",
    "biogeme.modelName='Question 6'\n",
    "results_6 = biogeme.estimate()"
   ]
  },
  {
   "cell_type": "code",
   "execution_count": 97,
   "metadata": {},
   "outputs": [
    {
     "name": "stdout",
     "output_type": "stream",
     "text": [
      "                   Value  Rob. Std err  Rob. t-test  Rob. p-value\n",
      "ASC_cycling    -4.484945      0.055625   -80.628523  0.000000e+00\n",
      "ASC_driving    -1.910786      0.037194   -51.372811  0.000000e+00\n",
      "ASC_pt         -2.504322      0.037997   -65.908395  0.000000e+00\n",
      "B_age1_cycling -0.644767      0.085560    -7.535841  4.862777e-14\n",
      "B_age1_pt       0.124363      0.030860     4.029948  5.578929e-05\n",
      "B_age1_walk     0.062272      0.036654     1.698914  8.933540e-02\n",
      "B_age2_cycling  0.530066      0.052706    10.057114  0.000000e+00\n",
      "B_age2_pt       0.929337      0.024416    38.061965  0.000000e+00\n",
      "B_age2_walk     0.972269      0.034607    28.094559  0.000000e+00\n",
      "B_age4_cycling -0.557837      0.056350    -9.899575  0.000000e+00\n",
      "B_age4_pt      -0.019076      0.022320    -0.854651  3.927443e-01\n",
      "B_age4_walk    -0.319215      0.029185   -10.937632  0.000000e+00\n",
      "B_cost         -0.159167      0.003925   -40.551812  0.000000e+00\n",
      "B_time_1       -5.532291      0.118967   -46.502699  0.000000e+00\n",
      "B_time_2       -5.977882      0.094454   -63.288880  0.000000e+00\n",
      "B_time_3       -3.303839      0.060834   -54.309515  0.000000e+00\n",
      "B_time_4       -8.385558      0.104787   -80.024991  0.000000e+00\n",
      "-----------------------------------\n",
      "Final Loglikelihood: -68560.97694705817\n"
     ]
    }
   ],
   "source": [
    "# Get the results in a pandas table\n",
    "pandasResults = results_6.getEstimatedParameters()\n",
    "print(pandasResults)\n",
    "print('-----------------------------------')\n",
    "final_LL_6 = results_6.data.logLike\n",
    "print(f'Final Loglikelihood: {final_LL_6}')"
   ]
  },
  {
   "attachments": {},
   "cell_type": "markdown",
   "metadata": {},
   "source": [
    "The final LL is -68560.97, and B_age4_cycling = -0.557837.  This mean that the oldest individuals (from 50 to 99 years old) prefer car over bike, compared to group 3."
   ]
  },
  {
   "attachments": {},
   "cell_type": "markdown",
   "metadata": {},
   "source": [
    "# Question 7"
   ]
  },
  {
   "cell_type": "code",
   "execution_count": 98,
   "metadata": {},
   "outputs": [
    {
     "name": "stdout",
     "output_type": "stream",
     "text": [
      "2588.6094704792777\n",
      "LRTuple(message='H0 can be rejected at level 5.0%', statistic=2588.6094704792777, threshold=16.918977604620448)\n"
     ]
    }
   ],
   "source": [
    "Test2 = -2*(final_LL_1 -final_LL_6)\n",
    "print(Test2)\n",
    "\n",
    "a = tools.likelihood_ratio_test((final_LL_1,8), (final_LL_6,17), significance_level=0.05)\n",
    "\n",
    "print(a)"
   ]
  },
  {
   "attachments": {},
   "cell_type": "markdown",
   "metadata": {},
   "source": [
    "The likelihood ratio test give a chi square of 2588 for 9 variables difference (the threshold is 16.919). With this result we can reject the hypothesis that that the simple model (Q1) is equally good at explaining the data as the larger model (Q6) so we prefer the larger model. Indeed, it illustrates that the age parameter is determinant in choosing the transport modes."
   ]
  },
  {
   "attachments": {},
   "cell_type": "markdown",
   "metadata": {},
   "source": [
    "# Question 8"
   ]
  },
  {
   "attachments": {},
   "cell_type": "markdown",
   "metadata": {},
   "source": [
    "No coding, see report (+ Antoine's written pdf file)"
   ]
  },
  {
   "attachments": {},
   "cell_type": "markdown",
   "metadata": {},
   "source": [
    "# Question 9"
   ]
  },
  {
   "attachments": {},
   "cell_type": "markdown",
   "metadata": {},
   "source": [
    "### Function 1 (linear utilities)"
   ]
  },
  {
   "cell_type": "code",
   "execution_count": 34,
   "metadata": {},
   "outputs": [],
   "source": [
    "b_0_cycling = Beta('b_0_cycling',0,None,None,0)\n",
    "b_0_driving = Beta('b_0_driving',0,None,None,0)\n",
    "b_0_pt = Beta('b_0_pt',0,None,None,0)\n",
    "\n",
    "b_2 = Beta('b_2',0,None,None,0)\n",
    "b_3 = Beta('b_3',0,None,None,0)\n",
    "\n",
    "V0 = b_0_cycling + b_3 * dur_cycling \n",
    "V1 = b_0_driving + b_3 * dur_driving  + b_2 * cost_driving_total\n",
    "V2 = b_0_pt + b_3 * dur_pt_total + b_2 * cost_transit\n",
    "V3 = b_3 * dur_walking\n",
    "\n",
    "V_9_1 = {0:V0, 1:V1, 2:V2, 3:V3}\n",
    "av_9_1 = {0:1, 1:1, 2:1, 3:1}"
   ]
  },
  {
   "cell_type": "code",
   "execution_count": 35,
   "metadata": {},
   "outputs": [
    {
     "name": "stdout",
     "output_type": "stream",
     "text": [
      "[15:08:57] < Warning >   Cannot read file __Question 9_1.iter. Statement is ignored.\n"
     ]
    }
   ],
   "source": [
    "logprob = models.loglogit(V_9_1,av_9_1,choice)\n",
    "biogeme = bio.BIOGEME (database, logprob)\n",
    "biogeme.modelName='Question 9_1'\n",
    "results_9_1 = biogeme.estimate()"
   ]
  },
  {
   "cell_type": "code",
   "execution_count": 36,
   "metadata": {},
   "outputs": [
    {
     "name": "stdout",
     "output_type": "stream",
     "text": [
      "                Value  Rob. Std err  Rob. t-test  Rob. p-value\n",
      "b_0_cycling -3.798182      0.026404  -143.847213           0.0\n",
      "b_0_driving -1.223659      0.019711   -62.080778           0.0\n",
      "b_0_pt      -0.501474      0.013372   -37.501166           0.0\n",
      "b_2         -0.171316      0.003359   -51.000954           0.0\n",
      "b_3         -5.311199      0.049513  -107.269809           0.0\n",
      "Final Loglikelihood: -74975.45789551054\n"
     ]
    }
   ],
   "source": [
    "# Get the results in a pandas table\n",
    "pandasResults = results_9_1.getEstimatedParameters()\n",
    "print(pandasResults)\n",
    "\n",
    "final_LL_9_1 = results_9_1.data.logLike\n",
    "print(f'Final Loglikelihood: {final_LL_9_1}')"
   ]
  },
  {
   "attachments": {},
   "cell_type": "markdown",
   "metadata": {},
   "source": [
    "### Function 2 (log utilities)"
   ]
  },
  {
   "cell_type": "code",
   "execution_count": 37,
   "metadata": {},
   "outputs": [],
   "source": [
    "b_0_cycling = Beta('b_0_cycling',0,None,None,0)\n",
    "b_0_driving = Beta('b_0_driving',0,None,None,0)\n",
    "b_0_pt = Beta('b_0_pt',0,None,None,0)\n",
    "\n",
    "b_2 = Beta('b_2',0,None,None,0)\n",
    "b_3 = Beta('b_3',0,None,None,0)\n",
    "\n",
    "EPSILON = 0.01\n",
    "\n",
    "V0 = b_0_cycling + b_3 * log(dur_cycling)\n",
    "V1 = b_0_driving + b_3 * log(dur_driving)+ b_2 * log(cost_driving_total + EPSILON)\n",
    "V2 = b_0_pt + b_3 * log(dur_pt_total) + b_2 * log(cost_transit + EPSILON)\n",
    "V3 = b_3 * log(dur_walking)\n",
    "\n",
    "V_9_2 = {0:V0, 1:V1, 2:V2, 3:V3}\n",
    "av_9_2 = {0:1, 1:1, 2:1, 3:1}"
   ]
  },
  {
   "cell_type": "code",
   "execution_count": 38,
   "metadata": {},
   "outputs": [
    {
     "name": "stdout",
     "output_type": "stream",
     "text": [
      "[15:09:06] < Warning >   Cannot read file __Question 9_2.iter. Statement is ignored.\n"
     ]
    }
   ],
   "source": [
    "logprob = models.loglogit(V_9_2,av_9_2,choice)\n",
    "biogeme = bio.BIOGEME (database, logprob)\n",
    "biogeme.modelName='Question 9_2'\n",
    "results_9_2 = biogeme.estimate()"
   ]
  },
  {
   "cell_type": "code",
   "execution_count": 39,
   "metadata": {},
   "outputs": [
    {
     "name": "stdout",
     "output_type": "stream",
     "text": [
      "                Value  Rob. Std err  Rob. t-test  Rob. p-value\n",
      "b_0_cycling -5.381949      0.035986  -149.555439           0.0\n",
      "b_0_driving -3.144925      0.030063  -104.612784           0.0\n",
      "b_0_pt      -1.445707      0.018449   -78.363482           0.0\n",
      "b_2         -0.030807      0.003303    -9.327236           0.0\n",
      "b_3         -3.204719      0.022288  -143.787858           0.0\n",
      "Final Loglikelihood: -78081.10284920775\n"
     ]
    }
   ],
   "source": [
    "# Get the results in a pandas table\n",
    "pandasResults = results_9_2.getEstimatedParameters()\n",
    "print(pandasResults)\n",
    "\n",
    "final_LL_9_2 = results_9_2.data.logLike\n",
    "print(f'Final Loglikelihood: {final_LL_9_2}')"
   ]
  },
  {
   "attachments": {},
   "cell_type": "markdown",
   "metadata": {},
   "source": [
    "# Question 10"
   ]
  },
  {
   "attachments": {},
   "cell_type": "markdown",
   "metadata": {},
   "source": [
    "### Function 1"
   ]
  },
  {
   "cell_type": "code",
   "execution_count": 40,
   "metadata": {},
   "outputs": [
    {
     "name": "stdout",
     "output_type": "stream",
     "text": [
      "Value of time: 31.002267605205727\n"
     ]
    }
   ],
   "source": [
    "VOT_9_1 = results_9_1.data.betaValues[4] / results_9_1.data.betaValues[3]\n",
    "print(f'Value of time: {VOT_9_1}')"
   ]
  },
  {
   "attachments": {},
   "cell_type": "markdown",
   "metadata": {},
   "source": [
    "Same for both alternatives because same specification"
   ]
  },
  {
   "attachments": {},
   "cell_type": "markdown",
   "metadata": {},
   "source": [
    "### Function 2"
   ]
  },
  {
   "cell_type": "code",
   "execution_count": 101,
   "metadata": {},
   "outputs": [
    {
     "name": "stdout",
     "output_type": "stream",
     "text": [
      "Value of time car: 660.050, pt: 427.484\n"
     ]
    }
   ],
   "source": [
    "# VOT_9_2 = results_9_2.data.betaValues[4] / results_9_2.data.betaValues[3]\n",
    "# print(f'Value of time: {VOT_9_2}')\n",
    "\n",
    "VOT_9_2_car = ((results_9_2.data.betaValues[4]/df[\"dur_driving\"])/(results_9_2.data.betaValues[3]/df[\"cost_driving_total\"])).mean()\n",
    "VOT_9_2_pt =((results_9_2.data.betaValues[4]/df[\"dur_pt_total\"])/(results_9_2.data.betaValues[3]/df[\"cost_transit\"])).mean()\n",
    "\n",
    "print(f'Value of time car: {VOT_9_2_car:.3f}, pt: {VOT_9_2_pt:.3f}')"
   ]
  },
  {
   "attachments": {},
   "cell_type": "markdown",
   "metadata": {},
   "source": [
    "Here specifications are different so we have two different VoT"
   ]
  },
  {
   "attachments": {},
   "cell_type": "markdown",
   "metadata": {},
   "source": [
    "# Question 11"
   ]
  },
  {
   "attachments": {},
   "cell_type": "markdown",
   "metadata": {},
   "source": [
    "### Function 1"
   ]
  },
  {
   "cell_type": "code",
   "execution_count": 42,
   "metadata": {},
   "outputs": [],
   "source": [
    "#Calculation of probabilities\n",
    "prob_0 = models.logit(V_9_1, av_9_1, 0)\n",
    "prob_1 = models.logit(V_9_1, av_9_1, 1)\n",
    "prob_2 = models.logit(V_9_1, av_9_1, 2)\n",
    "prob_3 = models.logit(V_9_1, av_9_1, 3)\n",
    "\n",
    "elasdir_0_time = Derive(prob_0,'dur_cycling') * dur_cycling / prob_0 \n",
    "elasdir_1_time = Derive(prob_1,'dur_driving') * dur_driving / prob_1 \n",
    "elasdir_2_time = Derive(prob_2,'dur_pt_total') * dur_pt_total / prob_2 \n",
    "elasdir_3_time = Derive(prob_3,'dur_walking') * dur_walking / prob_3 \n",
    "elasdir_1_cost = Derive(prob_1,'cost_driving_total') * cost_driving_total / prob_1 \n",
    "elasdir_2_cost = Derive(prob_2,'cost_transit') * cost_transit / prob_2 \n",
    "\n",
    "elastcross_1_time = Derive(prob_1,'dur_pt_total') * dur_pt_total / prob_1 \n",
    "elastcross_2_time = Derive(prob_2,'dur_driving') * dur_driving / prob_2 \n",
    "elastcross_1_cost = Derive(prob_1,'cost_transit') * cost_transit / prob_1 \n",
    "elastcross_2_cost = Derive(prob_2,'cost_driving_total') * cost_driving_total / prob_2 \n",
    "\n",
    "simulate_11_1 = {\n",
    "    'prob.0': prob_0,\n",
    "    'prob.1': prob_1,\n",
    "    'prob.2': prob_2,\n",
    "    'prob.3': prob_3,\n",
    "    'elasdir_0_time': elasdir_0_time,\n",
    "    'elasdir_1_time': elasdir_1_time,\n",
    "    'elasdir_2_time': elasdir_2_time,\n",
    "    'elasdir_3_time': elasdir_3_time,\n",
    "    'elasdir_1_cost': elasdir_1_cost,\n",
    "    'elasdir_2_cost': elasdir_2_cost,\n",
    "    'elascross_1_time': elastcross_1_time,\n",
    "    'elascross_2_time': elastcross_2_time,\n",
    "    'elascross_1_cost': elastcross_1_cost,\n",
    "    'elascross_2_cost': elastcross_2_cost\n",
    "}\n",
    "\n",
    "biosim = bio.BIOGEME(database, simulate_11_1)\n",
    "biosim.modelName = 'model1_directelasticity'\n",
    "\n",
    "# Perform the simulation\n",
    "simresults_11_1 = biosim.simulate(results_9_1.getBetaValues())"
   ]
  },
  {
   "cell_type": "code",
   "execution_count": 43,
   "metadata": {},
   "outputs": [
    {
     "name": "stdout",
     "output_type": "stream",
     "text": [
      "Elasticity of the share of alternative 0 with respect to travel time: -1.717 \n",
      "Elasticity of the share of alternative 1 with respect to travel time: -0.594 \n",
      "Elasticity of the share of alternative 2 with respect to travel time: -1.199 \n",
      "Elasticity of the share of alternative 3 with respect to travel time: -1.388 \n",
      "Elasticity of the share of alternative 1 with respect to travel cost: -0.093 \n",
      "Elasticity of the share of alternative 2 with respect to travel cost: -0.130 \n",
      "\n",
      "Elasticity of the share of alternative 1 with respect to travel time of pt: 0.743 \n",
      "Elasticity of the share of alternative 2 with respect to travel time of driving: 0.580 \n",
      "Elasticity of the share of alternative 1 with respect to travel cost of pt: 0.076 \n",
      "Elasticity of the share of alternative 2 with respect to travel cost driving: 0.094 \n",
      "\n"
     ]
    }
   ],
   "source": [
    "# Average Elast for the population\n",
    "avg_Elast_time_0 = sum(simresults_11_1['elasdir_0_time']*simresults_11_1['prob.0']/(simresults_11_1['prob.0'].sum()))\n",
    "avg_Elast_time_1 = sum(simresults_11_1['elasdir_1_time']*simresults_11_1['prob.1']/(simresults_11_1['prob.1'].sum()))\n",
    "avg_Elast_time_2 = sum(simresults_11_1['elasdir_2_time']*simresults_11_1['prob.2']/(simresults_11_1['prob.2'].sum()))\n",
    "avg_Elast_time_3 = sum(simresults_11_1['elasdir_3_time']*simresults_11_1['prob.3']/(simresults_11_1['prob.3'].sum()))\n",
    "avg_Elast_cost_1 = sum(simresults_11_1['elasdir_1_cost']*simresults_11_1['prob.1']/(simresults_11_1['prob.1'].sum()))\n",
    "avg_Elast_cost_2 = sum(simresults_11_1['elasdir_2_cost']*simresults_11_1['prob.2']/(simresults_11_1['prob.2'].sum()))\n",
    "\n",
    "print(\n",
    "f'Elasticity of the share of alternative 0 with respect to travel time: {avg_Elast_time_0:.3f} \\n'\n",
    "f'Elasticity of the share of alternative 1 with respect to travel time: {avg_Elast_time_1:.3f} \\n'\n",
    "f'Elasticity of the share of alternative 2 with respect to travel time: {avg_Elast_time_2:.3f} \\n'\n",
    "f'Elasticity of the share of alternative 3 with respect to travel time: {avg_Elast_time_3:.3f} \\n'\n",
    "f'Elasticity of the share of alternative 1 with respect to travel cost: {avg_Elast_cost_1:.3f} \\n'\n",
    "f'Elasticity of the share of alternative 2 with respect to travel cost: {avg_Elast_cost_2:.3f} \\n')\n",
    "\n",
    "# Average Elast for the population\n",
    "avg_Elastcross_time_1 = sum(simresults_11_1['elascross_1_time']*simresults_11_1['prob.1']/(simresults_11_1['prob.1'].sum()))\n",
    "avg_Elastcross_time_2 = sum(simresults_11_1['elascross_2_time']*simresults_11_1['prob.2']/(simresults_11_1['prob.2'].sum()))\n",
    "avg_Elastcross_cost_1 = sum(simresults_11_1['elascross_1_cost']*simresults_11_1['prob.1']/(simresults_11_1['prob.1'].sum()))\n",
    "avg_Elastcross_cost_2 = sum(simresults_11_1['elascross_2_cost']*simresults_11_1['prob.2']/(simresults_11_1['prob.2'].sum()))\n",
    "\n",
    "\n",
    "\n",
    "print(\n",
    "f'Elasticity of the share of alternative 1 with respect to travel time of pt: {avg_Elastcross_time_1:.3f} \\n'\n",
    "f'Elasticity of the share of alternative 2 with respect to travel time of driving: {avg_Elastcross_time_2:.3f} \\n'\n",
    "f'Elasticity of the share of alternative 1 with respect to travel cost of pt: {avg_Elastcross_cost_1:.3f} \\n'\n",
    "f'Elasticity of the share of alternative 2 with respect to travel cost driving: {avg_Elastcross_cost_2:.3f} \\n')"
   ]
  },
  {
   "attachments": {},
   "cell_type": "markdown",
   "metadata": {},
   "source": [
    "### Function 2"
   ]
  },
  {
   "cell_type": "code",
   "execution_count": 44,
   "metadata": {},
   "outputs": [],
   "source": [
    "#Calculation of probabilities\n",
    "prob_0 = models.logit(V_9_2, av_9_2, 0)\n",
    "prob_1 = models.logit(V_9_2, av_9_2, 1)\n",
    "prob_2 = models.logit(V_9_2, av_9_2, 2)\n",
    "prob_3 = models.logit(V_9_2, av_9_2, 3)\n",
    "\n",
    "elasdir_0_time = Derive(prob_0,'dur_cycling') * dur_cycling / prob_0 \n",
    "elasdir_1_time = Derive(prob_1,'dur_driving') * dur_driving / prob_1 \n",
    "elasdir_2_time = Derive(prob_2,'dur_pt_total') * dur_pt_total / prob_2 \n",
    "elasdir_3_time = Derive(prob_3,'dur_walking') * dur_walking / prob_3 \n",
    "elasdir_1_cost = Derive(prob_1,'cost_driving_total') * cost_driving_total / prob_1 \n",
    "elasdir_2_cost = Derive(prob_2,'cost_transit') * cost_transit / prob_2 \n",
    "\n",
    "elastcross_1_time = Derive(prob_1,'dur_pt_total') * dur_pt_total / prob_1 \n",
    "elastcross_2_time = Derive(prob_2,'dur_driving') * dur_driving / prob_2 \n",
    "elastcross_1_cost = Derive(prob_1,'cost_transit') * cost_transit / prob_1 \n",
    "elastcross_2_cost = Derive(prob_2,'cost_driving_total') * cost_driving_total / prob_2 \n",
    "\n",
    "simulate_11_2 = {\n",
    "    'prob.0': prob_0,\n",
    "    'prob.1': prob_1,\n",
    "    'prob.2': prob_2,\n",
    "    'prob.3': prob_3,\n",
    "    'elasdir_0_time': elasdir_0_time,\n",
    "    'elasdir_1_time': elasdir_1_time,\n",
    "    'elasdir_2_time': elasdir_2_time,\n",
    "    'elasdir_3_time': elasdir_3_time,\n",
    "    'elasdir_1_cost': elasdir_1_cost,\n",
    "    'elasdir_2_cost': elasdir_2_cost,\n",
    "    'elascross_1_time': elastcross_1_time,\n",
    "    'elascross_2_time': elastcross_2_time,\n",
    "    'elascross_1_cost': elastcross_1_cost,\n",
    "    'elascross_2_cost': elastcross_2_cost\n",
    "}\n",
    "\n",
    "biosim = bio.BIOGEME(database, simulate_11_2)\n",
    "biosim.modelName = 'model2_directelasticity'\n",
    "\n",
    "# Perform the simulation\n",
    "simresults_11_2 = biosim.simulate(results_9_2.getBetaValues())"
   ]
  },
  {
   "cell_type": "code",
   "execution_count": 45,
   "metadata": {},
   "outputs": [
    {
     "name": "stdout",
     "output_type": "stream",
     "text": [
      "Elasticity of the share of alternative 0 with respect to travel time: -3.045 \n",
      "Elasticity of the share of alternative 1 with respect to travel time: -1.473 \n",
      "Elasticity of the share of alternative 2 with respect to travel time: -1.614 \n",
      "Elasticity of the share of alternative 3 with respect to travel time: -2.339 \n",
      "Elasticity of the share of alternative 1 with respect to travel cost: -0.014 \n",
      "Elasticity of the share of alternative 2 with respect to travel cost: -0.010 \n",
      "\n",
      "Elasticity of the share of alternative 1 with respect to travel time of pt: 0.864 \n",
      "Elasticity of the share of alternative 2 with respect to travel time of driving: 1.081 \n",
      "Elasticity of the share of alternative 1 with respect to travel cost of pt: 0.006 \n",
      "Elasticity of the share of alternative 2 with respect to travel cost driving: 0.010 \n",
      "\n"
     ]
    }
   ],
   "source": [
    "# Average Elast for the population\n",
    "avg_Elast_time_0 = sum(simresults_11_2['elasdir_0_time']*simresults_11_2['prob.0']/(simresults_11_2['prob.0'].sum()))\n",
    "avg_Elast_time_1 = sum(simresults_11_2['elasdir_1_time']*simresults_11_2['prob.1']/(simresults_11_2['prob.1'].sum()))\n",
    "avg_Elast_time_2 = sum(simresults_11_2['elasdir_2_time']*simresults_11_2['prob.2']/(simresults_11_2['prob.2'].sum()))\n",
    "avg_Elast_time_3 = sum(simresults_11_2['elasdir_3_time']*simresults_11_2['prob.3']/(simresults_11_2['prob.3'].sum()))\n",
    "avg_Elast_cost_1 = sum(simresults_11_2['elasdir_1_cost']*simresults_11_2['prob.1']/(simresults_11_2['prob.1'].sum()))\n",
    "avg_Elast_cost_2 = sum(simresults_11_2['elasdir_2_cost']*simresults_11_2['prob.2']/(simresults_11_2['prob.2'].sum()))\n",
    "\n",
    "print(\n",
    "f'Elasticity of the share of alternative 0 with respect to travel time: {avg_Elast_time_0:.3f} \\n'\n",
    "f'Elasticity of the share of alternative 1 with respect to travel time: {avg_Elast_time_1:.3f} \\n'\n",
    "f'Elasticity of the share of alternative 2 with respect to travel time: {avg_Elast_time_2:.3f} \\n'\n",
    "f'Elasticity of the share of alternative 3 with respect to travel time: {avg_Elast_time_3:.3f} \\n'\n",
    "f'Elasticity of the share of alternative 1 with respect to travel cost: {avg_Elast_cost_1:.3f} \\n'\n",
    "f'Elasticity of the share of alternative 2 with respect to travel cost: {avg_Elast_cost_2:.3f} \\n')\n",
    "\n",
    "# Average Elast for the population\n",
    "avg_Elastcross_time_1 = sum(simresults_11_2['elascross_1_time']*simresults_11_2['prob.1']/(simresults_11_2['prob.1'].sum()))\n",
    "avg_Elastcross_time_2 = sum(simresults_11_2['elascross_2_time']*simresults_11_2['prob.2']/(simresults_11_2['prob.2'].sum()))\n",
    "avg_Elastcross_cost_1 = sum(simresults_11_2['elascross_1_cost']*simresults_11_2['prob.1']/(simresults_11_2['prob.1'].sum()))\n",
    "avg_Elastcross_cost_2 = sum(simresults_11_2['elascross_2_cost']*simresults_11_2['prob.2']/(simresults_11_2['prob.2'].sum()))\n",
    "\n",
    "\n",
    "\n",
    "print(\n",
    "f'Elasticity of the share of alternative 1 with respect to travel time of pt: {avg_Elastcross_time_1:.3f} \\n'\n",
    "f'Elasticity of the share of alternative 2 with respect to travel time of driving: {avg_Elastcross_time_2:.3f} \\n'\n",
    "f'Elasticity of the share of alternative 1 with respect to travel cost of pt: {avg_Elastcross_cost_1:.3f} \\n'\n",
    "f'Elasticity of the share of alternative 2 with respect to travel cost driving: {avg_Elastcross_cost_2:.3f} \\n')"
   ]
  },
  {
   "attachments": {},
   "cell_type": "markdown",
   "metadata": {},
   "source": [
    "# Question 12"
   ]
  },
  {
   "attachments": {},
   "cell_type": "markdown",
   "metadata": {},
   "source": [
    "### Function 1"
   ]
  },
  {
   "cell_type": "code",
   "execution_count": 47,
   "metadata": {},
   "outputs": [
    {
     "name": "stdout",
     "output_type": "stream",
     "text": [
      "Standard deviation: 0.1909984709559172 \n",
      "Min: 3.0801171313479446e-05 \n",
      "Max: 0.9978948965312956 \n",
      "Median: 0.31531609763731605 \n",
      "Percentile 10%: 0.15477389454613039 \n",
      "Percentile 90%: 0.6214862429082637 \n",
      "\n"
     ]
    }
   ],
   "source": [
    "print(\n",
    "    f\"Standard deviation: {simresults_11_1['prob.2'].std()} \\n\"\n",
    "    f\"Min: {simresults_11_1['prob.2'].min()} \\n\"\n",
    "    f\"Max: {simresults_11_1['prob.2'].max()} \\n\"\n",
    "    f\"Median: {simresults_11_1['prob.2'].quantile(0.5)} \\n\"\n",
    "    f\"Percentile 10%: {simresults_11_1['prob.2'].quantile(0.1)} \\n\"\n",
    "    f\"Percentile 90%: {simresults_11_1['prob.2'].quantile(0.9)} \\n\"\n",
    ")"
   ]
  },
  {
   "cell_type": "code",
   "execution_count": 102,
   "metadata": {},
   "outputs": [
    {
     "data": {
      "image/png": "[encoded data removed]",
      "text/plain": [
       "<Figure size 432x288 with 1 Axes>"
      ]
     },
     "metadata": {
      "needs_background": "light"
     },
     "output_type": "display_data"
    }
   ],
   "source": [
    "plt.hist(simresults_11_1['elasdir_2_time'], bins=50, density=True)\n",
    "plt.xlabel('Elasticity of demand for travel time')\n",
    "plt.ylabel('Probability of choosing public transport')\n",
    "plt.title('Histogram of elasticity for public transport')\n",
    "plt.show()"
   ]
  },
  {
   "attachments": {},
   "cell_type": "markdown",
   "metadata": {},
   "source": [
    "### Function 2"
   ]
  },
  {
   "cell_type": "code",
   "execution_count": null,
   "metadata": {},
   "outputs": [
    {
     "name": "stdout",
     "output_type": "stream",
     "text": [
      "Standard deviation: 0.22503244452704896 \n",
      "Min: 8.45717680983052e-09 \n",
      "Max: 0.9979039397112144 \n",
      "Median: 0.2950320580113267 \n",
      "Percentile 10%: 0.10642164475209079 \n",
      "Percentile 90%: 0.7177318020632331 \n",
      "\n"
     ]
    }
   ],
   "source": [
    "print(\n",
    "    f\"Standard deviation: {simresults_11_2['prob.2'].std()} \\n\"\n",
    "    f\"Min: {simresults_11_2['prob.2'].min()} \\n\"\n",
    "    f\"Max: {simresults_11_2['prob.2'].max()} \\n\"\n",
    "    f\"Median: {simresults_11_2['prob.2'].quantile(0.5)} \\n\"\n",
    "    f\"Percentile 10%: {simresults_11_2['prob.2'].quantile(0.1)} \\n\"\n",
    "    f\"Percentile 90%: {simresults_11_2['prob.2'].quantile(0.9)} \\n\"\n",
    ")"
   ]
  },
  {
   "cell_type": "code",
   "execution_count": 103,
   "metadata": {},
   "outputs": [
    {
     "data": {
      "image/png": "[encoded data removed]",
      "text/plain": [
       "<Figure size 432x288 with 1 Axes>"
      ]
     },
     "metadata": {
      "needs_background": "light"
     },
     "output_type": "display_data"
    }
   ],
   "source": [
    "plt.hist(simresults_11_2['elasdir_2_time'], bins=50, density=True)\n",
    "plt.xlabel('Elasticity of demand for travel time')\n",
    "plt.ylabel('Probability of choosing public transport')\n",
    "plt.title('Histogram of elasticity for public transport')\n",
    "plt.show()"
   ]
  },
  {
   "attachments": {},
   "cell_type": "markdown",
   "metadata": {},
   "source": [
    "# Question 13"
   ]
  },
  {
   "attachments": {},
   "cell_type": "markdown",
   "metadata": {},
   "source": [
    "### Function 1"
   ]
  },
  {
   "cell_type": "code",
   "execution_count": 73,
   "metadata": {},
   "outputs": [
    {
     "data": {
      "text/plain": [
       "<function matplotlib.pyplot.show(close=None, block=None)>"
      ]
     },
     "execution_count": 73,
     "metadata": {},
     "output_type": "execute_result"
    },
    {
     "data": {
      "image/png": "[encoded data removed]",
      "text/plain": [
       "<Figure size 432x288 with 1 Axes>"
      ]
     },
     "metadata": {
      "needs_background": "light"
     },
     "output_type": "display_data"
    }
   ],
   "source": [
    "plt.scatter(df['dur_pt_total'],simresults_11_1['elasdir_2_time'])\n",
    "plt.xlabel('Travel time for public transport')\n",
    "plt.ylabel('Elasticity of public transport with respect to travel time')\n",
    "plt.title('Direct elasticity-to-time for public transport')\n",
    "plt.show"
   ]
  },
  {
   "cell_type": "code",
   "execution_count": 75,
   "metadata": {},
   "outputs": [
    {
     "data": {
      "text/plain": [
       "<function matplotlib.pyplot.show(close=None, block=None)>"
      ]
     },
     "execution_count": 75,
     "metadata": {},
     "output_type": "execute_result"
    },
    {
     "data": {
      "image/png": "[encoded data removed]",
      "text/plain": [
       "<Figure size 432x288 with 1 Axes>"
      ]
     },
     "metadata": {
      "needs_background": "light"
     },
     "output_type": "display_data"
    }
   ],
   "source": [
    "plt.scatter(df['cost_transit'],simresults_11_1['elasdir_2_cost'])\n",
    "plt.xlabel('Travel cost for public transport')\n",
    "plt.ylabel('Elasticity of public transport with respect to travel cost')\n",
    "plt.title('Direct elasticity-to-cost for public transport')\n",
    "plt.show"
   ]
  },
  {
   "attachments": {},
   "cell_type": "markdown",
   "metadata": {},
   "source": [
    "### Function 2"
   ]
  },
  {
   "cell_type": "code",
   "execution_count": 74,
   "metadata": {},
   "outputs": [
    {
     "data": {
      "text/plain": [
       "<function matplotlib.pyplot.show(close=None, block=None)>"
      ]
     },
     "execution_count": 74,
     "metadata": {},
     "output_type": "execute_result"
    },
    {
     "data": {
      "image/png": "[encoded data removed]",
      "text/plain": [
       "<Figure size 432x288 with 1 Axes>"
      ]
     },
     "metadata": {
      "needs_background": "light"
     },
     "output_type": "display_data"
    }
   ],
   "source": [
    "plt.scatter(df['dur_pt_total'],simresults_11_2['elasdir_2_time'])\n",
    "plt.xlabel('Travel time for public transport')\n",
    "plt.ylabel('Elasticity of public transport with respect to travel time')\n",
    "plt.title('Direct elasticity-to-time for public transport')\n",
    "plt.show"
   ]
  },
  {
   "cell_type": "code",
   "execution_count": 76,
   "metadata": {},
   "outputs": [
    {
     "data": {
      "text/plain": [
       "<function matplotlib.pyplot.show(close=None, block=None)>"
      ]
     },
     "execution_count": 76,
     "metadata": {},
     "output_type": "execute_result"
    },
    {
     "data": {
      "image/png": "[encoded data removed]",
      "text/plain": [
       "<Figure size 432x288 with 1 Axes>"
      ]
     },
     "metadata": {
      "needs_background": "light"
     },
     "output_type": "display_data"
    }
   ],
   "source": [
    "plt.scatter(df['cost_transit'],simresults_11_2['elasdir_2_cost'])\n",
    "plt.xlabel('Travel cost for public transport')\n",
    "plt.ylabel('Elasticity of public transport with respect to travel cost')\n",
    "plt.title('Direct elasticity-to-cost for public transport')\n",
    "plt.show"
   ]
  }
 ],
 "metadata": {
  "kernelspec": {
   "display_name": "base",
   "language": "python",
   "name": "python3"
  },
  "language_info": {
   "codemirror_mode": {
    "name": "ipython",
    "version": 3
   },
   "file_extension": ".py",
   "mimetype": "text/x-python",
   "name": "python",
   "nbconvert_exporter": "python",
   "pygments_lexer": "ipython3",
   "version": "3.7.3"
  },
  "orig_nbformat": 4
 },
 "nbformat": 4,
 "nbformat_minor": 2
}
